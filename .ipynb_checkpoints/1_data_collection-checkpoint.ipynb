{
 "cells": [
  {
   "cell_type": "markdown",
   "metadata": {},
   "source": [
    "# 1.1 Imports"
   ]
  },
  {
   "cell_type": "code",
   "execution_count": 55,
   "metadata": {},
   "outputs": [],
   "source": [
    "# import libraries\n",
    "import numpy as np\n",
    "import pandas as pd\n",
    "\n",
    "import urllib\n",
    "from selenium import webdriver\n",
    "from selenium.webdriver.common.keys import Keys\n",
    "\n",
    "from PIL import Image\n",
    "import re"
   ]
  },
  {
   "cell_type": "code",
   "execution_count": 56,
   "metadata": {},
   "outputs": [],
   "source": [
    "# ignore warnings\n",
    "import warnings\n",
    "warnings.filterwarnings('ignore')"
   ]
  },
  {
   "cell_type": "code",
   "execution_count": 57,
   "metadata": {},
   "outputs": [],
   "source": [
    "# open web browser\n",
    "driver = webdriver.Chrome('C:/Users/Leung/Desktop/chromedriver.exe')"
   ]
  },
  {
   "cell_type": "code",
   "execution_count": 58,
   "metadata": {},
   "outputs": [],
   "source": [
    "# navigate webpage\n",
    "driver.get('https://www.calvinklein.com/hk/en/women-apparel-activewear/')"
   ]
  },
  {
   "cell_type": "markdown",
   "metadata": {},
   "source": [
    "# 1.2 Extracting Links"
   ]
  },
  {
   "cell_type": "code",
   "execution_count": 59,
   "metadata": {},
   "outputs": [],
   "source": [
    "# create text file\n",
    "f = open(\"activewear_links.txt\", \"x\")"
   ]
  },
  {
   "cell_type": "code",
   "execution_count": 60,
   "metadata": {},
   "outputs": [],
   "source": [
    "# get all product elements\n",
    "\n",
    "product_elements = driver.find_elements_by_xpath('//a[@class=\"name-link\"]')"
   ]
  },
  {
   "cell_type": "code",
   "execution_count": 62,
   "metadata": {
    "scrolled": true
   },
   "outputs": [
    {
     "name": "stdout",
     "output_type": "stream",
     "text": [
      "https://www.calvinklein.com/hk/en/lace-lightwear-jacket-4WT1O553.html?dwvar_4WT1O553_color=BRIGHT%20WHITE\n",
      "https://www.calvinklein.com/hk/en/back-v-lace-short-sleeve-dress-4WS1D981.html?dwvar_4WS1D981_color=CK%20BLACK\n",
      "https://www.calvinklein.com/hk/en/lace-fitsense-mesh-hem-leggings-4WT1L784.html?dwvar_4WT1L784_color=CK%20BLACK\n",
      "https://www.calvinklein.com/hk/en/logo-short-sleeve-tee-4WT1K131.html?dwvar_4WT1K131_color=BRIGHT%20WHITE\n",
      "https://www.calvinklein.com/hk/en/active-icon-front-zip-sports-bra-4WS1K131.html?dwvar_4WS1K131_color=CK%20BLACK\n",
      "https://www.calvinklein.com/hk/en/active-icon-7%2F8-fit-sense-leggings-4WS1L649.html?dwvar_4WS1L649_color=CK%20BLACK\n",
      "https://www.calvinklein.com/hk/en/active-icon-hooded-sweat-jacket-4WS1J474.html?dwvar_4WS1J474_color=CK%20BLACK\n",
      "https://www.calvinklein.com/hk/en/ck-one-tanga-bikini-KW01435.html?dwvar_KW01435_color=BLACK%20CUT%20OUT%20PRINT\n",
      "https://www.calvinklein.com/hk/en/active-icon-full-length-all-over-print-leggings-4WS1L650.html?dwvar_4WS1L650_color=CK%20BLK%20CK%20AOP\n",
      "https://www.calvinklein.com/hk/en/ck-one-bralette-KW01434.html?dwvar_KW01434_color=BLACK%20CUT%20OUT%20PRINT\n"
     ]
    }
   ],
   "source": [
    "# get all product links\n",
    "\n",
    "f = open(\"activewear_links.txt\", \"a\")\n",
    "\n",
    "for product_element in product_elements[:10]:\n",
    "\n",
    "    print(product_element.get_attribute('href'))\n",
    "\n",
    "    f.write(product_element.get_attribute('href'))\n",
    "    f.write('\\n')\n",
    "\n",
    "f.close()"
   ]
  },
  {
   "cell_type": "code",
   "execution_count": 63,
   "metadata": {},
   "outputs": [
    {
     "data": {
      "text/plain": [
       "['https://www.calvinklein.com/hk/en/lace-lightwear-jacket-4WT1O553.html?dwvar_4WT1O553_color=BRIGHT%20WHITE',\n",
       " 'https://www.calvinklein.com/hk/en/back-v-lace-short-sleeve-dress-4WS1D981.html?dwvar_4WS1D981_color=CK%20BLACK',\n",
       " 'https://www.calvinklein.com/hk/en/lace-fitsense-mesh-hem-leggings-4WT1L784.html?dwvar_4WT1L784_color=CK%20BLACK',\n",
       " 'https://www.calvinklein.com/hk/en/logo-short-sleeve-tee-4WT1K131.html?dwvar_4WT1K131_color=BRIGHT%20WHITE',\n",
       " 'https://www.calvinklein.com/hk/en/active-icon-front-zip-sports-bra-4WS1K131.html?dwvar_4WS1K131_color=CK%20BLACK',\n",
       " 'https://www.calvinklein.com/hk/en/active-icon-7%2F8-fit-sense-leggings-4WS1L649.html?dwvar_4WS1L649_color=CK%20BLACK',\n",
       " 'https://www.calvinklein.com/hk/en/active-icon-hooded-sweat-jacket-4WS1J474.html?dwvar_4WS1J474_color=CK%20BLACK',\n",
       " 'https://www.calvinklein.com/hk/en/ck-one-tanga-bikini-KW01435.html?dwvar_KW01435_color=BLACK%20CUT%20OUT%20PRINT',\n",
       " 'https://www.calvinklein.com/hk/en/active-icon-full-length-all-over-print-leggings-4WS1L650.html?dwvar_4WS1L650_color=CK%20BLK%20CK%20AOP',\n",
       " 'https://www.calvinklein.com/hk/en/ck-one-bralette-KW01434.html?dwvar_KW01434_color=BLACK%20CUT%20OUT%20PRINT']"
      ]
     },
     "execution_count": 63,
     "metadata": {},
     "output_type": "execute_result"
    }
   ],
   "source": [
    "# load all links\n",
    "\n",
    "links = []\n",
    "f = open('activewear_links.txt','r')\n",
    "for link in f.read().split():\n",
    "    links.append(link)\n",
    "links"
   ]
  },
  {
   "cell_type": "markdown",
   "metadata": {},
   "source": [
    "# 1.3 Extracting Product Details"
   ]
  },
  {
   "cell_type": "code",
   "execution_count": 64,
   "metadata": {},
   "outputs": [],
   "source": [
    "# testing\n",
    "testing_link = 'https://www.calvinklein.com/hk/en/lace-lightwear-jacket-4WT1O553.html?dwvar_4WT1O553_color=BRIGHT%20WHITE'"
   ]
  },
  {
   "cell_type": "code",
   "execution_count": 65,
   "metadata": {},
   "outputs": [],
   "source": [
    "# navigate webpage\n",
    "driver.get(testing_link)"
   ]
  },
  {
   "cell_type": "code",
   "execution_count": 66,
   "metadata": {},
   "outputs": [],
   "source": [
    "# get product name\n",
    "\n",
    "name = driver.find_element_by_tag_name('h1')\n",
    "name = name.text"
   ]
  },
  {
   "cell_type": "code",
   "execution_count": 67,
   "metadata": {},
   "outputs": [
    {
     "data": {
      "text/plain": [
       "'LACE LIGHTWEAR JACKET'"
      ]
     },
     "execution_count": 67,
     "metadata": {},
     "output_type": "execute_result"
    }
   ],
   "source": [
    "name"
   ]
  },
  {
   "cell_type": "code",
   "execution_count": 71,
   "metadata": {},
   "outputs": [],
   "source": [
    "# get product price\n",
    "\n",
    "price = driver.find_element_by_xpath('//span[@class=\"price-standard\"]')\n",
    "price = price.text"
   ]
  },
  {
   "cell_type": "code",
   "execution_count": 72,
   "metadata": {},
   "outputs": [
    {
     "data": {
      "text/plain": [
       "'HKD 1,290.00'"
      ]
     },
     "execution_count": 72,
     "metadata": {},
     "output_type": "execute_result"
    }
   ],
   "source": [
    "price"
   ]
  },
  {
   "cell_type": "code",
   "execution_count": 74,
   "metadata": {},
   "outputs": [],
   "source": [
    "# size\n",
    "img_width,img_height = 300,300\n",
    "\n",
    "# get all images\n",
    "images = driver.find_elements_by_xpath('//img[@class=\"primary-image cloudzoom\"]')\n",
    "\n",
    "# product image at index 0\n",
    "img = images[0]\n",
    "\n",
    "# 'src' = get image source\n",
    "src = img.get_attribute('src')\n",
    "\n",
    "# download image\n",
    "urllib.request.urlretrieve(src, f'image/{name}.png')\n",
    "\n",
    "# resize image (smaller size)\n",
    "ori_img = Image.open(f'image/{name}.png')\n",
    "resize_img = ori_img.resize((img_width,img_height))\n",
    "resize_img.save(f'image/{name}.png')\n",
    "\n",
    "img_file = f'image/{name}.png'"
   ]
  },
  {
   "cell_type": "code",
   "execution_count": null,
   "metadata": {},
   "outputs": [],
   "source": []
  },
  {
   "cell_type": "code",
   "execution_count": null,
   "metadata": {},
   "outputs": [],
   "source": []
  },
  {
   "cell_type": "code",
   "execution_count": null,
   "metadata": {},
   "outputs": [],
   "source": [
    "# END"
   ]
  }
 ],
 "metadata": {
  "kernelspec": {
   "display_name": "Python 3",
   "language": "python",
   "name": "python3"
  },
  "language_info": {
   "codemirror_mode": {
    "name": "ipython",
    "version": 3
   },
   "file_extension": ".py",
   "mimetype": "text/x-python",
   "name": "python",
   "nbconvert_exporter": "python",
   "pygments_lexer": "ipython3",
   "version": "3.8.5"
  }
 },
 "nbformat": 4,
 "nbformat_minor": 4
}
