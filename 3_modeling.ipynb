{
 "cells": [
  {
   "cell_type": "markdown",
   "metadata": {},
   "source": [
    "# 3.1 Imports"
   ]
  },
  {
   "cell_type": "code",
   "execution_count": 9,
   "metadata": {},
   "outputs": [],
   "source": [
    "# import libraries\n",
    "import numpy as np\n",
    "import pandas as pd\n",
    "\n",
    "import urllib\n",
    "from selenium import webdriver\n",
    "from selenium.webdriver.chrome.options import Options\n",
    "from selenium.webdriver.common.keys import Keys\n",
    "\n",
    "import time\n",
    "from PIL import Image\n",
    "\n",
    "from sklearn.metrics.pairwise import pairwise_distances\n",
    "\n",
    "import tensorflow as tf\n",
    "from tensorflow import keras\n",
    "from tensorflow.keras import Model\n",
    "from tensorflow.keras.models import load_model\n",
    "from tensorflow.keras.applications.resnet50 import ResNet50\n",
    "from tensorflow.keras.preprocessing import image\n",
    "from tensorflow.keras.applications.resnet50 import preprocess_input, decode_predictions"
   ]
  },
  {
   "cell_type": "code",
   "execution_count": 10,
   "metadata": {},
   "outputs": [],
   "source": [
    "# ignore warnings\n",
    "import warnings\n",
    "warnings.filterwarnings('ignore')"
   ]
  },
  {
   "cell_type": "code",
   "execution_count": 11,
   "metadata": {},
   "outputs": [],
   "source": [
    "# create function\n",
    "# open web browser\n",
    "\n",
    "def configure_driver():\n",
    "    # incognito window\n",
    "    chrome_options = Options()\n",
    "    chrome_options.add_argument(\"--incognito\")\n",
    "    \n",
    "    # add the argument and make the browser Headless.\n",
    "    # chrome_options.add_argument(\"--headless\")\n",
    "\n",
    "    # open web browser\n",
    "    driver = webdriver.Chrome('/Users/abrahamleung/Documents/chromedriver', options=chrome_options)\n",
    "    return driver"
   ]
  },
  {
   "cell_type": "code",
   "execution_count": 12,
   "metadata": {},
   "outputs": [],
   "source": [
    "# list of categories\n",
    "categories = [\n",
    "    'activewear',\n",
    "    'jackets',\n",
    "    'sweatshirts-hoodies'\n",
    "]"
   ]
  },
  {
   "cell_type": "code",
   "execution_count": 24,
   "metadata": {},
   "outputs": [],
   "source": [
    "# load data\n",
    "df = pd.read_csv('data/activewear.csv')"
   ]
  },
  {
   "cell_type": "code",
   "execution_count": 25,
   "metadata": {},
   "outputs": [
    {
     "output_type": "execute_result",
     "data": {
      "text/plain": [
       "                                              name       price  \\\n",
       "0                              CK ONE TANGA BIKINI  HKD 392.00   \n",
       "1                                  CK ONE BRALETTE  HKD 392.00   \n",
       "2                         ACTIVE ICON WOVEN SHORTS  HKD 413.00   \n",
       "3  ACTIVE ICON FULL LENGTH ALL-OVER PRINT LEGGINGS  HKD 483.00   \n",
       "4                            LACE LIGHTWEAR JACKET  HKD 903.00   \n",
       "\n",
       "                                            img_file  \\\n",
       "0                      image/CK ONE TANGA BIKINI.png   \n",
       "1                          image/CK ONE BRALETTE.png   \n",
       "2                 image/ACTIVE ICON WOVEN SHORTS.png   \n",
       "3  image/ACTIVE ICON FULL LENGTH ALL-OVER PRINT L...   \n",
       "4                    image/LACE LIGHTWEAR JACKET.png   \n",
       "\n",
       "                                                 url  num_price  \\\n",
       "0  https://www.calvinklein.com/hk/en/ck-one-tanga...      392.0   \n",
       "1  https://www.calvinklein.com/hk/en/ck-one-brale...      392.0   \n",
       "2  https://www.calvinklein.com/hk/en/active-icon-...      413.0   \n",
       "3  https://www.calvinklein.com/hk/en/active-icon-...      483.0   \n",
       "4  https://www.calvinklein.com/hk/en/lace-lightwe...      903.0   \n",
       "\n",
       "                 color   apparel                     key_words  \n",
       "0  BLACK CUT OUT PRINT    BIKINI    BLACK CUT OUT PRINT BIKINI  \n",
       "1  BLACK CUT OUT PRINT  BRALETTE  BLACK CUT OUT PRINT BRALETTE  \n",
       "2      RASPBERRY BLUSH    SHORTS        RASPBERRY BLUSH SHORTS  \n",
       "3        CK BLK CK AOP  LEGGINGS        CK BLK CK AOP LEGGINGS  \n",
       "4         BRIGHT WHITE    JACKET           BRIGHT WHITE JACKET  "
      ],
      "text/html": "<div>\n<style scoped>\n    .dataframe tbody tr th:only-of-type {\n        vertical-align: middle;\n    }\n\n    .dataframe tbody tr th {\n        vertical-align: top;\n    }\n\n    .dataframe thead th {\n        text-align: right;\n    }\n</style>\n<table border=\"1\" class=\"dataframe\">\n  <thead>\n    <tr style=\"text-align: right;\">\n      <th></th>\n      <th>name</th>\n      <th>price</th>\n      <th>img_file</th>\n      <th>url</th>\n      <th>num_price</th>\n      <th>color</th>\n      <th>apparel</th>\n      <th>key_words</th>\n    </tr>\n  </thead>\n  <tbody>\n    <tr>\n      <th>0</th>\n      <td>CK ONE TANGA BIKINI</td>\n      <td>HKD 392.00</td>\n      <td>image/CK ONE TANGA BIKINI.png</td>\n      <td>https://www.calvinklein.com/hk/en/ck-one-tanga...</td>\n      <td>392.0</td>\n      <td>BLACK CUT OUT PRINT</td>\n      <td>BIKINI</td>\n      <td>BLACK CUT OUT PRINT BIKINI</td>\n    </tr>\n    <tr>\n      <th>1</th>\n      <td>CK ONE BRALETTE</td>\n      <td>HKD 392.00</td>\n      <td>image/CK ONE BRALETTE.png</td>\n      <td>https://www.calvinklein.com/hk/en/ck-one-brale...</td>\n      <td>392.0</td>\n      <td>BLACK CUT OUT PRINT</td>\n      <td>BRALETTE</td>\n      <td>BLACK CUT OUT PRINT BRALETTE</td>\n    </tr>\n    <tr>\n      <th>2</th>\n      <td>ACTIVE ICON WOVEN SHORTS</td>\n      <td>HKD 413.00</td>\n      <td>image/ACTIVE ICON WOVEN SHORTS.png</td>\n      <td>https://www.calvinklein.com/hk/en/active-icon-...</td>\n      <td>413.0</td>\n      <td>RASPBERRY BLUSH</td>\n      <td>SHORTS</td>\n      <td>RASPBERRY BLUSH SHORTS</td>\n    </tr>\n    <tr>\n      <th>3</th>\n      <td>ACTIVE ICON FULL LENGTH ALL-OVER PRINT LEGGINGS</td>\n      <td>HKD 483.00</td>\n      <td>image/ACTIVE ICON FULL LENGTH ALL-OVER PRINT L...</td>\n      <td>https://www.calvinklein.com/hk/en/active-icon-...</td>\n      <td>483.0</td>\n      <td>CK BLK CK AOP</td>\n      <td>LEGGINGS</td>\n      <td>CK BLK CK AOP LEGGINGS</td>\n    </tr>\n    <tr>\n      <th>4</th>\n      <td>LACE LIGHTWEAR JACKET</td>\n      <td>HKD 903.00</td>\n      <td>image/LACE LIGHTWEAR JACKET.png</td>\n      <td>https://www.calvinklein.com/hk/en/lace-lightwe...</td>\n      <td>903.0</td>\n      <td>BRIGHT WHITE</td>\n      <td>JACKET</td>\n      <td>BRIGHT WHITE JACKET</td>\n    </tr>\n  </tbody>\n</table>\n</div>"
     },
     "metadata": {},
     "execution_count": 25
    }
   ],
   "source": [
    "df.head()"
   ]
  },
  {
   "cell_type": "code",
   "execution_count": 26,
   "metadata": {},
   "outputs": [
    {
     "output_type": "execute_result",
     "data": {
      "text/plain": [
       "12"
      ]
     },
     "metadata": {},
     "execution_count": 26
    }
   ],
   "source": [
    "len(df)"
   ]
  },
  {
   "source": [
    "# 3.2 Amazon Search Engine Setup"
   ],
   "cell_type": "markdown",
   "metadata": {}
  },
  {
   "cell_type": "code",
   "execution_count": 11,
   "metadata": {},
   "outputs": [],
   "source": [
    "# open web browser\n",
    "driver = configure_driver()"
   ]
  },
  {
   "cell_type": "code",
   "execution_count": 12,
   "metadata": {},
   "outputs": [],
   "source": [
    "# search engine\n",
    "search_engine = 'https://www.amazon.com/?currency=HKD&language=en_US'"
   ]
  },
  {
   "cell_type": "code",
   "execution_count": 13,
   "metadata": {},
   "outputs": [],
   "source": [
    "# input website\n",
    "driver.get(search_engine)\n",
    "\n",
    "# may need time sleep\n",
    "time.sleep(0.5)"
   ]
  },
  {
   "cell_type": "code",
   "execution_count": 18,
   "metadata": {},
   "outputs": [],
   "source": [
    "# Choose HKD\n",
    "\n",
    "# select option\n",
    "option = driver.find_element_by_id('icp-touch-link-cop')\n",
    "option.click()\n",
    "\n",
    "# may need time sleep\n",
    "time.sleep(0.5)\n",
    "\n",
    "# select currency setting\n",
    "currency = driver.find_element_by_xpath('//span[@class=\"a-button-inner\"]')\n",
    "currency.click()\n",
    "\n",
    "# select hkd as currency\n",
    "hkd = driver.find_element_by_xpath('//li[@class=\"a-dropdown-item\"]/a[contains(text(), \"Hong Kong Dollar\")]')\n",
    "hkd.click()\n",
    "\n",
    "# save change\n",
    "save = driver.find_element_by_id('icp-btn-save')\n",
    "save.click()\n",
    "\n",
    "# may need time sleep\n",
    "time.sleep(0.5)"
   ]
  },
  {
   "cell_type": "code",
   "execution_count": 19,
   "metadata": {},
   "outputs": [],
   "source": [
    "# select 'women's fashion' as department\n",
    "department = driver.find_element_by_xpath('//select[@class=\"nav-search-dropdown searchSelect nav-progressive-attrubute nav-progressive-search-dropdown\"]/option[contains(text(), \"Women\\'s Fashion\")]')\n",
    "department.click()\n",
    "\n",
    "# may need time sleep\n",
    "time.sleep(0.1)"
   ]
  },
  {
   "cell_type": "code",
   "execution_count": 6,
   "metadata": {},
   "outputs": [],
   "source": [
    "# (unsuccessful) create function\n",
    "# driver cannot serve as a variable\n",
    "# it means the driver cannot be input nor output through a function\n",
    "# Amazon search engine setup\n",
    "\n",
    "def amazon_setup():\n",
    "\n",
    "    # open web browser\n",
    "    driver = configure_driver()\n",
    "\n",
    "    # search engine\n",
    "    search_engine = 'https://www.amazon.com/?currency=HKD&language=en_US'\n",
    "\n",
    "    # input website\n",
    "    driver.get(search_engine)\n",
    "\n",
    "    # may need time sleep\n",
    "    time.sleep(0.5)\n",
    "\n",
    "    # Choose HKD\n",
    "\n",
    "    # select option\n",
    "    option = driver.find_element_by_id('icp-touch-link-cop')\n",
    "    option.click()\n",
    "\n",
    "    # may need time sleep\n",
    "    time.sleep(0.5)\n",
    "\n",
    "    # select currency setting\n",
    "    currency = driver.find_element_by_xpath('//span[@class=\"a-button-inner\"]')\n",
    "    currency.click()\n",
    "\n",
    "    # select hkd as currency\n",
    "    hkd = driver.find_element_by_xpath(\n",
    "        '//li[@class=\"a-dropdown-item\"]/a[contains(text(), \"Hong Kong Dollar\")]'\n",
    "    )\n",
    "    hkd.click()\n",
    "\n",
    "    # save change\n",
    "    save = driver.find_element_by_id('icp-btn-save')\n",
    "    save.click()\n",
    "\n",
    "    # may need time sleep\n",
    "    time.sleep(0.5)\n",
    "\n",
    "    # select 'women's fashion' as department\n",
    "    department = driver.find_element_by_xpath(\n",
    "        '//select[@class=\"nav-search-dropdown searchSelect nav-progressive-attrubute nav-progressive-search-dropdown\"]/option[contains(text(), \"Women\\'s Fashion\")]'\n",
    "    )\n",
    "    department.click()\n",
    "\n",
    "    # may need time sleep\n",
    "    time.sleep(0.1)\n",
    "    \n",
    "    return driver"
   ]
  },
  {
   "source": [
    "# 3.3 Scraping of Every Link"
   ],
   "cell_type": "markdown",
   "metadata": {}
  },
  {
   "cell_type": "code",
   "execution_count": 31,
   "metadata": {},
   "outputs": [],
   "source": [
    "# testing\n",
    "n = 0\n",
    "\n",
    "key_words = df['key_words'].iloc[n]"
   ]
  },
  {
   "cell_type": "code",
   "execution_count": 33,
   "metadata": {},
   "outputs": [
    {
     "output_type": "execute_result",
     "data": {
      "text/plain": [
       "'BLACK CUT OUT PRINT BIKINI'"
      ]
     },
     "metadata": {},
     "execution_count": 33
    }
   ],
   "source": [
    "key_words"
   ]
  },
  {
   "cell_type": "code",
   "execution_count": 21,
   "metadata": {},
   "outputs": [],
   "source": [
    "# input search item\n",
    "\n",
    "search_bar = driver.find_element_by_id('twotabsearchtextbox')\n",
    "search_bar.send_keys(key_words)\n",
    "search_bar.send_keys(Keys.ENTER)\n",
    "\n",
    "# may need time sleep\n",
    "time.sleep(0.5)"
   ]
  },
  {
   "cell_type": "code",
   "execution_count": 22,
   "metadata": {},
   "outputs": [],
   "source": [
    "# get links\n",
    "\n",
    "links = []\n",
    "link_paths = driver.find_elements_by_xpath('//div/h2/a[@class=\"a-link-normal a-text-normal\"]')\n",
    "for link in link_paths:\n",
    "    x = link.get_attribute('href')\n",
    "    links.append(x)"
   ]
  },
  {
   "cell_type": "code",
   "execution_count": 23,
   "metadata": {},
   "outputs": [
    {
     "output_type": "execute_result",
     "data": {
      "text/plain": [
       "48"
      ]
     },
     "metadata": {},
     "execution_count": 23
    }
   ],
   "source": [
    "# no of links can be more than 50\n",
    "len(links)"
   ]
  },
  {
   "cell_type": "code",
   "execution_count": 24,
   "metadata": {
    "scrolled": true
   },
   "outputs": [
    {
     "output_type": "execute_result",
     "data": {
      "text/plain": [
       "['https://www.amazon.com/CUPSHE-Womens-Floral-Halter-Swimsuit/dp/B07S223TYL/ref=sr_1_1?dchild=1&keywords=black+cutout+print+bikini&qid=1624866037&s=fashion-womens-intl-ship&sr=1-1',\n",
       " 'https://www.amazon.com/EJsoyo-Snakeskin-Swimwear-Brazilian-Swimsuits/dp/B0918HCKQT/ref=sr_1_2?dchild=1&keywords=black+cutout+print+bikini&qid=1624866037&s=fashion-womens-intl-ship&sr=1-2',\n",
       " 'https://www.amazon.com/SHEKINI-Spaghetti-Strappy-Swimsuit-Manhattan/dp/B075P8JS6N/ref=sr_1_3?dchild=1&keywords=black+cutout+print+bikini&qid=1624866037&s=fashion-womens-intl-ship&sr=1-3',\n",
       " 'https://www.amazon.com/Nulibenna-Swimsuits-Waisted-Swimwear-Bathing/dp/B083J6VHTJ/ref=sr_1_4?dchild=1&keywords=black+cutout+print+bikini&qid=1624866037&s=fashion-womens-intl-ship&sr=1-4',\n",
       " 'https://www.amazon.com/CUPSHE-Womens-Swimsuit-Strappy-Bathing/dp/B08N146G6S/ref=sr_1_5?dchild=1&keywords=black+cutout+print+bikini&qid=1624866037&s=fashion-womens-intl-ship&sr=1-5']"
      ]
     },
     "metadata": {},
     "execution_count": 24
    }
   ],
   "source": [
    "links[:5]"
   ]
  },
  {
   "cell_type": "code",
   "execution_count": 11,
   "metadata": {},
   "outputs": [],
   "source": [
    "# create function\n",
    "# scraping every link\n",
    "\n",
    "def all_links(driver, key_words):\n",
    "\n",
    "    # input search item\n",
    "    search_bar = driver.find_element_by_id('twotabsearchtextbox')\n",
    "    search_bar.send_keys(key_words)\n",
    "    search_bar.send_keys(Keys.ENTER)\n",
    "\n",
    "    # may need time sleep\n",
    "    time.sleep(0.5)\n",
    "\n",
    "    # get links\n",
    "    links = []\n",
    "    link_paths = driver.find_elements_by_xpath('//div/h2/a[@class=\"a-link-normal a-text-normal\"]')\n",
    "    for link in link_paths:\n",
    "        x = link.get_attribute('href')\n",
    "        links.append(x)\n",
    "    \n",
    "    return links"
   ]
  },
  {
   "source": [
    "# 3.4 Scraping of Search Result Details"
   ],
   "cell_type": "markdown",
   "metadata": {}
  },
  {
   "cell_type": "code",
   "execution_count": 27,
   "metadata": {},
   "outputs": [
    {
     "output_type": "execute_result",
     "data": {
      "text/plain": [
       "'https://www.amazon.com/CUPSHE-Womens-Floral-Halter-Swimsuit/dp/B07S223TYL/ref=sr_1_1?dchild=1&keywords=black+cutout+print+bikini&qid=1624866037&s=fashion-womens-intl-ship&sr=1-1'"
      ]
     },
     "metadata": {},
     "execution_count": 27
    }
   ],
   "source": [
    "# testing\n",
    "# url\n",
    "\n",
    "URL = links[0]\n",
    "URL"
   ]
  },
  {
   "cell_type": "code",
   "execution_count": 28,
   "metadata": {},
   "outputs": [],
   "source": [
    "# input website\n",
    "driver.get(URL)"
   ]
  },
  {
   "cell_type": "code",
   "execution_count": 29,
   "metadata": {},
   "outputs": [],
   "source": [
    "# product names\n",
    "try:\n",
    "    name = driver.find_elements_by_tag_name('h1')\n",
    "    name = name[0].text\n",
    "except:\n",
    "    name = None"
   ]
  },
  {
   "cell_type": "code",
   "execution_count": 30,
   "metadata": {},
   "outputs": [
    {
     "output_type": "execute_result",
     "data": {
      "text/plain": [
       "\"CUPSHE Women's One Piece Swimsuit Cutout Halter Lace Up Twist Bathing Suit\""
      ]
     },
     "metadata": {},
     "execution_count": 30
    }
   ],
   "source": [
    "name"
   ]
  },
  {
   "cell_type": "code",
   "execution_count": 31,
   "metadata": {},
   "outputs": [],
   "source": [
    "# product price\n",
    "try:\n",
    "    price = driver.find_elements_by_xpath('//td[@class=\"a-span12\"]')\n",
    "    price = price[0].text\n",
    "except:\n",
    "    price = None"
   ]
  },
  {
   "cell_type": "code",
   "execution_count": 32,
   "metadata": {},
   "outputs": [
    {
     "output_type": "execute_result",
     "data": {
      "text/plain": [
       "'HKD 237.32'"
      ]
     },
     "metadata": {},
     "execution_count": 32
    }
   ],
   "source": [
    "price"
   ]
  },
  {
   "cell_type": "code",
   "execution_count": 39,
   "metadata": {},
   "outputs": [],
   "source": [
    "# testing\n",
    "index = 0"
   ]
  },
  {
   "cell_type": "code",
   "execution_count": 40,
   "metadata": {},
   "outputs": [],
   "source": [
    "# product image\n",
    "try:\n",
    "    # size\n",
    "    img_width,img_height = 300,300\n",
    "\n",
    "    # get image\n",
    "    img = driver.find_elements_by_xpath('//img[@id=\"landingImage\"]')\n",
    "    img = img[0]\n",
    "\n",
    "    # 'src' = get image source\n",
    "    src = img.get_attribute('src')\n",
    "\n",
    "    # download image\n",
    "    urllib.request.urlretrieve(src, f'image/Amazon/{index}.png')\n",
    "\n",
    "    # resize image (smaller size)\n",
    "    ori_img = Image.open(f'image/Amazon/{index}.png')\n",
    "    resize_img = ori_img.resize((img_width,img_height))\n",
    "    resize_img.save(f'image/Amazon/{index}.png')\n",
    "\n",
    "    img_file = f'image/Amazon/{index}.png'\n",
    "except:\n",
    "    img_file = None\n"
   ]
  },
  {
   "cell_type": "code",
   "execution_count": 41,
   "metadata": {},
   "outputs": [
    {
     "output_type": "execute_result",
     "data": {
      "text/plain": [
       "'image/Amazon/0.png'"
      ]
     },
     "metadata": {},
     "execution_count": 41
    }
   ],
   "source": [
    "img_file"
   ]
  },
  {
   "cell_type": "code",
   "execution_count": 8,
   "metadata": {},
   "outputs": [],
   "source": [
    "# create function\n",
    "# search result details\n",
    "\n",
    "def scrape_details(index, link):\n",
    "\n",
    "    # input website\n",
    "    driver.get(link)\n",
    "\n",
    "    # product names\n",
    "    try:\n",
    "        name = driver.find_elements_by_tag_name('h1')\n",
    "        name = name[0].text\n",
    "    except:\n",
    "        name = None\n",
    "\n",
    "    # product price\n",
    "    try:\n",
    "        price = driver.find_elements_by_xpath('//td[@class=\"a-span12\"]')\n",
    "        price = price[0].text\n",
    "    except:\n",
    "        price = None\n",
    "    \n",
    "    # product image\n",
    "    try:\n",
    "        # size\n",
    "        img_width,img_height = 300,300\n",
    "\n",
    "        # get image\n",
    "        img = driver.find_elements_by_xpath('//img[@id=\"landingImage\"]')\n",
    "        img = img[0]\n",
    "\n",
    "        # 'src' = get image source\n",
    "        src = img.get_attribute('src')\n",
    "\n",
    "        # download image\n",
    "        urllib.request.urlretrieve(src, f'image/Amazon/{index}.png')\n",
    "\n",
    "        # resize image (smaller size)\n",
    "        ori_img = Image.open(f'image/Amazon/{index}.png')\n",
    "        resize_img = ori_img.resize((img_width,img_height))\n",
    "        resize_img.save(f'image/Amazon/{index}.png')\n",
    "\n",
    "        img_file = f'image/Amazon/{index}.png'\n",
    "    except:\n",
    "        img_file = None\n",
    "\n",
    "    return name, price, img_file"
   ]
  },
  {
   "cell_type": "code",
   "execution_count": 9,
   "metadata": {},
   "outputs": [
    {
     "output_type": "error",
     "ename": "NameError",
     "evalue": "name 'links' is not defined",
     "traceback": [
      "\u001b[0;31m---------------------------------------------------------------------------\u001b[0m",
      "\u001b[0;31mNameError\u001b[0m                                 Traceback (most recent call last)",
      "\u001b[0;32m<ipython-input-9-6a1511b57aec>\u001b[0m in \u001b[0;36m<module>\u001b[0;34m\u001b[0m\n\u001b[1;32m      6\u001b[0m \u001b[0mindex\u001b[0m \u001b[0;34m=\u001b[0m \u001b[0;36m0\u001b[0m\u001b[0;34m\u001b[0m\u001b[0;34m\u001b[0m\u001b[0m\n\u001b[1;32m      7\u001b[0m \u001b[0;34m\u001b[0m\u001b[0m\n\u001b[0;32m----> 8\u001b[0;31m \u001b[0;32mfor\u001b[0m \u001b[0mlink\u001b[0m \u001b[0;32min\u001b[0m \u001b[0mlinks\u001b[0m\u001b[0;34m:\u001b[0m\u001b[0;34m\u001b[0m\u001b[0;34m\u001b[0m\u001b[0m\n\u001b[0m\u001b[1;32m      9\u001b[0m \u001b[0;34m\u001b[0m\u001b[0m\n\u001b[1;32m     10\u001b[0m     \u001b[0;31m# scrape name, price and img_file\u001b[0m\u001b[0;34m\u001b[0m\u001b[0;34m\u001b[0m\u001b[0;34m\u001b[0m\u001b[0m\n",
      "\u001b[0;31mNameError\u001b[0m: name 'links' is not defined"
     ]
    }
   ],
   "source": [
    "# scrape every link\n",
    "\n",
    "names = []\n",
    "prices = []\n",
    "img_files = []\n",
    "index = 0\n",
    "\n",
    "for link in links:\n",
    "    \n",
    "    # scrape name, price and img_file\n",
    "    name, price, img_file = scrape_details(index, link)\n",
    "\n",
    "    # append to lists\n",
    "    names.append(name)\n",
    "    prices.append(price)\n",
    "    img_files.append(img_file)\n",
    "\n",
    "    # update index\n",
    "    index += 1\n",
    "\n",
    "# create dataframe\n",
    "\n",
    "df = pd.DataFrame({\n",
    "    'name': names,\n",
    "    'price': prices,\n",
    "    'img_file': img_files,\n",
    "    'url': links\n",
    "})"
   ]
  },
  {
   "source": [
    "# 3.5 Product Recommendations"
   ],
   "cell_type": "markdown",
   "metadata": {}
  },
  {
   "cell_type": "code",
   "execution_count": 13,
   "metadata": {},
   "outputs": [],
   "source": [
    "# input image shape\n",
    "img_width, img_height, _ = 224, 224, 3"
   ]
  },
  {
   "cell_type": "code",
   "execution_count": 14,
   "metadata": {},
   "outputs": [],
   "source": [
    "# load model\n",
    "# as no model training required, set 'compile=False'\n",
    "\n",
    "model = load_model('cnn_model.h5', compile=False)"
   ]
  },
  {
   "cell_type": "code",
   "execution_count": 15,
   "metadata": {},
   "outputs": [],
   "source": [
    "# create function\n",
    "# feature extraction for image\n",
    "\n",
    "def get_embedding(model, img_file):\n",
    "    # reshape\n",
    "    img = image.load_img(img_file, target_size=(img_width, img_height))\n",
    "\n",
    "    # img to numpy array\n",
    "    x = image.img_to_array(img)\n",
    "\n",
    "    # expand dim (1, w, h)\n",
    "    x = np.expand_dims(x, axis=0)\n",
    "\n",
    "    # Preprocess input\n",
    "    x = preprocess_input(x)\n",
    "\n",
    "    return model.predict(x).reshape(-1)"
   ]
  },
  {
   "cell_type": "code",
   "execution_count": 68,
   "metadata": {},
   "outputs": [],
   "source": [
    "# Function that get product recommendations based on the cosine similarity score of product image\n",
    "\n",
    "def get_recommender(idx, df, top_n):\n",
    "\n",
    "    # select the target image (default is index 0)\n",
    "    target_index = indices[idx]\n",
    "\n",
    "    # calculate the similarity scores\n",
    "    similarity_scores = list(enumerate(similarity[target_index]))\n",
    "\n",
    "    # sort the result \n",
    "    similarity_scores = sorted(similarity_scores, key=lambda x: x[1], reverse=True)\n",
    "\n",
    "    # select the top n items\n",
    "    similarity_scores = similarity_scores[1:top_n+1]\n",
    "\n",
    "    # select the indices of top n items\n",
    "    top_indices = [i[0] for i in similarity_scores]\n",
    "\n",
    "    # idx_sim = [i[1] for i in sim_scores]\n",
    "\n",
    "    return indices.iloc[top_indices].index"
   ]
  },
  {
   "cell_type": "code",
   "execution_count": null,
   "metadata": {},
   "outputs": [],
   "source": []
  },
  {
   "cell_type": "code",
   "execution_count": null,
   "metadata": {},
   "outputs": [],
   "source": []
  },
  {
   "cell_type": "code",
   "execution_count": null,
   "metadata": {},
   "outputs": [],
   "source": []
  },
  {
   "cell_type": "code",
   "execution_count": 50,
   "metadata": {},
   "outputs": [],
   "source": [
    "# testing CK image\n",
    "\n",
    "target_name = ['CK ONE TANGA BIKINI']\n",
    "target_img_file = ['image/CK ONE TANGA BIKINI.png']\n",
    "\n",
    "df_target = pd.DataFrame({\n",
    "    'img_file': target_img_file\n",
    "})"
   ]
  },
  {
   "cell_type": "code",
   "execution_count": 51,
   "metadata": {},
   "outputs": [
    {
     "output_type": "execute_result",
     "data": {
      "text/plain": [
       "                        img_file\n",
       "0  image/CK ONE TANGA BIKINI.png"
      ],
      "text/html": "<div>\n<style scoped>\n    .dataframe tbody tr th:only-of-type {\n        vertical-align: middle;\n    }\n\n    .dataframe tbody tr th {\n        vertical-align: top;\n    }\n\n    .dataframe thead th {\n        text-align: right;\n    }\n</style>\n<table border=\"1\" class=\"dataframe\">\n  <thead>\n    <tr style=\"text-align: right;\">\n      <th></th>\n      <th>img_file</th>\n    </tr>\n  </thead>\n  <tbody>\n    <tr>\n      <th>0</th>\n      <td>image/CK ONE TANGA BIKINI.png</td>\n    </tr>\n  </tbody>\n</table>\n</div>"
     },
     "metadata": {},
     "execution_count": 51
    }
   ],
   "source": [
    "df_target"
   ]
  },
  {
   "cell_type": "code",
   "execution_count": 52,
   "metadata": {},
   "outputs": [],
   "source": [
    "# create df for testing\n",
    "\n",
    "img_files = []\n",
    "for i in range(48):\n",
    "    img_files.append(f'image/Amazon/{i}.png')\n",
    "\n",
    "# create df\n",
    "df_amazon = pd.DataFrame({\n",
    "    'img_file': img_files\n",
    "})"
   ]
  },
  {
   "cell_type": "code",
   "execution_count": 55,
   "metadata": {},
   "outputs": [],
   "source": [
    "# append amazon dataframe to the target dataframe\n",
    "\n",
    "df = df_target.append(df_amazon, ignore_index=True)"
   ]
  },
  {
   "cell_type": "code",
   "execution_count": 57,
   "metadata": {},
   "outputs": [
    {
     "output_type": "execute_result",
     "data": {
      "text/plain": [
       "49"
      ]
     },
     "metadata": {},
     "execution_count": 57
    }
   ],
   "source": [
    "len(df)"
   ]
  },
  {
   "cell_type": "code",
   "execution_count": 56,
   "metadata": {},
   "outputs": [
    {
     "output_type": "execute_result",
     "data": {
      "text/plain": [
       "                        img_file\n",
       "0  image/CK ONE TANGA BIKINI.png\n",
       "1             image/Amazon/0.png\n",
       "2             image/Amazon/1.png\n",
       "3             image/Amazon/2.png\n",
       "4             image/Amazon/3.png"
      ],
      "text/html": "<div>\n<style scoped>\n    .dataframe tbody tr th:only-of-type {\n        vertical-align: middle;\n    }\n\n    .dataframe tbody tr th {\n        vertical-align: top;\n    }\n\n    .dataframe thead th {\n        text-align: right;\n    }\n</style>\n<table border=\"1\" class=\"dataframe\">\n  <thead>\n    <tr style=\"text-align: right;\">\n      <th></th>\n      <th>img_file</th>\n    </tr>\n  </thead>\n  <tbody>\n    <tr>\n      <th>0</th>\n      <td>image/CK ONE TANGA BIKINI.png</td>\n    </tr>\n    <tr>\n      <th>1</th>\n      <td>image/Amazon/0.png</td>\n    </tr>\n    <tr>\n      <th>2</th>\n      <td>image/Amazon/1.png</td>\n    </tr>\n    <tr>\n      <th>3</th>\n      <td>image/Amazon/2.png</td>\n    </tr>\n    <tr>\n      <th>4</th>\n      <td>image/Amazon/3.png</td>\n    </tr>\n  </tbody>\n</table>\n</div>"
     },
     "metadata": {},
     "execution_count": 56
    }
   ],
   "source": [
    "df.head()"
   ]
  },
  {
   "cell_type": "code",
   "execution_count": 24,
   "metadata": {},
   "outputs": [],
   "source": [
    "# get item embedding with corresponding image\n",
    "# image_embedding = get_embedding(model, target_img_file)"
   ]
  },
  {
   "cell_type": "code",
   "execution_count": 58,
   "metadata": {},
   "outputs": [],
   "source": [
    "# make a dataframe duplicate\n",
    "df_copy = df\n",
    "\n",
    "# get image embeddings for each image\n",
    "map_embeddings = df_copy['img_file'].apply(lambda img: get_embedding(model, img))\n",
    "\n",
    "# convert series of lists to dataframe\n",
    "df_embeddings = map_embeddings.apply(pd.Series)"
   ]
  },
  {
   "cell_type": "code",
   "execution_count": 59,
   "metadata": {},
   "outputs": [
    {
     "output_type": "execute_result",
     "data": {
      "text/plain": [
       "       0          1         2         3         4         5         6     \\\n",
       "0  0.000000  16.656422  1.759933  0.396486  5.663714  0.000000  1.727282   \n",
       "1  0.000000   7.160003  1.574659  4.338456  2.551096  2.673633  4.204260   \n",
       "2  1.831643  22.057829  2.530438  1.242392  0.000000  0.000000  1.320725   \n",
       "3  3.890997   2.239640  0.561372  6.952099  2.865389  3.875372  6.084309   \n",
       "4  0.479622   3.835210  3.169219  5.755448  1.441075  5.746672  3.464339   \n",
       "\n",
       "       7         8         9     ...       2038      2039      2040  \\\n",
       "0  0.442207  0.000000  0.000000  ...   0.000000  0.000000  2.258237   \n",
       "1  6.550857  0.942263  2.079585  ...   0.975850  0.997066  2.406110   \n",
       "2  3.649347  0.030288  0.000000  ...   7.023321  2.911746  0.000000   \n",
       "3  2.111632  2.495424  4.386785  ...   0.406559  2.324595  1.143666   \n",
       "4  4.615533  4.365491  2.138535  ...  12.700304  0.725670  2.027468   \n",
       "\n",
       "        2041      2042  2043       2044      2045      2046       2047  \n",
       "0   2.662622  3.287225   0.0  12.032290  3.004779  0.000000   1.093109  \n",
       "1  25.856796  3.466363   0.0   7.697368  0.309879  2.489410   7.677667  \n",
       "2   1.198196  2.623420   0.0   2.178410  1.167908  3.153160  12.983468  \n",
       "3  17.603485  2.035505   0.0   1.155617  2.491142  0.000000   5.401934  \n",
       "4  11.041115  0.000000   0.0   0.997130  1.629200  1.458257  10.393693  \n",
       "\n",
       "[5 rows x 2048 columns]"
      ],
      "text/html": "<div>\n<style scoped>\n    .dataframe tbody tr th:only-of-type {\n        vertical-align: middle;\n    }\n\n    .dataframe tbody tr th {\n        vertical-align: top;\n    }\n\n    .dataframe thead th {\n        text-align: right;\n    }\n</style>\n<table border=\"1\" class=\"dataframe\">\n  <thead>\n    <tr style=\"text-align: right;\">\n      <th></th>\n      <th>0</th>\n      <th>1</th>\n      <th>2</th>\n      <th>3</th>\n      <th>4</th>\n      <th>5</th>\n      <th>6</th>\n      <th>7</th>\n      <th>8</th>\n      <th>9</th>\n      <th>...</th>\n      <th>2038</th>\n      <th>2039</th>\n      <th>2040</th>\n      <th>2041</th>\n      <th>2042</th>\n      <th>2043</th>\n      <th>2044</th>\n      <th>2045</th>\n      <th>2046</th>\n      <th>2047</th>\n    </tr>\n  </thead>\n  <tbody>\n    <tr>\n      <th>0</th>\n      <td>0.000000</td>\n      <td>16.656422</td>\n      <td>1.759933</td>\n      <td>0.396486</td>\n      <td>5.663714</td>\n      <td>0.000000</td>\n      <td>1.727282</td>\n      <td>0.442207</td>\n      <td>0.000000</td>\n      <td>0.000000</td>\n      <td>...</td>\n      <td>0.000000</td>\n      <td>0.000000</td>\n      <td>2.258237</td>\n      <td>2.662622</td>\n      <td>3.287225</td>\n      <td>0.0</td>\n      <td>12.032290</td>\n      <td>3.004779</td>\n      <td>0.000000</td>\n      <td>1.093109</td>\n    </tr>\n    <tr>\n      <th>1</th>\n      <td>0.000000</td>\n      <td>7.160003</td>\n      <td>1.574659</td>\n      <td>4.338456</td>\n      <td>2.551096</td>\n      <td>2.673633</td>\n      <td>4.204260</td>\n      <td>6.550857</td>\n      <td>0.942263</td>\n      <td>2.079585</td>\n      <td>...</td>\n      <td>0.975850</td>\n      <td>0.997066</td>\n      <td>2.406110</td>\n      <td>25.856796</td>\n      <td>3.466363</td>\n      <td>0.0</td>\n      <td>7.697368</td>\n      <td>0.309879</td>\n      <td>2.489410</td>\n      <td>7.677667</td>\n    </tr>\n    <tr>\n      <th>2</th>\n      <td>1.831643</td>\n      <td>22.057829</td>\n      <td>2.530438</td>\n      <td>1.242392</td>\n      <td>0.000000</td>\n      <td>0.000000</td>\n      <td>1.320725</td>\n      <td>3.649347</td>\n      <td>0.030288</td>\n      <td>0.000000</td>\n      <td>...</td>\n      <td>7.023321</td>\n      <td>2.911746</td>\n      <td>0.000000</td>\n      <td>1.198196</td>\n      <td>2.623420</td>\n      <td>0.0</td>\n      <td>2.178410</td>\n      <td>1.167908</td>\n      <td>3.153160</td>\n      <td>12.983468</td>\n    </tr>\n    <tr>\n      <th>3</th>\n      <td>3.890997</td>\n      <td>2.239640</td>\n      <td>0.561372</td>\n      <td>6.952099</td>\n      <td>2.865389</td>\n      <td>3.875372</td>\n      <td>6.084309</td>\n      <td>2.111632</td>\n      <td>2.495424</td>\n      <td>4.386785</td>\n      <td>...</td>\n      <td>0.406559</td>\n      <td>2.324595</td>\n      <td>1.143666</td>\n      <td>17.603485</td>\n      <td>2.035505</td>\n      <td>0.0</td>\n      <td>1.155617</td>\n      <td>2.491142</td>\n      <td>0.000000</td>\n      <td>5.401934</td>\n    </tr>\n    <tr>\n      <th>4</th>\n      <td>0.479622</td>\n      <td>3.835210</td>\n      <td>3.169219</td>\n      <td>5.755448</td>\n      <td>1.441075</td>\n      <td>5.746672</td>\n      <td>3.464339</td>\n      <td>4.615533</td>\n      <td>4.365491</td>\n      <td>2.138535</td>\n      <td>...</td>\n      <td>12.700304</td>\n      <td>0.725670</td>\n      <td>2.027468</td>\n      <td>11.041115</td>\n      <td>0.000000</td>\n      <td>0.0</td>\n      <td>0.997130</td>\n      <td>1.629200</td>\n      <td>1.458257</td>\n      <td>10.393693</td>\n    </tr>\n  </tbody>\n</table>\n<p>5 rows × 2048 columns</p>\n</div>"
     },
     "metadata": {},
     "execution_count": 59
    }
   ],
   "source": [
    "df_embeddings.head()"
   ]
  },
  {
   "cell_type": "code",
   "execution_count": 60,
   "metadata": {},
   "outputs": [],
   "source": [
    "## compute similarity between items\n",
    "# calculate distance matrix\n",
    "similarity = 1 - pairwise_distances(df_embeddings, metric='cosine')"
   ]
  },
  {
   "cell_type": "code",
   "execution_count": 64,
   "metadata": {},
   "outputs": [
    {
     "output_type": "execute_result",
     "data": {
      "text/plain": [
       "array([1.        , 0.5165263 , 0.5369592 , 0.51267225, 0.5224726 ,\n",
       "       0.5031241 , 0.5237402 , 0.51745456, 0.5408669 , 0.47479218,\n",
       "       0.48267484, 0.46357816, 0.50001   , 0.5165371 , 0.5172481 ,\n",
       "       0.58180815, 0.49073946, 0.5257547 , 0.5269011 , 0.5430988 ,\n",
       "       0.55302197, 0.57794875, 0.5942491 , 0.49452055, 0.5181655 ,\n",
       "       0.5339118 , 0.552034  , 0.5226602 , 0.5101911 , 0.49412894,\n",
       "       0.52358085, 0.5315855 , 0.51819026, 0.4978131 , 0.5014058 ,\n",
       "       0.47400868, 0.5076667 , 0.5177233 , 0.494326  , 0.48988938,\n",
       "       0.50520056, 0.5170815 , 0.49531442, 0.5356687 , 0.52722985,\n",
       "       0.5314058 , 0.5180114 , 0.50884783, 0.4995228 ], dtype=float32)"
      ]
     },
     "metadata": {},
     "execution_count": 64
    }
   ],
   "source": [
    "similarity[0]"
   ]
  },
  {
   "cell_type": "code",
   "execution_count": 65,
   "metadata": {},
   "outputs": [],
   "source": [
    "# create dataframe for indices\n",
    "indices = pd.Series(range(len(df)), index=df.index)"
   ]
  },
  {
   "cell_type": "code",
   "execution_count": 77,
   "metadata": {},
   "outputs": [
    {
     "output_type": "execute_result",
     "data": {
      "text/plain": [
       "'CK ONE TANGA BIKINI14.png'"
      ]
     },
     "metadata": {},
     "execution_count": 77
    }
   ],
   "source": [
    "i = 14\n",
    "\n",
    "img_name = df.iloc[0]['img_file'][6:-4] + str(i) + '.png'\n",
    "img_name"
   ]
  },
  {
   "cell_type": "code",
   "execution_count": 69,
   "metadata": {},
   "outputs": [],
   "source": [
    "# compute recommendations' indices\n",
    "recommend_indices = get_recommender(0, df, 2)\n",
    "\n",
    "# create lists\n",
    "recommend_names = []\n",
    "recommend_prices = []\n",
    "recommend_img_files = []\n",
    "recommend_urls = []\n",
    "\n",
    "for i in recommend_indices:\n",
    "    # recommend_names.append(df.iloc[i]['name'])\n",
    "    # recommend_prices.append(df.iloc[i]['price'])\n",
    "    # recommend_urls.append(df.iloc[i]['url'])\n",
    "\n",
    "    # save the img_files separately\n",
    "    # use 'i-1' because the target item was appended at the front of dataframe\n",
    "    # the corresponding image index has to minus 1\n",
    "    img = Image.open(f'image/Amazon/{i-1}.png')\n",
    "\n",
    "    img_name = df.iloc[0]['img_file'][6:-4] + str(i) + '.png'\n",
    "    img.save(f'image/recommendations/{img_name}.png')\n",
    "\n",
    "    img_file = f'image/recommendations/{img_name}.png'\n",
    "\n",
    "    # append img_file's new path\n",
    "    recommend_img_files.append(img_file)"
   ]
  },
  {
   "cell_type": "code",
   "execution_count": 70,
   "metadata": {},
   "outputs": [
    {
     "output_type": "execute_result",
     "data": {
      "text/plain": [
       "['image/Amazon/21.png', 'image/Amazon/14.png']"
      ]
     },
     "metadata": {},
     "execution_count": 70
    }
   ],
   "source": [
    "recommend_img_files"
   ]
  },
  {
   "cell_type": "code",
   "execution_count": null,
   "metadata": {},
   "outputs": [],
   "source": []
  },
  {
   "cell_type": "code",
   "execution_count": null,
   "metadata": {},
   "outputs": [],
   "source": []
  },
  {
   "cell_type": "code",
   "execution_count": null,
   "metadata": {},
   "outputs": [],
   "source": [
    "# get item embedding with corresponding image\n",
    "image_embedding = get_embedding(model, target_img_file)\n",
    "\n",
    "# get embedding for all items in dataset\n",
    "df_sample = df\n",
    "map_embeddings = df_sample['img_file'].apply(lambda img: get_embedding(model, img))\n",
    "df_embs = map_embeddings.apply(pd.Series)\n",
    "\n",
    "## compute similarity between items\n",
    "# calculate distance matrix\n",
    "cosine_sim = 1 - pairwise_distances(df_embs, metric='cosine')\n",
    "\n",
    "# Recommender Similar Items\n",
    "indices = pd.Series(range(len(df)), index=df.index)\n",
    "\n",
    "# Idx Item to Recommender\n",
    "idx_ref = 2\n",
    "\n",
    "try:\n",
    "    # Recommendations\n",
    "    idx_rec= get_recommender(idx_ref, df, 2)\n",
    "\n",
    "    # create lists\n",
    "    rec_names = []\n",
    "    rec_prices = []\n",
    "    rec_urls = []\n",
    "\n",
    "    for i in idx_rec:\n",
    "        rec_names.append(df.iloc[i]['name'])\n",
    "        rec_prices.append(df.iloc[i]['unit_price'])\n",
    "        rec_urls.append(df.iloc[i]['url'])\n",
    "except:\n",
    "    rec_names, rec_prices, rec_urls = None, None, None"
   ]
  },
  {
   "cell_type": "code",
   "execution_count": null,
   "metadata": {},
   "outputs": [],
   "source": []
  },
  {
   "cell_type": "code",
   "execution_count": null,
   "metadata": {},
   "outputs": [],
   "source": []
  },
  {
   "source": [
    "# 3.6 Apply to All Categories"
   ],
   "cell_type": "markdown",
   "metadata": {}
  },
  {
   "source": [
    "# 3.6.1 Activewear"
   ],
   "cell_type": "markdown",
   "metadata": {}
  },
  {
   "cell_type": "code",
   "execution_count": 51,
   "metadata": {},
   "outputs": [],
   "source": [
    "# Amazon search engine setup\n",
    "\n",
    "# open web browser\n",
    "driver = configure_driver()\n",
    "\n",
    "# search engine\n",
    "search_engine = 'https://www.amazon.com/?currency=HKD&language=en_US'\n",
    "\n",
    "# input website\n",
    "driver.get(search_engine)\n",
    "\n",
    "# may need time sleep\n",
    "time.sleep(0.5)\n",
    "\n",
    "# Choose HKD\n",
    "\n",
    "# select option\n",
    "option = driver.find_element_by_id('icp-touch-link-cop')\n",
    "option.click()\n",
    "\n",
    "# may need time sleep\n",
    "time.sleep(0.5)\n",
    "\n",
    "# select currency setting\n",
    "currency = driver.find_element_by_xpath('//span[@class=\"a-button-inner\"]')\n",
    "currency.click()\n",
    "\n",
    "# select hkd as currency\n",
    "hkd = driver.find_element_by_xpath(\n",
    "    '//li[@class=\"a-dropdown-item\"]/a[contains(text(), \"Hong Kong Dollar\")]'\n",
    ")\n",
    "hkd.click()\n",
    "\n",
    "# save change\n",
    "save = driver.find_element_by_id('icp-btn-save')\n",
    "save.click()\n",
    "\n",
    "# may need time sleep\n",
    "time.sleep(0.5)\n",
    "\n",
    "# select 'women's fashion' as department\n",
    "department = driver.find_element_by_xpath(\n",
    "    '//select[@class=\"nav-search-dropdown searchSelect nav-progressive-attrubute nav-progressive-search-dropdown\"]/option[contains(text(), \"Women\\'s Fashion\")]'\n",
    ")\n",
    "department.click()\n",
    "\n",
    "# may need time sleep\n",
    "time.sleep(0.1)"
   ]
  },
  {
   "cell_type": "code",
   "execution_count": 52,
   "metadata": {
    "tags": []
   },
   "outputs": [
    {
     "output_type": "stream",
     "name": "stdout",
     "text": [
      "execution time: 152.3548548221588s\n",
      "execution time: 146.66727685928345s\n"
     ]
    }
   ],
   "source": [
    "# activewear\n",
    "category = 'activewear'\n",
    "    \n",
    "# load data\n",
    "df = pd.read_csv(f'data/{category}.csv')\n",
    "\n",
    "list_key_words = []\n",
    "\n",
    "## scraping all links\n",
    "for key_words in df['key_words'][:1]:\n",
    "    \n",
    "    start_time = time.time()\n",
    "\n",
    "    # input website\n",
    "    URL = f'https://www.amazon.com/s?k={key_words}&i=fashion-womens-intl-ship&ref=nb_sb_noss_2'\n",
    "    driver.get(URL)\n",
    "\n",
    "    # may need time sleep\n",
    "    time.sleep(0.5)\n",
    "\n",
    "    # get links\n",
    "    links = []\n",
    "    link_paths = driver.find_elements_by_xpath('//div/h2/a[@class=\"a-link-normal a-text-normal\"]')\n",
    "    for link in link_paths:\n",
    "        x = link.get_attribute('href')\n",
    "        links.append(x)\n",
    "    \n",
    "    ## scrape every product details\n",
    "\n",
    "    names = []\n",
    "    prices = []\n",
    "    img_files = []\n",
    "    index = 0\n",
    "\n",
    "    for link in links:\n",
    "        \n",
    "        # input website\n",
    "        driver.get(link)\n",
    "\n",
    "        # product names\n",
    "        try:\n",
    "            name = driver.find_elements_by_tag_name('h1')\n",
    "            name = name[0].text\n",
    "        except:\n",
    "            name = None\n",
    "\n",
    "        # product price\n",
    "        try:\n",
    "            price = driver.find_elements_by_xpath('//td[@class=\"a-span12\"]')\n",
    "            price = price[0].text\n",
    "        except:\n",
    "            price = None\n",
    "        \n",
    "        # product image\n",
    "        try:\n",
    "            # size\n",
    "            img_width,img_height = 300,300\n",
    "\n",
    "            # get image\n",
    "            img = driver.find_elements_by_xpath('//img[@id=\"landingImage\"]')\n",
    "            img = img[0]\n",
    "\n",
    "            # 'src' = get image source\n",
    "            src = img.get_attribute('src')\n",
    "\n",
    "            # download image\n",
    "            urllib.request.urlretrieve(src, f'image/Amazon/{index}.png')\n",
    "\n",
    "            # resize image (smaller size)\n",
    "            ori_img = Image.open(f'image/Amazon/{index}.png')\n",
    "            resize_img = ori_img.resize((img_width,img_height))\n",
    "            resize_img.save(f'image/Amazon/{index}.png')\n",
    "\n",
    "            img_file = f'image/Amazon/{index}.png'\n",
    "        except:\n",
    "            img_file = None\n",
    "\n",
    "        # append to lists\n",
    "        names.append(name)\n",
    "        prices.append(price)\n",
    "        img_files.append(img_file)\n",
    "\n",
    "        # update index\n",
    "        index += 1\n",
    "\n",
    "    # create dataframe\n",
    "    df = pd.DataFrame({\n",
    "        'name': names,\n",
    "        'price': prices,\n",
    "        'img_file': img_files,\n",
    "        'url': links\n",
    "    })\n",
    "\n",
    "    # remove row with missing values\n",
    "    df.dropna(inplace=True)\n",
    "    df.reset_index(drop=True, inplace=True)\n",
    "\n",
    "    ## recommender\n",
    "\n",
    "    ## output lists for creating dataframe for final deployment use\n",
    "    \n",
    "    end_time = time.time()\n",
    "    print(f'execution time: {end_time - start_time}s')"
   ]
  },
  {
   "cell_type": "code",
   "execution_count": 53,
   "metadata": {},
   "outputs": [
    {
     "output_type": "execute_result",
     "data": {
      "text/plain": [
       "                                                 name  \\\n",
       "0   SheIn Women's Criss Cross Back Lace Bra Deep V...   \n",
       "1   SweatyRocks Women's Summer Short Sleeve Tee Di...   \n",
       "2   Verdusa Women's Sleeveless Scoop Neck Strappy ...   \n",
       "3   SHEKINI Women's Floral Print Swim Bottom Cutou...   \n",
       "4   RELLECIGA Women's Strappy Longline Triangle Bi...   \n",
       "5   NIKIBIKI Women Seamless One Shoulder Ribbed Br...   \n",
       "6   Womens Short Sleeve Graphic Tees Distressed Ha...   \n",
       "7   Ekaliy Women's 2 Piece Multi Wear Outfits Sexy...   \n",
       "8   SheIn Women's Strappy Backless Summer Evening ...   \n",
       "9   RUNNING GIRL One Shoulder Sports Bra Removable...   \n",
       "10  TOB Women's Sexy Criss Cross Lace Up Sling Bas...   \n",
       "11  RELLECIGA Women's Strappy Triangle Bikini Top ...   \n",
       "12  Yandy Pink Leopard Print Swimsuit Bikini Top w...   \n",
       "13  SEASUM Women's Longline Sport Bra Seamless Yog...   \n",
       "14  VETIOR Women's Deep V Neck Short Sleeve Unique...   \n",
       "15  Feisty and Sexy Way to His Heart Black and Leo...   \n",
       "16  Allegra K Women's Glitter Tops Twist Long Slee...   \n",
       "17  SweatyRocks Women's Sexy V Neck Self Tie Front...   \n",
       "18  zeraca Women's Hipster Bottom Crossback Bralet...   \n",
       "19  Boao 3 Pieces Spaghetti Strap Tank Camisole To...   \n",
       "20  YIANNA Women Floral Lace Bralette Padded Breat...   \n",
       "21  Amazon Brand - Mae Women's High-Neck Bralette ...   \n",
       "22  Sarin Mathews Womens Strappy Cold Shoulder Top...   \n",
       "23  SheIn Women's Basic Plain Spaghetti Strap Tube...   \n",
       "24  QUEENIEKE Womens Yoga Sport Bra Light Support ...   \n",
       "25  Womens Crop Tank Top Basic Workout Sexy Strap ...   \n",
       "26  Women Fire Print Cross Bandage Crop Top Halter...   \n",
       "27  CUPSHE Women's One Piece Swimsuit High Neck Tu...   \n",
       "28  Floerns Women's Summer Spaghetti Strap Sleevel...   \n",
       "29  LEISUP Womens Cutout Crop Top High Cut Cheeky ...   \n",
       "30  icyzone Padded Strappy Sports Bra Yoga Tops Ac...   \n",
       "31  PRETTYGARDEN Women's Summer Deep V Neck Spaghe...   \n",
       "32  Fanuerg Women's Strapless Tie Back Ruffle Cuto...   \n",
       "33  MOLERANI Women's Casual Swing Simple T-Shirt L...   \n",
       "34  Sykooria Womens One Shoulder Sports Bras Worko...   \n",
       "35  Dokotoo Womens Spring Summer Deep V Neck Ruffl...   \n",
       "36  Happy Sailed Women Long Sleeve Ruffle Layer Ba...   \n",
       "37  SweatyRocks Women's Cactus Print Crop Top Summ...   \n",
       "38  CRZ YOGA Women's Fitness Workout Yoga Bra Stra...   \n",
       "39  SweatyRocks Women's Casual Twist Front Short S...   \n",
       "40  Yandy Snake Print One Piece Monokini Swimsuit ...   \n",
       "41  TOB Women's Sexy Summer Basic Sleeveless Stret...   \n",
       "42  YIANNA Sports Bras for Women Cross Back Padded...   \n",
       "43  AEPEBO Women's Sexy Deep V Neck Back Cutout Ti...   \n",
       "44  ECHOINE Womens Sexy Hollow Out Jumpsuit -Bodyc...   \n",
       "45  SheIn Women's Sexy Straps Sleeveless Cutout Cr...   \n",
       "46  Jescakoo Women's Short Sleeve Cut Out Cold Sho...   \n",
       "47  Romwe Women's Sexy Cutout Back Crisscross Spag...   \n",
       "\n",
       "                                                price             img_file  \\\n",
       "0                                          HKD 134.04   image/Amazon/0.png   \n",
       "1                              HKD 78.81 - HKD 134.04   image/Amazon/1.png   \n",
       "2                              HKD 70.92 - HKD 149.81   image/Amazon/2.png   \n",
       "3                             HKD 188.94 - HKD 212.61   image/Amazon/3.png   \n",
       "4                              HKD 89.15 - HKD 173.48   image/Amazon/4.png   \n",
       "5   HKD 149.10 + No Import Fees Deposit & HKD 61.7...   image/Amazon/5.png   \n",
       "6                             HKD 126.15 - HKD 173.48   image/Amazon/6.png   \n",
       "7                             HKD 212.85 - HKD 252.29   image/Amazon/7.png   \n",
       "8                                          HKD 260.26   image/Amazon/8.png   \n",
       "9                             HKD 126.15 - HKD 165.59   image/Amazon/9.png   \n",
       "10                             HKD 78.81 - HKD 134.04  image/Amazon/10.png   \n",
       "11                            HKD 118.34 - HKD 236.59  image/Amazon/11.png   \n",
       "12                                         HKD 165.28  image/Amazon/12.png   \n",
       "13                             HKD 70.92 - HKD 197.15  image/Amazon/13.png   \n",
       "14                                               None  image/Amazon/14.png   \n",
       "15                                         HKD 126.15  image/Amazon/15.png   \n",
       "16                            HKD 149.81 - HKD 189.26  image/Amazon/16.png   \n",
       "17                            HKD 157.70 - HKD 260.26  image/Amazon/17.png   \n",
       "18                            HKD 209.46 - HKD 233.12  image/Amazon/18.png   \n",
       "19                            HKD 134.04 - HKD 149.81  image/Amazon/19.png   \n",
       "20                                               None  image/Amazon/20.png   \n",
       "21                                         HKD 126.23  image/Amazon/21.png   \n",
       "22                             HKD 78.81 - HKD 149.81  image/Amazon/22.png   \n",
       "23                            HKD 102.48 - HKD 118.26  image/Amazon/23.png   \n",
       "24                             HKD 78.81 - HKD 205.04  image/Amazon/24.png   \n",
       "25                                         HKD 126.15  image/Amazon/25.png   \n",
       "26                            HKD 102.48 - HKD 126.15  image/Amazon/26.png   \n",
       "27                                         HKD 212.93  image/Amazon/27.png   \n",
       "28                            HKD 102.48 - HKD 134.04  image/Amazon/28.png   \n",
       "29                                               None  image/Amazon/29.png   \n",
       "30                            HKD 115.10 - HKD 157.70  image/Amazon/30.png   \n",
       "31                                         HKD 244.48  image/Amazon/31.png   \n",
       "32                                               None  image/Amazon/32.png   \n",
       "33                            HKD 126.15 - HKD 205.04  image/Amazon/33.png   \n",
       "34                            HKD 118.26 - HKD 283.93  image/Amazon/34.png   \n",
       "35                            HKD 118.18 - HKD 283.93  image/Amazon/35.png   \n",
       "36                            HKD 236.59 - HKD 275.96  image/Amazon/36.png   \n",
       "37                             HKD 78.81 - HKD 134.04  image/Amazon/37.png   \n",
       "38                            HKD 157.78 - HKD 189.34  image/Amazon/38.png   \n",
       "39                             HKD 70.13 - HKD 134.04  image/Amazon/39.png   \n",
       "40                                         HKD 315.17  image/Amazon/40.png   \n",
       "41                             HKD 78.81 - HKD 134.04  image/Amazon/41.png   \n",
       "42                                               None  image/Amazon/42.png   \n",
       "43                            HKD 118.26 - HKD 134.04  image/Amazon/43.png   \n",
       "44                                               None  image/Amazon/44.png   \n",
       "45                                         HKD 157.70  image/Amazon/45.png   \n",
       "46                            HKD 126.15 - HKD 160.86  image/Amazon/46.png   \n",
       "47                             HKD 94.59 - HKD 134.04  image/Amazon/47.png   \n",
       "\n",
       "                                                  url  \n",
       "0   https://www.amazon.com/SheIn-Womens-Scalloped-...  \n",
       "1   https://www.amazon.com/SweatyRocks-Womens-Summ...  \n",
       "2   https://www.amazon.com/Verdusa-Sleeveless-Stra...  \n",
       "3   https://www.amazon.com/SHEKINI-Womens-Spaghett...  \n",
       "4   https://www.amazon.com/RELLECIGA-Womens-Strapp...  \n",
       "5   https://www.amazon.com/NIKIBIKI-Seamless-Shoul...  \n",
       "6   https://www.amazon.com/Womens-Distressed-Graph...  \n",
       "7   https://www.amazon.com/Ekaliy-Outfits-Halter-B...  \n",
       "8   https://www.amazon.com/SheIn-Womens-Strappy-Ba...  \n",
       "9   https://www.amazon.com/RUNNING-GIRL-Shoulder-W...  \n",
       "10  https://www.amazon.com/TOB-Womens-Criss-Cross-...  \n",
       "11  https://www.amazon.com/RELLECIGA-Womens-Strapp...  \n",
       "12  https://www.amazon.com/Yandy-Leopard-Underboob...  \n",
       "13  https://www.amazon.com/Women-Workout-Shirts-Ra...  \n",
       "14  https://www.amazon.com/KIRA-Womens-Sleeve-Uniq...  \n",
       "15  https://www.amazon.com/Feisty-Heart-Black-Leop...  \n",
       "16  https://www.amazon.com/Allegra-Womens-Glitter-...  \n",
       "17  https://www.amazon.com/SweatyRocks-Womens-Slee...  \n",
       "18  https://www.amazon.com/zeraca-Womens-Waisted-B...  \n",
       "19  https://www.amazon.com/Boao-Pieces-Spaghetti-C...  \n",
       "20  https://www.amazon.com/YIANNA-Bralette-Breatha...  \n",
       "21  https://www.amazon.com/Amazon-Brand-Hi-Neck-Br...  \n",
       "22  https://www.amazon.com/Sarin-Mathews-Strappy-S...  \n",
       "23  https://www.amazon.com/SheIn-Womens-Basic-Plai...  \n",
       "24  https://www.amazon.com/Queenie-Ke-Womens-Suppo...  \n",
       "25  https://www.amazon.com/Womens-Crop-Black-Cami-...  \n",
       "26  https://www.amazon.com/Women-Print-Bandage-Hal...  \n",
       "27  https://www.amazon.com/CUPSHE-Womens-Swimsuit-...  \n",
       "28  https://www.amazon.com/Floerns-Womens-Sleevele...  \n",
       "29  https://www.amazon.com/LEISUP-Womans-Waisted-B...  \n",
       "30  https://www.amazon.com/icyzone-Strappy-Activew...  \n",
       "31  https://www.amazon.com/PRETTYGARDEN-Spaghetti-...  \n",
       "32  https://www.amazon.com/Fanuerg-Strapless-Bande...  \n",
       "33  https://www.amazon.com/MOLERANI-Womens-Casual-...  \n",
       "34  https://www.amazon.com/Sykooria-Womens-Shoulde...  \n",
       "35  https://www.amazon.com/Dokotoo-Neckline-Leopar...  \n",
       "36  https://www.amazon.com/Happy-Sailed-Sleeves-Ba...  \n",
       "37  https://www.amazon.com/SweatyRocks-Womens-Summ...  \n",
       "38  https://www.amazon.com/CRZ-YOGA-Strappy-Active...  \n",
       "39  https://www.amazon.com/SweatyRocks-Womens-Geom...  \n",
       "40  https://www.amazon.com/Yandy-Monokini-Halter-S...  \n",
       "41  https://www.amazon.com/TOB-Womens-Summer-Sleev...  \n",
       "42  https://www.amazon.com/YIANNA-Wirefree-Strappy...  \n",
       "43  https://www.amazon.com/AEPEBO-Womens-Cutout-Sl...  \n",
       "44  https://www.amazon.com/ECHOINE-Jumpsuit-Bodyco...  \n",
       "45  https://www.amazon.com/SheIn-Womens-Straps-Sle...  \n",
       "46  https://www.amazon.com/Jescakoo-Shoulder-Shirt...  \n",
       "47  https://www.amazon.com/Romwe-Womens-Cutout-Cri...  "
      ],
      "text/html": "<div>\n<style scoped>\n    .dataframe tbody tr th:only-of-type {\n        vertical-align: middle;\n    }\n\n    .dataframe tbody tr th {\n        vertical-align: top;\n    }\n\n    .dataframe thead th {\n        text-align: right;\n    }\n</style>\n<table border=\"1\" class=\"dataframe\">\n  <thead>\n    <tr style=\"text-align: right;\">\n      <th></th>\n      <th>name</th>\n      <th>price</th>\n      <th>img_file</th>\n      <th>url</th>\n    </tr>\n  </thead>\n  <tbody>\n    <tr>\n      <th>0</th>\n      <td>SheIn Women's Criss Cross Back Lace Bra Deep V...</td>\n      <td>HKD 134.04</td>\n      <td>image/Amazon/0.png</td>\n      <td>https://www.amazon.com/SheIn-Womens-Scalloped-...</td>\n    </tr>\n    <tr>\n      <th>1</th>\n      <td>SweatyRocks Women's Summer Short Sleeve Tee Di...</td>\n      <td>HKD 78.81 - HKD 134.04</td>\n      <td>image/Amazon/1.png</td>\n      <td>https://www.amazon.com/SweatyRocks-Womens-Summ...</td>\n    </tr>\n    <tr>\n      <th>2</th>\n      <td>Verdusa Women's Sleeveless Scoop Neck Strappy ...</td>\n      <td>HKD 70.92 - HKD 149.81</td>\n      <td>image/Amazon/2.png</td>\n      <td>https://www.amazon.com/Verdusa-Sleeveless-Stra...</td>\n    </tr>\n    <tr>\n      <th>3</th>\n      <td>SHEKINI Women's Floral Print Swim Bottom Cutou...</td>\n      <td>HKD 188.94 - HKD 212.61</td>\n      <td>image/Amazon/3.png</td>\n      <td>https://www.amazon.com/SHEKINI-Womens-Spaghett...</td>\n    </tr>\n    <tr>\n      <th>4</th>\n      <td>RELLECIGA Women's Strappy Longline Triangle Bi...</td>\n      <td>HKD 89.15 - HKD 173.48</td>\n      <td>image/Amazon/4.png</td>\n      <td>https://www.amazon.com/RELLECIGA-Womens-Strapp...</td>\n    </tr>\n    <tr>\n      <th>5</th>\n      <td>NIKIBIKI Women Seamless One Shoulder Ribbed Br...</td>\n      <td>HKD 149.10 + No Import Fees Deposit &amp; HKD 61.7...</td>\n      <td>image/Amazon/5.png</td>\n      <td>https://www.amazon.com/NIKIBIKI-Seamless-Shoul...</td>\n    </tr>\n    <tr>\n      <th>6</th>\n      <td>Womens Short Sleeve Graphic Tees Distressed Ha...</td>\n      <td>HKD 126.15 - HKD 173.48</td>\n      <td>image/Amazon/6.png</td>\n      <td>https://www.amazon.com/Womens-Distressed-Graph...</td>\n    </tr>\n    <tr>\n      <th>7</th>\n      <td>Ekaliy Women's 2 Piece Multi Wear Outfits Sexy...</td>\n      <td>HKD 212.85 - HKD 252.29</td>\n      <td>image/Amazon/7.png</td>\n      <td>https://www.amazon.com/Ekaliy-Outfits-Halter-B...</td>\n    </tr>\n    <tr>\n      <th>8</th>\n      <td>SheIn Women's Strappy Backless Summer Evening ...</td>\n      <td>HKD 260.26</td>\n      <td>image/Amazon/8.png</td>\n      <td>https://www.amazon.com/SheIn-Womens-Strappy-Ba...</td>\n    </tr>\n    <tr>\n      <th>9</th>\n      <td>RUNNING GIRL One Shoulder Sports Bra Removable...</td>\n      <td>HKD 126.15 - HKD 165.59</td>\n      <td>image/Amazon/9.png</td>\n      <td>https://www.amazon.com/RUNNING-GIRL-Shoulder-W...</td>\n    </tr>\n    <tr>\n      <th>10</th>\n      <td>TOB Women's Sexy Criss Cross Lace Up Sling Bas...</td>\n      <td>HKD 78.81 - HKD 134.04</td>\n      <td>image/Amazon/10.png</td>\n      <td>https://www.amazon.com/TOB-Womens-Criss-Cross-...</td>\n    </tr>\n    <tr>\n      <th>11</th>\n      <td>RELLECIGA Women's Strappy Triangle Bikini Top ...</td>\n      <td>HKD 118.34 - HKD 236.59</td>\n      <td>image/Amazon/11.png</td>\n      <td>https://www.amazon.com/RELLECIGA-Womens-Strapp...</td>\n    </tr>\n    <tr>\n      <th>12</th>\n      <td>Yandy Pink Leopard Print Swimsuit Bikini Top w...</td>\n      <td>HKD 165.28</td>\n      <td>image/Amazon/12.png</td>\n      <td>https://www.amazon.com/Yandy-Leopard-Underboob...</td>\n    </tr>\n    <tr>\n      <th>13</th>\n      <td>SEASUM Women's Longline Sport Bra Seamless Yog...</td>\n      <td>HKD 70.92 - HKD 197.15</td>\n      <td>image/Amazon/13.png</td>\n      <td>https://www.amazon.com/Women-Workout-Shirts-Ra...</td>\n    </tr>\n    <tr>\n      <th>14</th>\n      <td>VETIOR Women's Deep V Neck Short Sleeve Unique...</td>\n      <td>None</td>\n      <td>image/Amazon/14.png</td>\n      <td>https://www.amazon.com/KIRA-Womens-Sleeve-Uniq...</td>\n    </tr>\n    <tr>\n      <th>15</th>\n      <td>Feisty and Sexy Way to His Heart Black and Leo...</td>\n      <td>HKD 126.15</td>\n      <td>image/Amazon/15.png</td>\n      <td>https://www.amazon.com/Feisty-Heart-Black-Leop...</td>\n    </tr>\n    <tr>\n      <th>16</th>\n      <td>Allegra K Women's Glitter Tops Twist Long Slee...</td>\n      <td>HKD 149.81 - HKD 189.26</td>\n      <td>image/Amazon/16.png</td>\n      <td>https://www.amazon.com/Allegra-Womens-Glitter-...</td>\n    </tr>\n    <tr>\n      <th>17</th>\n      <td>SweatyRocks Women's Sexy V Neck Self Tie Front...</td>\n      <td>HKD 157.70 - HKD 260.26</td>\n      <td>image/Amazon/17.png</td>\n      <td>https://www.amazon.com/SweatyRocks-Womens-Slee...</td>\n    </tr>\n    <tr>\n      <th>18</th>\n      <td>zeraca Women's Hipster Bottom Crossback Bralet...</td>\n      <td>HKD 209.46 - HKD 233.12</td>\n      <td>image/Amazon/18.png</td>\n      <td>https://www.amazon.com/zeraca-Womens-Waisted-B...</td>\n    </tr>\n    <tr>\n      <th>19</th>\n      <td>Boao 3 Pieces Spaghetti Strap Tank Camisole To...</td>\n      <td>HKD 134.04 - HKD 149.81</td>\n      <td>image/Amazon/19.png</td>\n      <td>https://www.amazon.com/Boao-Pieces-Spaghetti-C...</td>\n    </tr>\n    <tr>\n      <th>20</th>\n      <td>YIANNA Women Floral Lace Bralette Padded Breat...</td>\n      <td>None</td>\n      <td>image/Amazon/20.png</td>\n      <td>https://www.amazon.com/YIANNA-Bralette-Breatha...</td>\n    </tr>\n    <tr>\n      <th>21</th>\n      <td>Amazon Brand - Mae Women's High-Neck Bralette ...</td>\n      <td>HKD 126.23</td>\n      <td>image/Amazon/21.png</td>\n      <td>https://www.amazon.com/Amazon-Brand-Hi-Neck-Br...</td>\n    </tr>\n    <tr>\n      <th>22</th>\n      <td>Sarin Mathews Womens Strappy Cold Shoulder Top...</td>\n      <td>HKD 78.81 - HKD 149.81</td>\n      <td>image/Amazon/22.png</td>\n      <td>https://www.amazon.com/Sarin-Mathews-Strappy-S...</td>\n    </tr>\n    <tr>\n      <th>23</th>\n      <td>SheIn Women's Basic Plain Spaghetti Strap Tube...</td>\n      <td>HKD 102.48 - HKD 118.26</td>\n      <td>image/Amazon/23.png</td>\n      <td>https://www.amazon.com/SheIn-Womens-Basic-Plai...</td>\n    </tr>\n    <tr>\n      <th>24</th>\n      <td>QUEENIEKE Womens Yoga Sport Bra Light Support ...</td>\n      <td>HKD 78.81 - HKD 205.04</td>\n      <td>image/Amazon/24.png</td>\n      <td>https://www.amazon.com/Queenie-Ke-Womens-Suppo...</td>\n    </tr>\n    <tr>\n      <th>25</th>\n      <td>Womens Crop Tank Top Basic Workout Sexy Strap ...</td>\n      <td>HKD 126.15</td>\n      <td>image/Amazon/25.png</td>\n      <td>https://www.amazon.com/Womens-Crop-Black-Cami-...</td>\n    </tr>\n    <tr>\n      <th>26</th>\n      <td>Women Fire Print Cross Bandage Crop Top Halter...</td>\n      <td>HKD 102.48 - HKD 126.15</td>\n      <td>image/Amazon/26.png</td>\n      <td>https://www.amazon.com/Women-Print-Bandage-Hal...</td>\n    </tr>\n    <tr>\n      <th>27</th>\n      <td>CUPSHE Women's One Piece Swimsuit High Neck Tu...</td>\n      <td>HKD 212.93</td>\n      <td>image/Amazon/27.png</td>\n      <td>https://www.amazon.com/CUPSHE-Womens-Swimsuit-...</td>\n    </tr>\n    <tr>\n      <th>28</th>\n      <td>Floerns Women's Summer Spaghetti Strap Sleevel...</td>\n      <td>HKD 102.48 - HKD 134.04</td>\n      <td>image/Amazon/28.png</td>\n      <td>https://www.amazon.com/Floerns-Womens-Sleevele...</td>\n    </tr>\n    <tr>\n      <th>29</th>\n      <td>LEISUP Womens Cutout Crop Top High Cut Cheeky ...</td>\n      <td>None</td>\n      <td>image/Amazon/29.png</td>\n      <td>https://www.amazon.com/LEISUP-Womans-Waisted-B...</td>\n    </tr>\n    <tr>\n      <th>30</th>\n      <td>icyzone Padded Strappy Sports Bra Yoga Tops Ac...</td>\n      <td>HKD 115.10 - HKD 157.70</td>\n      <td>image/Amazon/30.png</td>\n      <td>https://www.amazon.com/icyzone-Strappy-Activew...</td>\n    </tr>\n    <tr>\n      <th>31</th>\n      <td>PRETTYGARDEN Women's Summer Deep V Neck Spaghe...</td>\n      <td>HKD 244.48</td>\n      <td>image/Amazon/31.png</td>\n      <td>https://www.amazon.com/PRETTYGARDEN-Spaghetti-...</td>\n    </tr>\n    <tr>\n      <th>32</th>\n      <td>Fanuerg Women's Strapless Tie Back Ruffle Cuto...</td>\n      <td>None</td>\n      <td>image/Amazon/32.png</td>\n      <td>https://www.amazon.com/Fanuerg-Strapless-Bande...</td>\n    </tr>\n    <tr>\n      <th>33</th>\n      <td>MOLERANI Women's Casual Swing Simple T-Shirt L...</td>\n      <td>HKD 126.15 - HKD 205.04</td>\n      <td>image/Amazon/33.png</td>\n      <td>https://www.amazon.com/MOLERANI-Womens-Casual-...</td>\n    </tr>\n    <tr>\n      <th>34</th>\n      <td>Sykooria Womens One Shoulder Sports Bras Worko...</td>\n      <td>HKD 118.26 - HKD 283.93</td>\n      <td>image/Amazon/34.png</td>\n      <td>https://www.amazon.com/Sykooria-Womens-Shoulde...</td>\n    </tr>\n    <tr>\n      <th>35</th>\n      <td>Dokotoo Womens Spring Summer Deep V Neck Ruffl...</td>\n      <td>HKD 118.18 - HKD 283.93</td>\n      <td>image/Amazon/35.png</td>\n      <td>https://www.amazon.com/Dokotoo-Neckline-Leopar...</td>\n    </tr>\n    <tr>\n      <th>36</th>\n      <td>Happy Sailed Women Long Sleeve Ruffle Layer Ba...</td>\n      <td>HKD 236.59 - HKD 275.96</td>\n      <td>image/Amazon/36.png</td>\n      <td>https://www.amazon.com/Happy-Sailed-Sleeves-Ba...</td>\n    </tr>\n    <tr>\n      <th>37</th>\n      <td>SweatyRocks Women's Cactus Print Crop Top Summ...</td>\n      <td>HKD 78.81 - HKD 134.04</td>\n      <td>image/Amazon/37.png</td>\n      <td>https://www.amazon.com/SweatyRocks-Womens-Summ...</td>\n    </tr>\n    <tr>\n      <th>38</th>\n      <td>CRZ YOGA Women's Fitness Workout Yoga Bra Stra...</td>\n      <td>HKD 157.78 - HKD 189.34</td>\n      <td>image/Amazon/38.png</td>\n      <td>https://www.amazon.com/CRZ-YOGA-Strappy-Active...</td>\n    </tr>\n    <tr>\n      <th>39</th>\n      <td>SweatyRocks Women's Casual Twist Front Short S...</td>\n      <td>HKD 70.13 - HKD 134.04</td>\n      <td>image/Amazon/39.png</td>\n      <td>https://www.amazon.com/SweatyRocks-Womens-Geom...</td>\n    </tr>\n    <tr>\n      <th>40</th>\n      <td>Yandy Snake Print One Piece Monokini Swimsuit ...</td>\n      <td>HKD 315.17</td>\n      <td>image/Amazon/40.png</td>\n      <td>https://www.amazon.com/Yandy-Monokini-Halter-S...</td>\n    </tr>\n    <tr>\n      <th>41</th>\n      <td>TOB Women's Sexy Summer Basic Sleeveless Stret...</td>\n      <td>HKD 78.81 - HKD 134.04</td>\n      <td>image/Amazon/41.png</td>\n      <td>https://www.amazon.com/TOB-Womens-Summer-Sleev...</td>\n    </tr>\n    <tr>\n      <th>42</th>\n      <td>YIANNA Sports Bras for Women Cross Back Padded...</td>\n      <td>None</td>\n      <td>image/Amazon/42.png</td>\n      <td>https://www.amazon.com/YIANNA-Wirefree-Strappy...</td>\n    </tr>\n    <tr>\n      <th>43</th>\n      <td>AEPEBO Women's Sexy Deep V Neck Back Cutout Ti...</td>\n      <td>HKD 118.26 - HKD 134.04</td>\n      <td>image/Amazon/43.png</td>\n      <td>https://www.amazon.com/AEPEBO-Womens-Cutout-Sl...</td>\n    </tr>\n    <tr>\n      <th>44</th>\n      <td>ECHOINE Womens Sexy Hollow Out Jumpsuit -Bodyc...</td>\n      <td>None</td>\n      <td>image/Amazon/44.png</td>\n      <td>https://www.amazon.com/ECHOINE-Jumpsuit-Bodyco...</td>\n    </tr>\n    <tr>\n      <th>45</th>\n      <td>SheIn Women's Sexy Straps Sleeveless Cutout Cr...</td>\n      <td>HKD 157.70</td>\n      <td>image/Amazon/45.png</td>\n      <td>https://www.amazon.com/SheIn-Womens-Straps-Sle...</td>\n    </tr>\n    <tr>\n      <th>46</th>\n      <td>Jescakoo Women's Short Sleeve Cut Out Cold Sho...</td>\n      <td>HKD 126.15 - HKD 160.86</td>\n      <td>image/Amazon/46.png</td>\n      <td>https://www.amazon.com/Jescakoo-Shoulder-Shirt...</td>\n    </tr>\n    <tr>\n      <th>47</th>\n      <td>Romwe Women's Sexy Cutout Back Crisscross Spag...</td>\n      <td>HKD 94.59 - HKD 134.04</td>\n      <td>image/Amazon/47.png</td>\n      <td>https://www.amazon.com/Romwe-Womens-Cutout-Cri...</td>\n    </tr>\n  </tbody>\n</table>\n</div>"
     },
     "metadata": {},
     "execution_count": 53
    }
   ],
   "source": [
    "df"
   ]
  },
  {
   "cell_type": "code",
   "execution_count": 1,
   "metadata": {},
   "outputs": [
    {
     "output_type": "error",
     "ename": "NameError",
     "evalue": "name 'df' is not defined",
     "traceback": [
      "\u001b[0;31m---------------------------------------------------------------------------\u001b[0m",
      "\u001b[0;31mNameError\u001b[0m                                 Traceback (most recent call last)",
      "\u001b[0;32m<ipython-input-1-00cf07b74dcd>\u001b[0m in \u001b[0;36m<module>\u001b[0;34m\u001b[0m\n\u001b[0;32m----> 1\u001b[0;31m \u001b[0mdf\u001b[0m\u001b[0;34m\u001b[0m\u001b[0;34m\u001b[0m\u001b[0m\n\u001b[0m",
      "\u001b[0;31mNameError\u001b[0m: name 'df' is not defined"
     ]
    }
   ],
   "source": [
    "df"
   ]
  },
  {
   "cell_type": "code",
   "execution_count": null,
   "metadata": {},
   "outputs": [],
   "source": [
    "# testing log\n",
    "\n",
    "# only scrape all links:\n",
    "# 3.5s each\n",
    "\n",
    "# scrape all links and scrape each product details:\n",
    "# 2min 30s each"
   ]
  },
  {
   "source": [
    "# 3.6.2 Jackets"
   ],
   "cell_type": "markdown",
   "metadata": {}
  },
  {
   "cell_type": "code",
   "execution_count": null,
   "metadata": {},
   "outputs": [],
   "source": []
  },
  {
   "source": [
    "# 3.6.3 Sweatshirts-Hoodies"
   ],
   "cell_type": "markdown",
   "metadata": {}
  },
  {
   "cell_type": "code",
   "execution_count": null,
   "metadata": {},
   "outputs": [],
   "source": []
  },
  {
   "cell_type": "code",
   "execution_count": 29,
   "metadata": {},
   "outputs": [],
   "source": []
  },
  {
   "cell_type": "code",
   "execution_count": null,
   "metadata": {},
   "outputs": [],
   "source": []
  },
  {
   "cell_type": "code",
   "execution_count": null,
   "metadata": {},
   "outputs": [],
   "source": []
  },
  {
   "cell_type": "code",
   "execution_count": null,
   "metadata": {},
   "outputs": [],
   "source": []
  },
  {
   "cell_type": "code",
   "execution_count": 110,
   "metadata": {},
   "outputs": [],
   "source": [
    "# close web browser\n",
    "driver.close()"
   ]
  },
  {
   "cell_type": "code",
   "execution_count": null,
   "metadata": {},
   "outputs": [],
   "source": [
    "# call the final function as 'main'"
   ]
  },
  {
   "cell_type": "code",
   "execution_count": null,
   "metadata": {},
   "outputs": [],
   "source": [
    "# check if target items displayed by WebDriverWait()\n",
    "# to save time\n",
    "try:\n",
    "    WebDriverWait(driver, 5).until(lambda s: s.find_element_by_id(\"search-results-category-target\").is_displayed())\n",
    "except TimeoutException:\n",
    "    return None"
   ]
  },
  {
   "cell_type": "code",
   "execution_count": null,
   "metadata": {},
   "outputs": [],
   "source": []
  },
  {
   "cell_type": "code",
   "execution_count": null,
   "metadata": {},
   "outputs": [],
   "source": []
  },
  {
   "cell_type": "code",
   "execution_count": null,
   "metadata": {},
   "outputs": [],
   "source": [
    "# END"
   ]
  }
 ],
 "metadata": {
  "kernelspec": {
   "name": "python3",
   "display_name": "Python 3.9.5 64-bit ('env': venv)"
  },
  "language_info": {
   "codemirror_mode": {
    "name": "ipython",
    "version": 3
   },
   "file_extension": ".py",
   "mimetype": "text/x-python",
   "name": "python",
   "nbconvert_exporter": "python",
   "pygments_lexer": "ipython3",
   "version": "3.9.5"
  },
  "interpreter": {
   "hash": "fa3fba418643e7663ba7576308ac3a337e9dc56c31f42a0bad2dca4c82d258a0"
  }
 },
 "nbformat": 4,
 "nbformat_minor": 4
}