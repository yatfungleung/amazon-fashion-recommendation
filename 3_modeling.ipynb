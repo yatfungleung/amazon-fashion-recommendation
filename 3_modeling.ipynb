{
 "cells": [
  {
   "cell_type": "markdown",
   "metadata": {},
   "source": [
    "# 3.1 Imports"
   ]
  },
  {
   "cell_type": "code",
   "execution_count": 1,
   "metadata": {},
   "outputs": [],
   "source": [
    "# import libraries\n",
    "import numpy as np\n",
    "import pandas as pd\n",
    "\n",
    "import urllib\n",
    "from selenium import webdriver\n",
    "from selenium.webdriver.chrome.options import Options\n",
    "from selenium.webdriver.common.keys import Keys\n",
    "from selenium.webdriver.support.ui import WebDriverWait\n",
    "from selenium.common.exceptions import TimeoutException\n",
    "\n",
    "import concurrent.futures\n",
    "from concurrent.futures import ThreadPoolExecutor\n",
    "\n",
    "import time\n",
    "from PIL import Image"
   ]
  },
  {
   "cell_type": "code",
   "execution_count": 2,
   "metadata": {},
   "outputs": [],
   "source": [
    "# ignore warnings\n",
    "import warnings\n",
    "warnings.filterwarnings('ignore')"
   ]
  },
  {
   "cell_type": "code",
   "execution_count": 3,
   "metadata": {},
   "outputs": [],
   "source": [
    "# create function\n",
    "# open web browser\n",
    "\n",
    "def configure_driver():\n",
    "    # incognito window\n",
    "    chrome_options = Options()\n",
    "    chrome_options.add_argument(\"--incognito\")\n",
    "    \n",
    "    # add the argument and make the browser Headless.\n",
    "    # chrome_options.add_argument(\"--headless\")\n",
    "\n",
    "    # open web browser\n",
    "    driver = webdriver.Chrome('/Users/abrahamleung/Documents/chromedriver', options=chrome_options)\n",
    "    return driver"
   ]
  },
  {
   "cell_type": "code",
   "execution_count": 4,
   "metadata": {},
   "outputs": [],
   "source": [
    "# load data\n",
    "df = pd.read_csv('data/activewear.csv')"
   ]
  },
  {
   "cell_type": "code",
   "execution_count": 5,
   "metadata": {},
   "outputs": [
    {
     "output_type": "execute_result",
     "data": {
      "text/plain": [
       "                                              name       price  \\\n",
       "0                              CK ONE TANGA BIKINI  HKD 392.00   \n",
       "1                                  CK ONE BRALETTE  HKD 392.00   \n",
       "2                         ACTIVE ICON WOVEN SHORTS  HKD 413.00   \n",
       "3  ACTIVE ICON FULL LENGTH ALL-OVER PRINT LEGGINGS  HKD 483.00   \n",
       "4                            LACE LIGHTWEAR JACKET  HKD 903.00   \n",
       "\n",
       "                                            img_file  \\\n",
       "0                      image/CK ONE TANGA BIKINI.png   \n",
       "1                          image/CK ONE BRALETTE.png   \n",
       "2                 image/ACTIVE ICON WOVEN SHORTS.png   \n",
       "3  image/ACTIVE ICON FULL LENGTH ALL-OVER PRINT L...   \n",
       "4                    image/LACE LIGHTWEAR JACKET.png   \n",
       "\n",
       "                                                 url  num_price  \\\n",
       "0  https://www.calvinklein.com/hk/en/ck-one-tanga...      392.0   \n",
       "1  https://www.calvinklein.com/hk/en/ck-one-brale...      392.0   \n",
       "2  https://www.calvinklein.com/hk/en/active-icon-...      413.0   \n",
       "3  https://www.calvinklein.com/hk/en/active-icon-...      483.0   \n",
       "4  https://www.calvinklein.com/hk/en/lace-lightwe...      903.0   \n",
       "\n",
       "                 color   apparel  \n",
       "0  BLACK CUT OUT PRINT    BIKINI  \n",
       "1  BLACK CUT OUT PRINT  BRALETTE  \n",
       "2      RASPBERRY BLUSH    SHORTS  \n",
       "3        CK BLK CK AOP  LEGGINGS  \n",
       "4         BRIGHT WHITE    JACKET  "
      ],
      "text/html": "<div>\n<style scoped>\n    .dataframe tbody tr th:only-of-type {\n        vertical-align: middle;\n    }\n\n    .dataframe tbody tr th {\n        vertical-align: top;\n    }\n\n    .dataframe thead th {\n        text-align: right;\n    }\n</style>\n<table border=\"1\" class=\"dataframe\">\n  <thead>\n    <tr style=\"text-align: right;\">\n      <th></th>\n      <th>name</th>\n      <th>price</th>\n      <th>img_file</th>\n      <th>url</th>\n      <th>num_price</th>\n      <th>color</th>\n      <th>apparel</th>\n    </tr>\n  </thead>\n  <tbody>\n    <tr>\n      <th>0</th>\n      <td>CK ONE TANGA BIKINI</td>\n      <td>HKD 392.00</td>\n      <td>image/CK ONE TANGA BIKINI.png</td>\n      <td>https://www.calvinklein.com/hk/en/ck-one-tanga...</td>\n      <td>392.0</td>\n      <td>BLACK CUT OUT PRINT</td>\n      <td>BIKINI</td>\n    </tr>\n    <tr>\n      <th>1</th>\n      <td>CK ONE BRALETTE</td>\n      <td>HKD 392.00</td>\n      <td>image/CK ONE BRALETTE.png</td>\n      <td>https://www.calvinklein.com/hk/en/ck-one-brale...</td>\n      <td>392.0</td>\n      <td>BLACK CUT OUT PRINT</td>\n      <td>BRALETTE</td>\n    </tr>\n    <tr>\n      <th>2</th>\n      <td>ACTIVE ICON WOVEN SHORTS</td>\n      <td>HKD 413.00</td>\n      <td>image/ACTIVE ICON WOVEN SHORTS.png</td>\n      <td>https://www.calvinklein.com/hk/en/active-icon-...</td>\n      <td>413.0</td>\n      <td>RASPBERRY BLUSH</td>\n      <td>SHORTS</td>\n    </tr>\n    <tr>\n      <th>3</th>\n      <td>ACTIVE ICON FULL LENGTH ALL-OVER PRINT LEGGINGS</td>\n      <td>HKD 483.00</td>\n      <td>image/ACTIVE ICON FULL LENGTH ALL-OVER PRINT L...</td>\n      <td>https://www.calvinklein.com/hk/en/active-icon-...</td>\n      <td>483.0</td>\n      <td>CK BLK CK AOP</td>\n      <td>LEGGINGS</td>\n    </tr>\n    <tr>\n      <th>4</th>\n      <td>LACE LIGHTWEAR JACKET</td>\n      <td>HKD 903.00</td>\n      <td>image/LACE LIGHTWEAR JACKET.png</td>\n      <td>https://www.calvinklein.com/hk/en/lace-lightwe...</td>\n      <td>903.0</td>\n      <td>BRIGHT WHITE</td>\n      <td>JACKET</td>\n    </tr>\n  </tbody>\n</table>\n</div>"
     },
     "metadata": {},
     "execution_count": 5
    }
   ],
   "source": [
    "df.head()"
   ]
  },
  {
   "cell_type": "code",
   "execution_count": 25,
   "metadata": {},
   "outputs": [
    {
     "output_type": "execute_result",
     "data": {
      "text/plain": [
       "12"
      ]
     },
     "metadata": {},
     "execution_count": 25
    }
   ],
   "source": [
    "len(df)"
   ]
  },
  {
   "source": [
    "# 3.2 Scraping of every link"
   ],
   "cell_type": "markdown",
   "metadata": {}
  },
  {
   "cell_type": "code",
   "execution_count": 6,
   "metadata": {},
   "outputs": [],
   "source": [
    "# testing\n",
    "n = 0\n",
    "\n",
    "url = df['url'].iloc[n]\n",
    "color = df['color'].iloc[n]\n",
    "apparel = df['apparel'].iloc[n]"
   ]
  },
  {
   "cell_type": "code",
   "execution_count": 8,
   "metadata": {
    "scrolled": true
   },
   "outputs": [
    {
     "output_type": "execute_result",
     "data": {
      "text/plain": [
       "'https://www.calvinklein.com/hk/en/ck-one-tanga-bikini-KW01435.html?dwvar_KW01435_color=BLACK%20CUT%20OUT%20PRINT'"
      ]
     },
     "metadata": {},
     "execution_count": 8
    }
   ],
   "source": [
    "url"
   ]
  },
  {
   "cell_type": "code",
   "execution_count": 9,
   "metadata": {},
   "outputs": [
    {
     "output_type": "execute_result",
     "data": {
      "text/plain": [
       "'BLACK CUT OUT PRINT'"
      ]
     },
     "metadata": {},
     "execution_count": 9
    }
   ],
   "source": [
    "color"
   ]
  },
  {
   "cell_type": "code",
   "execution_count": 10,
   "metadata": {},
   "outputs": [
    {
     "output_type": "execute_result",
     "data": {
      "text/plain": [
       "'BIKINI'"
      ]
     },
     "metadata": {},
     "execution_count": 10
    }
   ],
   "source": [
    "apparel"
   ]
  },
  {
   "cell_type": "code",
   "execution_count": 11,
   "metadata": {},
   "outputs": [],
   "source": [
    "# open web browser\n",
    "driver = configure_driver()"
   ]
  },
  {
   "cell_type": "code",
   "execution_count": 12,
   "metadata": {},
   "outputs": [],
   "source": [
    "# search engine\n",
    "search_engine = 'https://www.amazon.com/?currency=HKD&language=en_US'"
   ]
  },
  {
   "cell_type": "code",
   "execution_count": 13,
   "metadata": {},
   "outputs": [],
   "source": [
    "# input website\n",
    "driver.get(search_engine)\n",
    "\n",
    "# may need time sleep\n",
    "time.sleep(0.5)"
   ]
  },
  {
   "cell_type": "code",
   "execution_count": 18,
   "metadata": {},
   "outputs": [],
   "source": [
    "# Choose HKD\n",
    "\n",
    "# select option\n",
    "option = driver.find_element_by_id('icp-touch-link-cop')\n",
    "option.click()\n",
    "\n",
    "# may need time sleep\n",
    "time.sleep(0.5)\n",
    "\n",
    "# select currency setting\n",
    "currency = driver.find_element_by_xpath('//span[@class=\"a-button-inner\"]')\n",
    "currency.click()\n",
    "\n",
    "# select hkd as currency\n",
    "hkd = driver.find_element_by_xpath('//li[@class=\"a-dropdown-item\"]/a[contains(text(), \"Hong Kong Dollar\")]')\n",
    "hkd.click()\n",
    "\n",
    "# save change\n",
    "save = driver.find_element_by_id('icp-btn-save')\n",
    "save.click()\n",
    "\n",
    "# may need time sleep\n",
    "time.sleep(0.5)"
   ]
  },
  {
   "cell_type": "code",
   "execution_count": 19,
   "metadata": {},
   "outputs": [],
   "source": [
    "# select 'women's fashion' as department\n",
    "department = driver.find_element_by_xpath('//select[@class=\"nav-search-dropdown searchSelect nav-progressive-attrubute nav-progressive-search-dropdown\"]/option[contains(text(), \"Women\\'s Fashion\")]')\n",
    "department.click()\n",
    "\n",
    "# may need time sleep\n",
    "time.sleep(0.1)"
   ]
  },
  {
   "cell_type": "code",
   "execution_count": null,
   "metadata": {},
   "outputs": [],
   "source": [
    "# do not use 'name'\n",
    "# color created by the color string in html using replace %20\n",
    "# fashion category created by data cleaning\n",
    "# use 'women' + color + fashion category"
   ]
  },
  {
   "cell_type": "code",
   "execution_count": 20,
   "metadata": {},
   "outputs": [
    {
     "output_type": "execute_result",
     "data": {
      "text/plain": [
       "'BLACK CUT OUT PRINTBIKINI'"
      ]
     },
     "metadata": {},
     "execution_count": 20
    }
   ],
   "source": [
    "key_words = color + apparel\n",
    "key_words"
   ]
  },
  {
   "cell_type": "code",
   "execution_count": 21,
   "metadata": {},
   "outputs": [],
   "source": [
    "# use 'color' plus 'apparel' as searching key words\n",
    "key_words = color + apparel\n",
    "\n",
    "# input search item\n",
    "\n",
    "search_bar = driver.find_element_by_id('twotabsearchtextbox')\n",
    "search_bar.send_keys(key_words)\n",
    "search_bar.send_keys(Keys.ENTER)"
   ]
  },
  {
   "cell_type": "code",
   "execution_count": 22,
   "metadata": {},
   "outputs": [],
   "source": [
    "# get links\n",
    "\n",
    "links = []\n",
    "link_paths = driver.find_elements_by_xpath('//div/h2/a[@class=\"a-link-normal a-text-normal\"]')\n",
    "for link in link_paths:\n",
    "    x = link.get_attribute('href')\n",
    "    links.append(x)"
   ]
  },
  {
   "cell_type": "code",
   "execution_count": 23,
   "metadata": {},
   "outputs": [
    {
     "output_type": "execute_result",
     "data": {
      "text/plain": [
       "48"
      ]
     },
     "metadata": {},
     "execution_count": 23
    }
   ],
   "source": [
    "# no of links can be more than 50\n",
    "len(links)"
   ]
  },
  {
   "cell_type": "code",
   "execution_count": 24,
   "metadata": {
    "scrolled": true
   },
   "outputs": [
    {
     "output_type": "execute_result",
     "data": {
      "text/plain": [
       "['https://www.amazon.com/CUPSHE-Womens-Floral-Halter-Swimsuit/dp/B07S223TYL/ref=sr_1_1?dchild=1&keywords=black+cutout+print+bikini&qid=1624866037&s=fashion-womens-intl-ship&sr=1-1',\n",
       " 'https://www.amazon.com/EJsoyo-Snakeskin-Swimwear-Brazilian-Swimsuits/dp/B0918HCKQT/ref=sr_1_2?dchild=1&keywords=black+cutout+print+bikini&qid=1624866037&s=fashion-womens-intl-ship&sr=1-2',\n",
       " 'https://www.amazon.com/SHEKINI-Spaghetti-Strappy-Swimsuit-Manhattan/dp/B075P8JS6N/ref=sr_1_3?dchild=1&keywords=black+cutout+print+bikini&qid=1624866037&s=fashion-womens-intl-ship&sr=1-3',\n",
       " 'https://www.amazon.com/Nulibenna-Swimsuits-Waisted-Swimwear-Bathing/dp/B083J6VHTJ/ref=sr_1_4?dchild=1&keywords=black+cutout+print+bikini&qid=1624866037&s=fashion-womens-intl-ship&sr=1-4',\n",
       " 'https://www.amazon.com/CUPSHE-Womens-Swimsuit-Strappy-Bathing/dp/B08N146G6S/ref=sr_1_5?dchild=1&keywords=black+cutout+print+bikini&qid=1624866037&s=fashion-womens-intl-ship&sr=1-5']"
      ]
     },
     "metadata": {},
     "execution_count": 24
    }
   ],
   "source": [
    "links[:5]"
   ]
  },
  {
   "source": [
    "# 3.3 Scraping of Search Result Details"
   ],
   "cell_type": "markdown",
   "metadata": {}
  },
  {
   "cell_type": "code",
   "execution_count": 27,
   "metadata": {},
   "outputs": [
    {
     "output_type": "execute_result",
     "data": {
      "text/plain": [
       "'https://www.amazon.com/CUPSHE-Womens-Floral-Halter-Swimsuit/dp/B07S223TYL/ref=sr_1_1?dchild=1&keywords=black+cutout+print+bikini&qid=1624866037&s=fashion-womens-intl-ship&sr=1-1'"
      ]
     },
     "metadata": {},
     "execution_count": 27
    }
   ],
   "source": [
    "# testing\n",
    "# url\n",
    "\n",
    "URL = links[0]\n",
    "URL"
   ]
  },
  {
   "cell_type": "code",
   "execution_count": 28,
   "metadata": {},
   "outputs": [],
   "source": [
    "# input website\n",
    "driver.get(URL)"
   ]
  },
  {
   "cell_type": "code",
   "execution_count": 29,
   "metadata": {},
   "outputs": [],
   "source": [
    "# product names\n",
    "try:\n",
    "    name = driver.find_elements_by_tag_name('h1')\n",
    "    name = name[0].text\n",
    "except:\n",
    "    name = None"
   ]
  },
  {
   "cell_type": "code",
   "execution_count": 30,
   "metadata": {},
   "outputs": [
    {
     "output_type": "execute_result",
     "data": {
      "text/plain": [
       "\"CUPSHE Women's One Piece Swimsuit Cutout Halter Lace Up Twist Bathing Suit\""
      ]
     },
     "metadata": {},
     "execution_count": 30
    }
   ],
   "source": [
    "name"
   ]
  },
  {
   "cell_type": "code",
   "execution_count": 31,
   "metadata": {},
   "outputs": [],
   "source": [
    "# product price\n",
    "try:\n",
    "    price = driver.find_elements_by_xpath('//td[@class=\"a-span12\"]')\n",
    "    price = price[0].text\n",
    "except:\n",
    "    price = None"
   ]
  },
  {
   "cell_type": "code",
   "execution_count": 32,
   "metadata": {},
   "outputs": [
    {
     "output_type": "execute_result",
     "data": {
      "text/plain": [
       "'HKD 237.32'"
      ]
     },
     "metadata": {},
     "execution_count": 32
    }
   ],
   "source": [
    "price"
   ]
  },
  {
   "cell_type": "code",
   "execution_count": 39,
   "metadata": {},
   "outputs": [],
   "source": [
    "# testing\n",
    "index = 0"
   ]
  },
  {
   "cell_type": "code",
   "execution_count": 40,
   "metadata": {},
   "outputs": [],
   "source": [
    "# product image\n",
    "try:\n",
    "    # size\n",
    "    img_width,img_height = 300,300\n",
    "\n",
    "    # get image\n",
    "    img = driver.find_elements_by_xpath('//img[@id=\"landingImage\"]')\n",
    "    img = img[0]\n",
    "\n",
    "    # 'src' = get image source\n",
    "    src = img.get_attribute('src')\n",
    "\n",
    "    # download image\n",
    "    urllib.request.urlretrieve(src, f'image/Amazon/{index}.png')\n",
    "\n",
    "    # resize image (smaller size)\n",
    "    ori_img = Image.open(f'image/Amazon/{index}.png')\n",
    "    resize_img = ori_img.resize((img_width,img_height))\n",
    "    resize_img.save(f'image/Amazon/{index}.png')\n",
    "\n",
    "    img_file = f'image/Amazon/{index}.png'\n",
    "except:\n",
    "    img_file = None\n"
   ]
  },
  {
   "cell_type": "code",
   "execution_count": 41,
   "metadata": {},
   "outputs": [
    {
     "output_type": "execute_result",
     "data": {
      "text/plain": [
       "'image/Amazon/0.png'"
      ]
     },
     "metadata": {},
     "execution_count": 41
    }
   ],
   "source": [
    "img_file"
   ]
  },
  {
   "cell_type": "code",
   "execution_count": null,
   "metadata": {},
   "outputs": [],
   "source": []
  },
  {
   "cell_type": "code",
   "execution_count": null,
   "metadata": {},
   "outputs": [],
   "source": []
  },
  {
   "cell_type": "code",
   "execution_count": null,
   "metadata": {},
   "outputs": [],
   "source": []
  },
  {
   "cell_type": "code",
   "execution_count": 110,
   "metadata": {},
   "outputs": [],
   "source": [
    "# close web browser\n",
    "driver.close()"
   ]
  },
  {
   "cell_type": "code",
   "execution_count": null,
   "metadata": {},
   "outputs": [],
   "source": [
    "# call the final function as 'main'"
   ]
  },
  {
   "cell_type": "code",
   "execution_count": null,
   "metadata": {},
   "outputs": [],
   "source": [
    "# check if target items displayed by WebDriverWait()\n",
    "# to save time\n",
    "try:\n",
    "    WebDriverWait(driver, 5).until(lambda s: s.find_element_by_id(\"search-results-category-target\").is_displayed())\n",
    "except TimeoutException:\n",
    "    return None"
   ]
  },
  {
   "cell_type": "code",
   "execution_count": null,
   "metadata": {},
   "outputs": [],
   "source": []
  },
  {
   "cell_type": "code",
   "execution_count": null,
   "metadata": {},
   "outputs": [],
   "source": []
  },
  {
   "cell_type": "code",
   "execution_count": null,
   "metadata": {},
   "outputs": [],
   "source": [
    "# END"
   ]
  }
 ],
 "metadata": {
  "kernelspec": {
   "name": "python3",
   "display_name": "Python 3.9.5 64-bit ('env': venv)"
  },
  "language_info": {
   "codemirror_mode": {
    "name": "ipython",
    "version": 3
   },
   "file_extension": ".py",
   "mimetype": "text/x-python",
   "name": "python",
   "nbconvert_exporter": "python",
   "pygments_lexer": "ipython3",
   "version": "3.9.5"
  },
  "interpreter": {
   "hash": "fa3fba418643e7663ba7576308ac3a337e9dc56c31f42a0bad2dca4c82d258a0"
  }
 },
 "nbformat": 4,
 "nbformat_minor": 4
}