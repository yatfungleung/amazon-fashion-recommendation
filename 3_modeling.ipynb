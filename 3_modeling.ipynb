{
 "cells": [
  {
   "cell_type": "markdown",
   "metadata": {},
   "source": [
    "# 3.1 Imports"
   ]
  },
  {
   "cell_type": "code",
   "execution_count": 7,
   "metadata": {},
   "outputs": [],
   "source": [
    "# import libraries\n",
    "import numpy as np\n",
    "import pandas as pd\n",
    "\n",
    "import urllib\n",
    "from selenium import webdriver\n",
    "from selenium.webdriver.chrome.options import Options\n",
    "from selenium.webdriver.common.keys import Keys\n",
    "from selenium.webdriver.support.ui import WebDriverWait\n",
    "from selenium.common.exceptions import TimeoutException\n",
    "\n",
    "import concurrent.futures\n",
    "from concurrent.futures import ThreadPoolExecutor\n",
    "\n",
    "import time\n",
    "from PIL import Image"
   ]
  },
  {
   "cell_type": "code",
   "execution_count": 8,
   "metadata": {},
   "outputs": [],
   "source": [
    "# ignore warnings\n",
    "import warnings\n",
    "warnings.filterwarnings('ignore')"
   ]
  },
  {
   "cell_type": "code",
   "execution_count": 26,
   "metadata": {},
   "outputs": [],
   "source": [
    "# create function\n",
    "# open web browser\n",
    "\n",
    "def configure_driver():\n",
    "    # incognito window\n",
    "    chrome_options = Options()\n",
    "    chrome_options.add_argument(\"--incognito\")\n",
    "    \n",
    "    # add the argument and make the browser Headless.\n",
    "    # chrome_options.add_argument(\"--headless\")\n",
    "\n",
    "    # open web browser\n",
    "    driver = webdriver.Chrome('C:/Users/Leung/Desktop/chromedriver.exe', options=chrome_options)\n",
    "    return driver"
   ]
  },
  {
   "cell_type": "code",
   "execution_count": null,
   "metadata": {},
   "outputs": [],
   "source": [
    "# adding multiple-threading into the function:\n",
    "\n",
    "# no. of threads to use\n",
    "# threads = min(MAX_THREADS, len(all_links))\n",
    "\n",
    "with ThreadPoolExecutor(max_workers=MAX_THREADS) as executor:\n",
    "    executor.map(detail_scraping_function, all_links)"
   ]
  },
  {
   "cell_type": "code",
   "execution_count": 3,
   "metadata": {},
   "outputs": [],
   "source": [
    "# load data\n",
    "df = pd.read_csv('data/activewear.csv')"
   ]
  },
  {
   "cell_type": "code",
   "execution_count": 4,
   "metadata": {},
   "outputs": [
    {
     "data": {
      "text/html": [
       "<div>\n",
       "<style scoped>\n",
       "    .dataframe tbody tr th:only-of-type {\n",
       "        vertical-align: middle;\n",
       "    }\n",
       "\n",
       "    .dataframe tbody tr th {\n",
       "        vertical-align: top;\n",
       "    }\n",
       "\n",
       "    .dataframe thead th {\n",
       "        text-align: right;\n",
       "    }\n",
       "</style>\n",
       "<table border=\"1\" class=\"dataframe\">\n",
       "  <thead>\n",
       "    <tr style=\"text-align: right;\">\n",
       "      <th></th>\n",
       "      <th>name</th>\n",
       "      <th>price</th>\n",
       "      <th>img_file</th>\n",
       "      <th>url</th>\n",
       "      <th>num_price</th>\n",
       "    </tr>\n",
       "  </thead>\n",
       "  <tbody>\n",
       "    <tr>\n",
       "      <th>0</th>\n",
       "      <td>LACE LIGHTWEAR JACKET</td>\n",
       "      <td>HKD 903.00</td>\n",
       "      <td>image/LACE LIGHTWEAR JACKET.png</td>\n",
       "      <td>https://www.calvinklein.com/hk/en/lace-lightwe...</td>\n",
       "      <td>903.0</td>\n",
       "    </tr>\n",
       "    <tr>\n",
       "      <th>1</th>\n",
       "      <td>LOGO SHORT SLEEVE TEE</td>\n",
       "      <td>HKD 390.00</td>\n",
       "      <td>image/LOGO SHORT SLEEVE TEE.png</td>\n",
       "      <td>https://www.calvinklein.com/hk/en/logo-short-s...</td>\n",
       "      <td>390.0</td>\n",
       "    </tr>\n",
       "    <tr>\n",
       "      <th>2</th>\n",
       "      <td>LACE FITSENSE MESH HEM LEGGINGS</td>\n",
       "      <td>HKD 553.00</td>\n",
       "      <td>image/LACE FITSENSE MESH HEM LEGGINGS.png</td>\n",
       "      <td>https://www.calvinklein.com/hk/en/lace-fitsens...</td>\n",
       "      <td>553.0</td>\n",
       "    </tr>\n",
       "    <tr>\n",
       "      <th>3</th>\n",
       "      <td>BACK V LACE SHORT SLEEVE DRESS</td>\n",
       "      <td>HKD 623.00</td>\n",
       "      <td>image/BACK V LACE SHORT SLEEVE DRESS.png</td>\n",
       "      <td>https://www.calvinklein.com/hk/en/back-v-lace-...</td>\n",
       "      <td>623.0</td>\n",
       "    </tr>\n",
       "    <tr>\n",
       "      <th>4</th>\n",
       "      <td>CK ONE TANGA BIKINI</td>\n",
       "      <td>HKD 392.00</td>\n",
       "      <td>image/CK ONE TANGA BIKINI.png</td>\n",
       "      <td>https://www.calvinklein.com/hk/en/ck-one-tanga...</td>\n",
       "      <td>392.0</td>\n",
       "    </tr>\n",
       "  </tbody>\n",
       "</table>\n",
       "</div>"
      ],
      "text/plain": [
       "                              name       price  \\\n",
       "0            LACE LIGHTWEAR JACKET  HKD 903.00   \n",
       "1            LOGO SHORT SLEEVE TEE  HKD 390.00   \n",
       "2  LACE FITSENSE MESH HEM LEGGINGS  HKD 553.00   \n",
       "3   BACK V LACE SHORT SLEEVE DRESS  HKD 623.00   \n",
       "4              CK ONE TANGA BIKINI  HKD 392.00   \n",
       "\n",
       "                                    img_file  \\\n",
       "0            image/LACE LIGHTWEAR JACKET.png   \n",
       "1            image/LOGO SHORT SLEEVE TEE.png   \n",
       "2  image/LACE FITSENSE MESH HEM LEGGINGS.png   \n",
       "3   image/BACK V LACE SHORT SLEEVE DRESS.png   \n",
       "4              image/CK ONE TANGA BIKINI.png   \n",
       "\n",
       "                                                 url  num_price  \n",
       "0  https://www.calvinklein.com/hk/en/lace-lightwe...      903.0  \n",
       "1  https://www.calvinklein.com/hk/en/logo-short-s...      390.0  \n",
       "2  https://www.calvinklein.com/hk/en/lace-fitsens...      553.0  \n",
       "3  https://www.calvinklein.com/hk/en/back-v-lace-...      623.0  \n",
       "4  https://www.calvinklein.com/hk/en/ck-one-tanga...      392.0  "
      ]
     },
     "execution_count": 4,
     "metadata": {},
     "output_type": "execute_result"
    }
   ],
   "source": [
    "df.head()"
   ]
  },
  {
   "cell_type": "code",
   "execution_count": 52,
   "metadata": {},
   "outputs": [],
   "source": [
    "# testing\n",
    "n = 0\n",
    "\n",
    "name = df['name'].iloc[n]\n",
    "price = df['price'].iloc[n]\n",
    "url = df['url'].iloc[n]"
   ]
  },
  {
   "cell_type": "code",
   "execution_count": 6,
   "metadata": {
    "scrolled": true
   },
   "outputs": [
    {
     "data": {
      "text/plain": [
       "'LACE LIGHTWEAR JACKET'"
      ]
     },
     "execution_count": 6,
     "metadata": {},
     "output_type": "execute_result"
    }
   ],
   "source": [
    "name"
   ]
  },
  {
   "cell_type": "code",
   "execution_count": 53,
   "metadata": {},
   "outputs": [
    {
     "data": {
      "text/plain": [
       "'https://www.calvinklein.com/hk/en/lace-lightwear-jacket-4WT1O553.html?dwvar_4WT1O553_color=BRIGHT%20WHITE'"
      ]
     },
     "execution_count": 53,
     "metadata": {},
     "output_type": "execute_result"
    }
   ],
   "source": [
    "url"
   ]
  },
  {
   "cell_type": "code",
   "execution_count": 36,
   "metadata": {},
   "outputs": [],
   "source": [
    "# open web browser\n",
    "driver = configure_driver()"
   ]
  },
  {
   "cell_type": "code",
   "execution_count": 37,
   "metadata": {},
   "outputs": [],
   "source": [
    "# search engine\n",
    "search_engine = 'https://www.amazon.com/?currency=HKD&language=en_US'"
   ]
  },
  {
   "cell_type": "code",
   "execution_count": 40,
   "metadata": {},
   "outputs": [],
   "source": [
    "# input website\n",
    "driver.get(search_engine)"
   ]
  },
  {
   "cell_type": "code",
   "execution_count": 41,
   "metadata": {},
   "outputs": [],
   "source": [
    "# may need time sleep\n",
    "time.sleep(0.5)"
   ]
  },
  {
   "cell_type": "code",
   "execution_count": 42,
   "metadata": {},
   "outputs": [],
   "source": [
    "# select option\n",
    "option = driver.find_element_by_id('icp-touch-link-cop')\n",
    "option.click()"
   ]
  },
  {
   "cell_type": "code",
   "execution_count": 44,
   "metadata": {},
   "outputs": [],
   "source": [
    "# select currency setting\n",
    "currency = driver.find_element_by_xpath('//span[@class=\"a-button-inner\"]')\n",
    "currency.click()"
   ]
  },
  {
   "cell_type": "code",
   "execution_count": 45,
   "metadata": {},
   "outputs": [],
   "source": [
    "# select hkd as currency\n",
    "hkd = driver.find_element_by_xpath('//li[@class=\"a-dropdown-item\"]/a[contains(text(), \"Hong Kong Dollar\")]')\n",
    "hkd.click()"
   ]
  },
  {
   "cell_type": "code",
   "execution_count": 46,
   "metadata": {},
   "outputs": [],
   "source": [
    "# save change\n",
    "save = driver.find_element_by_id('icp-btn-save')\n",
    "save.click()"
   ]
  },
  {
   "cell_type": "code",
   "execution_count": 50,
   "metadata": {},
   "outputs": [],
   "source": [
    "# select shopping department\n",
    "department = driver.find_element_by_xpath('//select[@class=\"nav-search-dropdown searchSelect nav-progressive-attrubute nav-progressive-search-dropdown\"]/option[contains(text(), \"Women\\'s Fashion\")]')\n",
    "department.click()"
   ]
  },
  {
   "cell_type": "code",
   "execution_count": 51,
   "metadata": {},
   "outputs": [],
   "source": [
    "# input search item\n",
    "search_bar = driver.find_element_by_id('twotabsearchtextbox')\n",
    "search_bar.send_keys(name)\n",
    "search_bar.send_keys(Keys.ENTER)"
   ]
  },
  {
   "cell_type": "code",
   "execution_count": 17,
   "metadata": {},
   "outputs": [],
   "source": [
    "# get product image\n",
    "\n",
    "# get all images\n",
    "images = driver.find_elements_by_xpath('//div[@class=\"a-section aok-relative s-image-square-aspect\"]')"
   ]
  },
  {
   "cell_type": "code",
   "execution_count": 20,
   "metadata": {},
   "outputs": [
    {
     "data": {
      "text/plain": [
       "57"
      ]
     },
     "execution_count": 20,
     "metadata": {},
     "output_type": "execute_result"
    }
   ],
   "source": [
    "len(images)"
   ]
  },
  {
   "cell_type": "code",
   "execution_count": 21,
   "metadata": {},
   "outputs": [],
   "source": [
    "# get product name\n",
    "names = driver.find_elements_by_xpath('//div[@class=\"a-section a-spacing-none a-spacing-top-small\"]')"
   ]
  },
  {
   "cell_type": "code",
   "execution_count": 22,
   "metadata": {},
   "outputs": [
    {
     "data": {
      "text/plain": [
       "109"
      ]
     },
     "execution_count": 22,
     "metadata": {},
     "output_type": "execute_result"
    }
   ],
   "source": [
    "len(names)"
   ]
  },
  {
   "cell_type": "code",
   "execution_count": 24,
   "metadata": {},
   "outputs": [
    {
     "name": "stdout",
     "output_type": "stream",
     "text": [
      "0\n",
      "Columbia 哥倫比亞 男款 Watertight II 外套\n",
      "1\n",
      "US$59\n",
      "43\n",
      "2\n",
      "Amazon Essentials Men's Water-Resistant Softshell Jacket\n",
      "3\n",
      "US$35\n",
      "90\n",
      "4\n",
      "Columbia 男款 Ascender Softshell 前拉鍊夾克\n",
      "5\n",
      "US$67\n",
      "91\n",
      "6\n",
      "Weatherproof 男款中等重量防水防風軟殼夾克（尺寸 S-3XL）\n",
      "7\n",
      "US$55\n",
      "17\n",
      "8\n",
      "Amazon Essentials Men's Lightweight Water-Resistant Packable Hooded Puffer Jacket\n",
      "9\n",
      "US$46\n",
      "70\n",
      "10\n",
      "Amazon Essentials Men's Lightweight Water-Resistant Packable Puffer Jacket\n",
      "11\n",
      "US$39\n",
      "00\n",
      "12\n",
      "Columbia 哥倫比亞 男款 Steens Mountain 全拉鍊 2.0 刷毛夾克\n",
      "13\n",
      "US$34\n",
      "99\n",
      "US$39.99\n",
      "14\n",
      "Loungewear 女款運動服套裝 - 2 件式長袖套頭衫 + 抽繩運動褲 運動服飾組\n",
      "15\n",
      "Wantdo 女款 輕量 羽絨 夾克 可收納 蓬鬆外套 連帽保暖夾克\n",
      "16\n",
      "US$58\n",
      "97\n",
      "儲存 10% 使用優惠卷 （一些尺寸／顏色）\n",
      "17\n",
      "Wantdo 男款棉質立領輕量前拉鍊夾克\n",
      "18\n",
      "US$57\n",
      "97\n",
      "US$61.57\n",
      "儲存 5% 使用優惠卷 （一些尺寸／顏色）\n",
      "19\n",
      "WenVen 男款休閒水洗棉質軍裝夾克\n",
      "20\n",
      "US$55\n",
      "99\n",
      "儲存 5% 使用優惠卷 （一些尺寸／顏色）\n",
      "21\n",
      "WenVen 男款 秋季休閒外套 輕量 棉質 軍事 連帽夾克\n",
      "22\n",
      "US$52\n",
      "99\n",
      "儲存 10% 使用優惠卷 （一些尺寸／顏色）\n",
      "23\n",
      "Wantdo 男款 軍用 棉質 輕盈 夾克 休閒 立領外套\n",
      "24\n",
      "US$52\n",
      "97\n",
      "US$61.57\n",
      "儲存 10% 使用優惠卷 （一些尺寸／顏色）\n",
      "25\n",
      "WenVen 男士休閒帆布棉質軍裝翻領夾克\n",
      "26\n",
      "US$56\n",
      "99\n",
      "儲存 5% 使用優惠卷 （一些尺寸／顏色）\n",
      "27\n",
      "TBMPOY 男款 防風 飛行員夾克 輕量 跑步 風衣 戶外 高爾夫 時尚 外套\n",
      "28\n",
      "US$34\n",
      "99\n",
      "29\n",
      "WenVen 男款軍裝夾克 輕量 棉質 立領 休閒 實用外套\n",
      "30\n",
      "US$52\n",
      "99\n",
      "儲存 5% 使用優惠卷 （一些尺寸／顏色）\n",
      "31\n",
      "Zeagoo 女款 飛行員夾克 休閒 外套 拉鍊外套 風衣\n",
      "32\n",
      "US$29\n",
      "74\n",
      "US$34.99\n",
      "33\n",
      "Orolay 女款可折疊羽絨外套,淺冬季外套,對比色連帽蓬鬆夾克\n",
      "34\n",
      "US$99\n",
      "99\n",
      "35\n",
      "TACVASEN 男款 Special Ops 軍用戰術軟殼夾克外套\n",
      "36\n",
      "Wantdo 男款 輕量 河豚夾克 可打包羽絨外套 連帽冬季外套\n",
      "37\n",
      "US$47\n",
      "97\n",
      "38\n",
      "Letook 冬季保暖刷毛單車夾克 男款防風保暖騎行服\n",
      "39\n",
      "US$41\n",
      "99\n",
      "40\n",
      "TACVASEN 男款戰術隱藏式連帽軟殼刷毛軍裝夾克外套\n",
      "41\n",
      "US$51\n",
      "99\n",
      "42\n",
      "WenVen 男款 工作服 休閒 軍裝風 翻領 夾克 （常規尺碼 大尺碼 高尺碼）\n",
      "43\n",
      "US$49\n",
      "99\n",
      "儲存 10% 使用優惠卷 （一些尺寸／顏色）\n",
      "44\n",
      "Back From Bali 女裝 披肩 開襟 外套 輕量 針織\n",
      "45\n",
      "US$24\n",
      "95\n",
      "46\n",
      "贊助\n",
      "Swiss Alps 男款 全拉鍊性能 抓毛絨 夾克 運動衫 附口袋\n",
      "47\n",
      "US$27\n",
      "85\n",
      "48\n",
      "贊助\n",
      "5Oaks Mens Rain Jacket Waterproof Raincoat Hooded Packable Anorak\n",
      "49\n",
      "US$34\n",
      "45\n",
      "50\n",
      "贊助\n",
      "時尚夏威夷 T 恤 男款 短袖 正面口袋 糖頭骨 多色\n",
      "51\n",
      "US$14\n",
      "99\n",
      "52\n",
      "ksotutm 女款 2 件式服裝 輕量 風衣 夾克 上衣 + 高腰 短褲 大尺碼 運動服 連身褲\n",
      "53\n",
      "US$28\n",
      "99\n",
      "54\n",
      "WenVen 男款棉質休閒立領風衣野外夾克\n",
      "55\n",
      "WenVen 男款冬季刷毛連帽厚外套\n",
      "56\n",
      "US$68\n",
      "99\n",
      "57\n",
      "Global Blank 男款 輕量風衣 冬季夾克 防水外套\n",
      "58\n",
      "US$29\n",
      "99\n",
      "US$39.99\n",
      "59\n",
      "Belle Poque 女款 蒸汽朋克 哥德式裹身裙 維多利亞式荷葉邊 海盜裙\n",
      "60\n",
      "WenVen 男款 休閒 修身 外套 棉質 全拉鍊 軍事工作外套 夾克\n",
      "61\n",
      "US$51\n",
      "99\n",
      "儲存 10% 使用優惠卷 （一些尺寸／顏色）\n",
      "62\n",
      "女款哥德式蒸汽龐克夾克長款維多利亞式腰帶夾克上衣\n",
      "63\n",
      "ADOME 女款可調式腰部半滑短裙蕾絲下擺內衣\n",
      "64\n",
      "US$13\n",
      "69\n",
      "65\n",
      "Doublju 女款輕盈苗條拉鍊連帽夾克 大尺碼\n",
      "66\n",
      "US$33\n",
      "99\n",
      "US$37.99\n",
      "67\n",
      "Nantersan 男款 休閒 夾克 戶外 運動 風衣 輕量 飛行員夾克 外套\n",
      "68\n",
      "US$29\n",
      "99\n",
      "69\n",
      "EKLENTSON 男款 棉質 輕量 多口袋拉鍊 正面立領軍裝夾克 風衣\n",
      "70\n",
      "US$46\n",
      "99\n",
      "US$62.99\n",
      "71\n",
      "Pacinoble 男款開襟羊毛衫,閃亮亮片開襟長袖夾克,羅紋袖口\n",
      "72\n",
      "US$33\n",
      "95\n",
      "儲存 5% 使用優惠卷 （一些尺寸／顏色）\n",
      "73\n",
      "AITFINEISM 男款輕盈風衣 休閒抽繩連帽 拉鍊夾克\n",
      "74\n",
      "US$32\n",
      "98\n",
      "75\n",
      "LBL ASALI 男款套頭冬季夾克連帽刷毛連帽運動衫 羊毛保暖厚外套\n",
      "76\n",
      "US$35\n",
      "98\n",
      "77\n",
      "WenVen 男款冬季保暖防風可拆卸連帽厚防水滑雪夾克\n",
      "78\n",
      "US$57\n",
      "99\n",
      "79\n",
      "CRYSULLY 男款 春季 秋季 休閒 風衣 夾克 貨架 衣領 軍事 飛行員夾克 外套\n",
      "80\n",
      "US$46\n",
      "99\n",
      "81\n",
      "chouyatou 男款基本棉質輕量短夾克\n",
      "82\n",
      "US$44\n",
      "90\n",
      "83\n",
      "TRUEWERK 男款軟殼工作服 - T3 WerkJacket 高級技術外套\n",
      "84\n",
      "US$139\n",
      "00\n",
      "85\n",
      "女款 可打包羽絨夾克 II 蓬鬆 超輕量短連帽外套 附旅行包\n",
      "86\n",
      "US$48\n",
      "88\n",
      "87\n",
      "CRYSULLY 男款春季秋季休閒修身輕薄外套 運動裝 飛行員夾克 外套\n",
      "88\n",
      "US$32\n",
      "99\n",
      "89\n",
      "WULFUL 男款棉質軍裝夾克休閒戶外外套風衣夾克\n",
      "90\n",
      "US$35\n",
      "99\n",
      "91\n",
      "Floerns Women's Plus Size Sheer Floral Lace Long Sleeve Baseball Jacket\n",
      "92\n",
      "US$22\n",
      "99\n",
      "93\n",
      "Rokka&Rolla 女款輕量可折疊羽絨外套外套\n",
      "94\n",
      "US$45\n",
      "99\n",
      "95\n",
      "PERDONTOO 男款修身輕盈軟殼飛行夾克外套\n",
      "96\n",
      "US$32\n",
      "99\n",
      "97\n",
      "贊助\n",
      "WULFUL 男款輕量防水連帽防雨夾克戶外雨衣軟殼登山夾克\n",
      "98\n",
      "US$39\n",
      "99\n",
      "儲存 10% 使用優惠卷 （一些尺寸／顏色）\n",
      "99\n",
      "贊助\n",
      "Guanzizai 男款輕量飛行夾克軟殼外套拉鍊風衣飛行外套\n",
      "100\n",
      "US$35\n",
      "99\n",
      "儲存 5% 使用優惠卷 （一些尺寸／顏色）\n",
      "101\n",
      "贊助\n",
      "Zeagoo 女款 飛行員夾克 休閒 外套 拉鍊外套 風衣\n",
      "102\n",
      "US$22\n",
      "38\n",
      "US$30.99\n",
      "103\n",
      "贊助\n",
      "5.11 Tactical 男款 Chameleon 軟殼夾克,聚酯纖維布料,內層網眼襯裡,款式 48099\n",
      "104\n",
      "US$84\n",
      "49\n",
      "105\n",
      "贊助\n",
      "Quanzc 加熱背心 USB 充電輕量冬季保暖背心,適合散步、露營、冰釣、單板滑雪\n",
      "106\n",
      "US$55\n",
      "99\n",
      "107\n",
      "贊助\n",
      "ARECON 男款防風防水防風輕量連帽夾克 全拉鍊 戶外跑步\n",
      "108\n",
      "US$25\n",
      "90\n"
     ]
    }
   ],
   "source": [
    "for i,j in enumerate(names):\n",
    "    print(i)\n",
    "    print(j.text)"
   ]
  },
  {
   "cell_type": "code",
   "execution_count": null,
   "metadata": {},
   "outputs": [],
   "source": [
    "# testing\n",
    "\n",
    "URLS = ['http://www.foxnews.com/',\n",
    "        'http://www.cnn.com/',\n",
    "        'http://europe.wsj.com/',\n",
    "        'http://www.bbc.co.uk/',\n",
    "        'http://some-made-up-domain.com/']\n",
    "\n",
    "# Retrieve a single page and report the URL and contents\n",
    "def load_url(url, timeout):\n",
    "    with urllib.request.urlopen(url, timeout=timeout) as conn:\n",
    "        return conn.read()\n",
    "\n"
   ]
  },
  {
   "cell_type": "code",
   "execution_count": null,
   "metadata": {},
   "outputs": [],
   "source": []
  },
  {
   "cell_type": "code",
   "execution_count": null,
   "metadata": {},
   "outputs": [],
   "source": []
  },
  {
   "cell_type": "code",
   "execution_count": null,
   "metadata": {},
   "outputs": [],
   "source": [
    "# close web browser\n",
    "driver.close()"
   ]
  },
  {
   "cell_type": "code",
   "execution_count": null,
   "metadata": {},
   "outputs": [],
   "source": [
    "# call the final function as 'main'"
   ]
  },
  {
   "cell_type": "code",
   "execution_count": null,
   "metadata": {},
   "outputs": [],
   "source": [
    "# check if target items displayed by WebFriverWait()\n",
    "# to save time\n",
    "try:\n",
    "    WebDriverWait(driver, 5).until(lambda s: s.find_element_by_id(\"search-results-category-target\").is_displayed())\n",
    "except TimeoutException:\n",
    "    return None"
   ]
  },
  {
   "cell_type": "code",
   "execution_count": null,
   "metadata": {},
   "outputs": [],
   "source": [
    "# threading lock\n",
    "# add to the end of the function that is not thread-safe\n",
    "import threading\n",
    "csv_write_lock = threading.Lock()\n",
    "\n",
    "# only one thread allowed\n",
    "with csv_write_lock:\n",
    "    with open('data/file_name.csv', mode='a') as f:\n",
    "        text_writer = csv.writer(f, delimiter=',', quotchar='\"', quoting=csv.QUOTE_MINIMAL)\n",
    "        text_writer.writerow([name, price, img_file, url])"
   ]
  },
  {
   "cell_type": "code",
   "execution_count": null,
   "metadata": {},
   "outputs": [],
   "source": []
  },
  {
   "cell_type": "code",
   "execution_count": null,
   "metadata": {},
   "outputs": [],
   "source": []
  },
  {
   "cell_type": "code",
   "execution_count": null,
   "metadata": {},
   "outputs": [],
   "source": [
    "# END"
   ]
  }
 ],
 "metadata": {
  "kernelspec": {
   "display_name": "Python 3",
   "language": "python",
   "name": "python3"
  },
  "language_info": {
   "codemirror_mode": {
    "name": "ipython",
    "version": 3
   },
   "file_extension": ".py",
   "mimetype": "text/x-python",
   "name": "python",
   "nbconvert_exporter": "python",
   "pygments_lexer": "ipython3",
   "version": "3.8.5"
  }
 },
 "nbformat": 4,
 "nbformat_minor": 4
}
