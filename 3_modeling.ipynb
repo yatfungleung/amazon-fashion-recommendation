{
 "cells": [
  {
   "cell_type": "markdown",
   "metadata": {},
   "source": [
    "# 3.1 Imports"
   ]
  },
  {
   "cell_type": "code",
   "execution_count": 7,
   "metadata": {},
   "outputs": [],
   "source": [
    "# import libraries\n",
    "import numpy as np\n",
    "import pandas as pd\n",
    "\n",
    "import urllib\n",
    "from selenium import webdriver\n",
    "from selenium.webdriver.chrome.options import Options\n",
    "from selenium.webdriver.common.keys import Keys\n",
    "from selenium.webdriver.support.ui import WebDriverWait\n",
    "from selenium.common.exceptions import TimeoutException\n",
    "\n",
    "import concurrent.futures\n",
    "from concurrent.futures import ThreadPoolExecutor\n",
    "\n",
    "import time\n",
    "from PIL import Image"
   ]
  },
  {
   "cell_type": "code",
   "execution_count": 8,
   "metadata": {},
   "outputs": [],
   "source": [
    "# ignore warnings\n",
    "import warnings\n",
    "warnings.filterwarnings('ignore')"
   ]
  },
  {
   "cell_type": "code",
   "execution_count": 26,
   "metadata": {},
   "outputs": [],
   "source": [
    "# create function\n",
    "# open web browser\n",
    "\n",
    "def configure_driver():\n",
    "    # incognito window\n",
    "    chrome_options = Options()\n",
    "    chrome_options.add_argument(\"--incognito\")\n",
    "    \n",
    "    # add the argument and make the browser Headless.\n",
    "    # chrome_options.add_argument(\"--headless\")\n",
    "\n",
    "    # open web browser\n",
    "    driver = webdriver.Chrome('C:/Users/Leung/Desktop/chromedriver.exe', options=chrome_options)\n",
    "    return driver"
   ]
  },
  {
   "cell_type": "code",
   "execution_count": null,
   "metadata": {},
   "outputs": [],
   "source": [
    "# adding multiple-threading into the function:\n",
    "\n",
    "# no. of threads to use\n",
    "# threads = min(MAX_THREADS, len(all_links))\n",
    "\n",
    "with ThreadPoolExecutor(max_workers=MAX_THREADS) as executor:\n",
    "    executor.map(detail_scraping_function, all_links)"
   ]
  },
  {
   "cell_type": "code",
   "execution_count": 3,
   "metadata": {},
   "outputs": [],
   "source": [
    "# load data\n",
    "df = pd.read_csv('data/activewear.csv')"
   ]
  },
  {
   "cell_type": "code",
   "execution_count": 4,
   "metadata": {},
   "outputs": [
    {
     "data": {
      "text/html": [
       "<div>\n",
       "<style scoped>\n",
       "    .dataframe tbody tr th:only-of-type {\n",
       "        vertical-align: middle;\n",
       "    }\n",
       "\n",
       "    .dataframe tbody tr th {\n",
       "        vertical-align: top;\n",
       "    }\n",
       "\n",
       "    .dataframe thead th {\n",
       "        text-align: right;\n",
       "    }\n",
       "</style>\n",
       "<table border=\"1\" class=\"dataframe\">\n",
       "  <thead>\n",
       "    <tr style=\"text-align: right;\">\n",
       "      <th></th>\n",
       "      <th>name</th>\n",
       "      <th>price</th>\n",
       "      <th>img_file</th>\n",
       "      <th>url</th>\n",
       "      <th>num_price</th>\n",
       "    </tr>\n",
       "  </thead>\n",
       "  <tbody>\n",
       "    <tr>\n",
       "      <th>0</th>\n",
       "      <td>LACE LIGHTWEAR JACKET</td>\n",
       "      <td>HKD 903.00</td>\n",
       "      <td>image/LACE LIGHTWEAR JACKET.png</td>\n",
       "      <td>https://www.calvinklein.com/hk/en/lace-lightwe...</td>\n",
       "      <td>903.0</td>\n",
       "    </tr>\n",
       "    <tr>\n",
       "      <th>1</th>\n",
       "      <td>LOGO SHORT SLEEVE TEE</td>\n",
       "      <td>HKD 390.00</td>\n",
       "      <td>image/LOGO SHORT SLEEVE TEE.png</td>\n",
       "      <td>https://www.calvinklein.com/hk/en/logo-short-s...</td>\n",
       "      <td>390.0</td>\n",
       "    </tr>\n",
       "    <tr>\n",
       "      <th>2</th>\n",
       "      <td>LACE FITSENSE MESH HEM LEGGINGS</td>\n",
       "      <td>HKD 553.00</td>\n",
       "      <td>image/LACE FITSENSE MESH HEM LEGGINGS.png</td>\n",
       "      <td>https://www.calvinklein.com/hk/en/lace-fitsens...</td>\n",
       "      <td>553.0</td>\n",
       "    </tr>\n",
       "    <tr>\n",
       "      <th>3</th>\n",
       "      <td>BACK V LACE SHORT SLEEVE DRESS</td>\n",
       "      <td>HKD 623.00</td>\n",
       "      <td>image/BACK V LACE SHORT SLEEVE DRESS.png</td>\n",
       "      <td>https://www.calvinklein.com/hk/en/back-v-lace-...</td>\n",
       "      <td>623.0</td>\n",
       "    </tr>\n",
       "    <tr>\n",
       "      <th>4</th>\n",
       "      <td>CK ONE TANGA BIKINI</td>\n",
       "      <td>HKD 392.00</td>\n",
       "      <td>image/CK ONE TANGA BIKINI.png</td>\n",
       "      <td>https://www.calvinklein.com/hk/en/ck-one-tanga...</td>\n",
       "      <td>392.0</td>\n",
       "    </tr>\n",
       "  </tbody>\n",
       "</table>\n",
       "</div>"
      ],
      "text/plain": [
       "                              name       price  \\\n",
       "0            LACE LIGHTWEAR JACKET  HKD 903.00   \n",
       "1            LOGO SHORT SLEEVE TEE  HKD 390.00   \n",
       "2  LACE FITSENSE MESH HEM LEGGINGS  HKD 553.00   \n",
       "3   BACK V LACE SHORT SLEEVE DRESS  HKD 623.00   \n",
       "4              CK ONE TANGA BIKINI  HKD 392.00   \n",
       "\n",
       "                                    img_file  \\\n",
       "0            image/LACE LIGHTWEAR JACKET.png   \n",
       "1            image/LOGO SHORT SLEEVE TEE.png   \n",
       "2  image/LACE FITSENSE MESH HEM LEGGINGS.png   \n",
       "3   image/BACK V LACE SHORT SLEEVE DRESS.png   \n",
       "4              image/CK ONE TANGA BIKINI.png   \n",
       "\n",
       "                                                 url  num_price  \n",
       "0  https://www.calvinklein.com/hk/en/lace-lightwe...      903.0  \n",
       "1  https://www.calvinklein.com/hk/en/logo-short-s...      390.0  \n",
       "2  https://www.calvinklein.com/hk/en/lace-fitsens...      553.0  \n",
       "3  https://www.calvinklein.com/hk/en/back-v-lace-...      623.0  \n",
       "4  https://www.calvinklein.com/hk/en/ck-one-tanga...      392.0  "
      ]
     },
     "execution_count": 4,
     "metadata": {},
     "output_type": "execute_result"
    }
   ],
   "source": [
    "df.head()"
   ]
  },
  {
   "cell_type": "code",
   "execution_count": 52,
   "metadata": {},
   "outputs": [],
   "source": [
    "# testing\n",
    "n = 0\n",
    "\n",
    "name = df['name'].iloc[n]\n",
    "price = df['price'].iloc[n]\n",
    "url = df['url'].iloc[n]"
   ]
  },
  {
   "cell_type": "code",
   "execution_count": 6,
   "metadata": {
    "scrolled": true
   },
   "outputs": [
    {
     "data": {
      "text/plain": [
       "'LACE LIGHTWEAR JACKET'"
      ]
     },
     "execution_count": 6,
     "metadata": {},
     "output_type": "execute_result"
    }
   ],
   "source": [
    "name"
   ]
  },
  {
   "cell_type": "code",
   "execution_count": 53,
   "metadata": {},
   "outputs": [
    {
     "data": {
      "text/plain": [
       "'https://www.calvinklein.com/hk/en/lace-lightwear-jacket-4WT1O553.html?dwvar_4WT1O553_color=BRIGHT%20WHITE'"
      ]
     },
     "execution_count": 53,
     "metadata": {},
     "output_type": "execute_result"
    }
   ],
   "source": [
    "url"
   ]
  },
  {
   "cell_type": "code",
   "execution_count": 54,
   "metadata": {},
   "outputs": [],
   "source": [
    "# open web browser\n",
    "driver = configure_driver()"
   ]
  },
  {
   "cell_type": "code",
   "execution_count": 55,
   "metadata": {},
   "outputs": [],
   "source": [
    "# search engine\n",
    "search_engine = 'https://www.amazon.com/?currency=HKD&language=en_US'"
   ]
  },
  {
   "cell_type": "code",
   "execution_count": 56,
   "metadata": {},
   "outputs": [],
   "source": [
    "# input website\n",
    "driver.get(search_engine)"
   ]
  },
  {
   "cell_type": "code",
   "execution_count": 57,
   "metadata": {},
   "outputs": [],
   "source": [
    "# may need time sleep\n",
    "time.sleep(0.5)"
   ]
  },
  {
   "cell_type": "code",
   "execution_count": 59,
   "metadata": {},
   "outputs": [],
   "source": [
    "# Choose HKD\n",
    "\n",
    "# select option\n",
    "option = driver.find_element_by_id('icp-touch-link-cop')\n",
    "option.click()\n",
    "\n",
    "# select currency setting\n",
    "currency = driver.find_element_by_xpath('//span[@class=\"a-button-inner\"]')\n",
    "currency.click()\n",
    "\n",
    "# select hkd as currency\n",
    "hkd = driver.find_element_by_xpath('//li[@class=\"a-dropdown-item\"]/a[contains(text(), \"Hong Kong Dollar\")]')\n",
    "hkd.click()\n",
    "\n",
    "# save change\n",
    "save = driver.find_element_by_id('icp-btn-save')\n",
    "save.click()"
   ]
  },
  {
   "cell_type": "code",
   "execution_count": 62,
   "metadata": {},
   "outputs": [],
   "source": [
    "# select 'women's fashion' as department\n",
    "department = driver.find_element_by_xpath('//select[@class=\"nav-search-dropdown searchSelect nav-progressive-attrubute nav-progressive-search-dropdown\"]/option[contains(text(), \"Women\\'s Fashion\")]')\n",
    "department.click()"
   ]
  },
  {
   "cell_type": "code",
   "execution_count": 63,
   "metadata": {},
   "outputs": [],
   "source": [
    "# input search item\n",
    "search_bar = driver.find_element_by_id('twotabsearchtextbox')\n",
    "search_bar.send_keys(name)\n",
    "search_bar.send_keys(Keys.ENTER)"
   ]
  },
  {
   "cell_type": "code",
   "execution_count": 75,
   "metadata": {},
   "outputs": [],
   "source": [
    "# get links\n",
    "links = []\n",
    "link_paths = driver.find_elements_by_xpath('//div/h2/a[@class=\"a-link-normal a-text-normal\"]')\n",
    "for link in link_paths:\n",
    "    x = link.get_attribute('href')\n",
    "    links.append(x)"
   ]
  },
  {
   "cell_type": "code",
   "execution_count": 77,
   "metadata": {},
   "outputs": [
    {
     "data": {
      "text/plain": [
       "15"
      ]
     },
     "execution_count": 77,
     "metadata": {},
     "output_type": "execute_result"
    }
   ],
   "source": [
    "len(links)"
   ]
  },
  {
   "cell_type": "code",
   "execution_count": 79,
   "metadata": {
    "scrolled": true
   },
   "outputs": [
    {
     "data": {
      "text/plain": [
       "['https://www.amazon.com/Wantdo-Womens-Hooded-Packable-Weight/dp/B07121ZT3X/ref=sr_1_1?dchild=1&keywords=LACE+LIGHTWEAR+JACKET&qid=1623920403&s=fashion-womens-intl-ship&sr=1-1',\n",
       " 'https://www.amazon.com/Zeagoo-Womens-Classic-Quilted-Jacket/dp/B014W4KLQC/ref=sr_1_2?dchild=1&keywords=LACE+LIGHTWEAR+JACKET&qid=1623920403&s=fashion-womens-intl-ship&sr=1-2',\n",
       " 'https://www.amazon.com/Back-Bali-Womens-Lightweight-Cardigan/dp/B01MZDSQ9J/ref=sr_1_3?dchild=1&keywords=LACE+LIGHTWEAR+JACKET&qid=1623920403&s=fashion-womens-intl-ship&sr=1-3',\n",
       " 'https://www.amazon.com/Doublju-Lightweight-Zip-Up-Hoodie-Marledblack/dp/B074GH1BMZ/ref=sr_1_4?dchild=1&keywords=LACE+LIGHTWEAR+JACKET&qid=1623920403&s=fashion-womens-intl-ship&sr=1-4',\n",
       " 'https://www.amazon.com/ADOME-Womens-Adjustable-Underskirt-Lingerie/dp/B076GZMWZ4/ref=sr_1_5?dchild=1&keywords=LACE+LIGHTWEAR+JACKET&qid=1623920403&s=fashion-womens-intl-ship&sr=1-5']"
      ]
     },
     "execution_count": 79,
     "metadata": {},
     "output_type": "execute_result"
    }
   ],
   "source": [
    "links[:5]"
   ]
  },
  {
   "cell_type": "code",
   "execution_count": 85,
   "metadata": {},
   "outputs": [],
   "source": [
    "# close web browser\n",
    "driver.close()"
   ]
  },
  {
   "cell_type": "code",
   "execution_count": 80,
   "metadata": {},
   "outputs": [],
   "source": [
    "# testing\n",
    "product_link = 'https://www.amazon.com/Wantdo-Womens-Hooded-Packable-Weight/dp/B07121ZT3X/ref=sr_1_1?dchild=1&keywords=LACE+LIGHTWEAR+JACKET&qid=1623920403&s=fashion-womens-intl-ship&sr=1-1'"
   ]
  },
  {
   "cell_type": "code",
   "execution_count": 86,
   "metadata": {},
   "outputs": [],
   "source": [
    "# open web browser\n",
    "driver = configure_driver()"
   ]
  },
  {
   "cell_type": "code",
   "execution_count": 87,
   "metadata": {},
   "outputs": [],
   "source": [
    "# search engine\n",
    "search_engine = 'https://www.amazon.com/?currency=HKD&language=en_US'"
   ]
  },
  {
   "cell_type": "code",
   "execution_count": 88,
   "metadata": {},
   "outputs": [],
   "source": [
    "# input website\n",
    "driver.get(search_engine)"
   ]
  },
  {
   "cell_type": "code",
   "execution_count": 89,
   "metadata": {},
   "outputs": [],
   "source": [
    "# may need time sleep\n",
    "time.sleep(0.5)"
   ]
  },
  {
   "cell_type": "code",
   "execution_count": 92,
   "metadata": {},
   "outputs": [],
   "source": [
    "# Choose HKD\n",
    "\n",
    "# select option\n",
    "option = driver.find_element_by_id('icp-touch-link-cop')\n",
    "option.click()\n",
    "\n",
    "# may need time sleep\n",
    "time.sleep(0.1)\n",
    "\n",
    "# select currency setting\n",
    "currency = driver.find_element_by_xpath('//span[@class=\"a-button-inner\"]')\n",
    "currency.click()\n",
    "\n",
    "# select hkd as currency\n",
    "hkd = driver.find_element_by_xpath('//li[@class=\"a-dropdown-item\"]/a[contains(text(), \"Hong Kong Dollar\")]')\n",
    "hkd.click()\n",
    "\n",
    "# save change\n",
    "save = driver.find_element_by_id('icp-btn-save')\n",
    "save.click()"
   ]
  },
  {
   "cell_type": "code",
   "execution_count": null,
   "metadata": {},
   "outputs": [],
   "source": [
    "# may need time sleep\n",
    "time.sleep(0.5)"
   ]
  },
  {
   "cell_type": "code",
   "execution_count": 93,
   "metadata": {},
   "outputs": [],
   "source": [
    "# input website\n",
    "driver.get(product_link)"
   ]
  },
  {
   "cell_type": "code",
   "execution_count": 94,
   "metadata": {},
   "outputs": [],
   "source": [
    "# may need time sleep\n",
    "time.sleep(0.5)"
   ]
  },
  {
   "cell_type": "code",
   "execution_count": 95,
   "metadata": {},
   "outputs": [],
   "source": [
    "# product names\n",
    "try:\n",
    "    name = driver.find_elements_by_tag_name('h1')\n",
    "    name = name[0].text\n",
    "except:\n",
    "    name = None"
   ]
  },
  {
   "cell_type": "code",
   "execution_count": 96,
   "metadata": {},
   "outputs": [
    {
     "data": {
      "text/plain": [
       "\"Wantdo Women's Lightweight Down Jacket Packable Puffer Coat Hooded Insulated Jacket\""
      ]
     },
     "execution_count": 96,
     "metadata": {},
     "output_type": "execute_result"
    }
   ],
   "source": [
    "name"
   ]
  },
  {
   "cell_type": "code",
   "execution_count": 97,
   "metadata": {},
   "outputs": [],
   "source": [
    "# product price\n",
    "try:\n",
    "    price = driver.find_elements_by_xpath('//td[@class=\"a-span12\"]')\n",
    "    price = price[0].text\n",
    "except:\n",
    "    price = None"
   ]
  },
  {
   "cell_type": "code",
   "execution_count": 98,
   "metadata": {
    "scrolled": true
   },
   "outputs": [
    {
     "data": {
      "text/plain": [
       "'HKD 465.16'"
      ]
     },
     "execution_count": 98,
     "metadata": {},
     "output_type": "execute_result"
    }
   ],
   "source": [
    "price"
   ]
  },
  {
   "cell_type": "code",
   "execution_count": 105,
   "metadata": {},
   "outputs": [],
   "source": [
    "index = 0"
   ]
  },
  {
   "cell_type": "code",
   "execution_count": 108,
   "metadata": {},
   "outputs": [],
   "source": [
    "# product image\n",
    "try:\n",
    "    # size\n",
    "    img_width,img_height = 300,300\n",
    "\n",
    "    # get image\n",
    "    img = driver.find_elements_by_xpath('//div/img[@id=\"landingImage\"]')\n",
    "    img = img[0]\n",
    "\n",
    "    # 'src' = get image source\n",
    "    src = img.get_attribute('src')\n",
    "\n",
    "    # download image\n",
    "    urllib.request.urlretrieve(src, f'image/Amazon/{index}.png')\n",
    "\n",
    "    # resize image (smaller size)\n",
    "    ori_img = Image.open(f'image/Amazon/{index}.png')\n",
    "    resize_img = ori_img.resize((img_width,img_height))\n",
    "    resize_img.save(f'image/Amazon/{index}.png')\n",
    "\n",
    "    img_file = f'image/Amazon/{index}.png'\n",
    "except:\n",
    "    img_file = None"
   ]
  },
  {
   "cell_type": "code",
   "execution_count": 109,
   "metadata": {},
   "outputs": [
    {
     "data": {
      "text/plain": [
       "'image/Amazon/0.png'"
      ]
     },
     "execution_count": 109,
     "metadata": {},
     "output_type": "execute_result"
    }
   ],
   "source": [
    "img_file"
   ]
  },
  {
   "cell_type": "code",
   "execution_count": null,
   "metadata": {},
   "outputs": [],
   "source": []
  },
  {
   "cell_type": "code",
   "execution_count": 110,
   "metadata": {},
   "outputs": [],
   "source": [
    "# close web browser\n",
    "driver.close()"
   ]
  },
  {
   "cell_type": "code",
   "execution_count": null,
   "metadata": {},
   "outputs": [],
   "source": [
    "# call the final function as 'main'"
   ]
  },
  {
   "cell_type": "code",
   "execution_count": null,
   "metadata": {},
   "outputs": [],
   "source": [
    "# check if target items displayed by WebDriverWait()\n",
    "# to save time\n",
    "try:\n",
    "    WebDriverWait(driver, 5).until(lambda s: s.find_element_by_id(\"search-results-category-target\").is_displayed())\n",
    "except TimeoutException:\n",
    "    return None"
   ]
  },
  {
   "cell_type": "code",
   "execution_count": null,
   "metadata": {},
   "outputs": [],
   "source": [
    "# threading lock\n",
    "# add to the end of the function that is not thread-safe\n",
    "import threading\n",
    "csv_write_lock = threading.Lock()\n",
    "\n",
    "# only one thread allowed\n",
    "with csv_write_lock:\n",
    "    with open('data/file_name.csv', mode='a') as f:\n",
    "        text_writer = csv.writer(f, delimiter=',', quotchar='\"', quoting=csv.QUOTE_MINIMAL)\n",
    "        text_writer.writerow([name, price, img_file, url])"
   ]
  },
  {
   "cell_type": "code",
   "execution_count": null,
   "metadata": {},
   "outputs": [],
   "source": []
  },
  {
   "cell_type": "code",
   "execution_count": null,
   "metadata": {},
   "outputs": [],
   "source": []
  },
  {
   "cell_type": "code",
   "execution_count": null,
   "metadata": {},
   "outputs": [],
   "source": [
    "# END"
   ]
  }
 ],
 "metadata": {
  "kernelspec": {
   "display_name": "Python 3",
   "language": "python",
   "name": "python3"
  },
  "language_info": {
   "codemirror_mode": {
    "name": "ipython",
    "version": 3
   },
   "file_extension": ".py",
   "mimetype": "text/x-python",
   "name": "python",
   "nbconvert_exporter": "python",
   "pygments_lexer": "ipython3",
   "version": "3.8.5"
  }
 },
 "nbformat": 4,
 "nbformat_minor": 4
}
