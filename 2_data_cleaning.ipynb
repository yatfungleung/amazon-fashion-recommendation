{
 "cells": [
  {
   "cell_type": "markdown",
   "metadata": {},
   "source": [
    "# 2.1 Imports"
   ]
  },
  {
   "cell_type": "code",
   "execution_count": 1,
   "metadata": {},
   "outputs": [],
   "source": [
    "# import libraries\n",
    "import numpy as np\n",
    "import pandas as pd"
   ]
  },
  {
   "cell_type": "code",
   "execution_count": 2,
   "metadata": {},
   "outputs": [],
   "source": [
    "# ignore warnings\n",
    "import warnings\n",
    "warnings.filterwarnings('ignore')"
   ]
  },
  {
   "cell_type": "code",
   "execution_count": 3,
   "metadata": {},
   "outputs": [],
   "source": [
    "# list of categories\n",
    "categories = [\n",
    "    'activewear',\n",
    "    'jackets',\n",
    "    'sweatshirts-hoodies'\n",
    "]"
   ]
  },
  {
   "cell_type": "markdown",
   "metadata": {},
   "source": [
    "# 2.2 'price' Cleaning"
   ]
  },
  {
   "cell_type": "code",
   "execution_count": 4,
   "metadata": {},
   "outputs": [],
   "source": [
    "# check one of the categories csv\n",
    "category = 'activewear'"
   ]
  },
  {
   "cell_type": "code",
   "execution_count": 5,
   "metadata": {},
   "outputs": [],
   "source": [
    "# load data\n",
    "df = pd.read_csv(f'data/{category}.csv')"
   ]
  },
  {
   "cell_type": "code",
   "execution_count": 6,
   "metadata": {},
   "outputs": [
    {
     "data": {
      "text/html": [
       "<div>\n",
       "<style scoped>\n",
       "    .dataframe tbody tr th:only-of-type {\n",
       "        vertical-align: middle;\n",
       "    }\n",
       "\n",
       "    .dataframe tbody tr th {\n",
       "        vertical-align: top;\n",
       "    }\n",
       "\n",
       "    .dataframe thead th {\n",
       "        text-align: right;\n",
       "    }\n",
       "</style>\n",
       "<table border=\"1\" class=\"dataframe\">\n",
       "  <thead>\n",
       "    <tr style=\"text-align: right;\">\n",
       "      <th></th>\n",
       "      <th>name</th>\n",
       "      <th>price</th>\n",
       "      <th>img_file</th>\n",
       "      <th>url</th>\n",
       "    </tr>\n",
       "  </thead>\n",
       "  <tbody>\n",
       "    <tr>\n",
       "      <th>0</th>\n",
       "      <td>LACE LIGHTWEAR JACKET</td>\n",
       "      <td>HKD 903.00</td>\n",
       "      <td>image/LACE LIGHTWEAR JACKET.png</td>\n",
       "      <td>https://www.calvinklein.com/hk/en/lace-lightwe...</td>\n",
       "    </tr>\n",
       "    <tr>\n",
       "      <th>1</th>\n",
       "      <td>LOGO SHORT SLEEVE TEE</td>\n",
       "      <td>HKD 390.00</td>\n",
       "      <td>image/LOGO SHORT SLEEVE TEE.png</td>\n",
       "      <td>https://www.calvinklein.com/hk/en/logo-short-s...</td>\n",
       "    </tr>\n",
       "    <tr>\n",
       "      <th>2</th>\n",
       "      <td>LACE FITSENSE MESH HEM LEGGINGS</td>\n",
       "      <td>HKD 553.00</td>\n",
       "      <td>image/LACE FITSENSE MESH HEM LEGGINGS.png</td>\n",
       "      <td>https://www.calvinklein.com/hk/en/lace-fitsens...</td>\n",
       "    </tr>\n",
       "    <tr>\n",
       "      <th>3</th>\n",
       "      <td>BACK V LACE SHORT SLEEVE DRESS</td>\n",
       "      <td>HKD 623.00</td>\n",
       "      <td>image/BACK V LACE SHORT SLEEVE DRESS.png</td>\n",
       "      <td>https://www.calvinklein.com/hk/en/back-v-lace-...</td>\n",
       "    </tr>\n",
       "    <tr>\n",
       "      <th>4</th>\n",
       "      <td>CK ONE TANGA BIKINI</td>\n",
       "      <td>HKD 392.00</td>\n",
       "      <td>image/CK ONE TANGA BIKINI.png</td>\n",
       "      <td>https://www.calvinklein.com/hk/en/ck-one-tanga...</td>\n",
       "    </tr>\n",
       "    <tr>\n",
       "      <th>5</th>\n",
       "      <td>ACTIVE ICON FULL LENGTH ALL-OVER PRINT LEGGINGS</td>\n",
       "      <td>HKD 483.00</td>\n",
       "      <td>image/ACTIVE ICON FULL LENGTH ALL-OVER PRINT L...</td>\n",
       "      <td>https://www.calvinklein.com/hk/en/active-icon-...</td>\n",
       "    </tr>\n",
       "    <tr>\n",
       "      <th>6</th>\n",
       "      <td>ACTIVE ICON HOODED SWEAT JACKET</td>\n",
       "      <td>HKD 693.00</td>\n",
       "      <td>image/ACTIVE ICON HOODED SWEAT JACKET.png</td>\n",
       "      <td>https://www.calvinklein.com/hk/en/active-icon-...</td>\n",
       "    </tr>\n",
       "    <tr>\n",
       "      <th>7</th>\n",
       "      <td>CK ONE BRALETTE</td>\n",
       "      <td>HKD 392.00</td>\n",
       "      <td>image/CK ONE BRALETTE.png</td>\n",
       "      <td>https://www.calvinklein.com/hk/en/ck-one-brale...</td>\n",
       "    </tr>\n",
       "    <tr>\n",
       "      <th>8</th>\n",
       "      <td>LOGO SHORT SLEEVE TEE</td>\n",
       "      <td>HKD 390.00</td>\n",
       "      <td>image/LOGO SHORT SLEEVE TEE.png</td>\n",
       "      <td>https://www.calvinklein.com/hk/en/logo-short-s...</td>\n",
       "    </tr>\n",
       "    <tr>\n",
       "      <th>9</th>\n",
       "      <td>PRIDE RAINBOW TAPE HOODED JACKET</td>\n",
       "      <td>HKD 1,290.00</td>\n",
       "      <td>image/PRIDE RAINBOW TAPE HOODED JACKET.png</td>\n",
       "      <td>https://www.calvinklein.com/hk/en/pride-rainbo...</td>\n",
       "    </tr>\n",
       "  </tbody>\n",
       "</table>\n",
       "</div>"
      ],
      "text/plain": [
       "                                              name         price  \\\n",
       "0                            LACE LIGHTWEAR JACKET    HKD 903.00   \n",
       "1                            LOGO SHORT SLEEVE TEE    HKD 390.00   \n",
       "2                  LACE FITSENSE MESH HEM LEGGINGS    HKD 553.00   \n",
       "3                   BACK V LACE SHORT SLEEVE DRESS    HKD 623.00   \n",
       "4                              CK ONE TANGA BIKINI    HKD 392.00   \n",
       "5  ACTIVE ICON FULL LENGTH ALL-OVER PRINT LEGGINGS    HKD 483.00   \n",
       "6                  ACTIVE ICON HOODED SWEAT JACKET    HKD 693.00   \n",
       "7                                  CK ONE BRALETTE    HKD 392.00   \n",
       "8                            LOGO SHORT SLEEVE TEE    HKD 390.00   \n",
       "9                 PRIDE RAINBOW TAPE HOODED JACKET  HKD 1,290.00   \n",
       "\n",
       "                                            img_file  \\\n",
       "0                    image/LACE LIGHTWEAR JACKET.png   \n",
       "1                    image/LOGO SHORT SLEEVE TEE.png   \n",
       "2          image/LACE FITSENSE MESH HEM LEGGINGS.png   \n",
       "3           image/BACK V LACE SHORT SLEEVE DRESS.png   \n",
       "4                      image/CK ONE TANGA BIKINI.png   \n",
       "5  image/ACTIVE ICON FULL LENGTH ALL-OVER PRINT L...   \n",
       "6          image/ACTIVE ICON HOODED SWEAT JACKET.png   \n",
       "7                          image/CK ONE BRALETTE.png   \n",
       "8                    image/LOGO SHORT SLEEVE TEE.png   \n",
       "9         image/PRIDE RAINBOW TAPE HOODED JACKET.png   \n",
       "\n",
       "                                                 url  \n",
       "0  https://www.calvinklein.com/hk/en/lace-lightwe...  \n",
       "1  https://www.calvinklein.com/hk/en/logo-short-s...  \n",
       "2  https://www.calvinklein.com/hk/en/lace-fitsens...  \n",
       "3  https://www.calvinklein.com/hk/en/back-v-lace-...  \n",
       "4  https://www.calvinklein.com/hk/en/ck-one-tanga...  \n",
       "5  https://www.calvinklein.com/hk/en/active-icon-...  \n",
       "6  https://www.calvinklein.com/hk/en/active-icon-...  \n",
       "7  https://www.calvinklein.com/hk/en/ck-one-brale...  \n",
       "8  https://www.calvinklein.com/hk/en/logo-short-s...  \n",
       "9  https://www.calvinklein.com/hk/en/pride-rainbo...  "
      ]
     },
     "execution_count": 6,
     "metadata": {},
     "output_type": "execute_result"
    }
   ],
   "source": [
    "df"
   ]
  },
  {
   "cell_type": "code",
   "execution_count": 7,
   "metadata": {},
   "outputs": [
    {
     "name": "stdout",
     "output_type": "stream",
     "text": [
      "<class 'pandas.core.frame.DataFrame'>\n",
      "RangeIndex: 10 entries, 0 to 9\n",
      "Data columns (total 4 columns):\n",
      " #   Column    Non-Null Count  Dtype \n",
      "---  ------    --------------  ----- \n",
      " 0   name      10 non-null     object\n",
      " 1   price     10 non-null     object\n",
      " 2   img_file  10 non-null     object\n",
      " 3   url       10 non-null     object\n",
      "dtypes: object(4)\n",
      "memory usage: 448.0+ bytes\n"
     ]
    }
   ],
   "source": [
    "# check data type\n",
    "df.info()"
   ]
  },
  {
   "cell_type": "code",
   "execution_count": 8,
   "metadata": {},
   "outputs": [],
   "source": [
    "df['num_price'] = df.price.apply(lambda x: x[4:].replace(',','')).astype(float)"
   ]
  },
  {
   "cell_type": "code",
   "execution_count": 9,
   "metadata": {},
   "outputs": [
    {
     "name": "stdout",
     "output_type": "stream",
     "text": [
      "<class 'pandas.core.frame.DataFrame'>\n",
      "RangeIndex: 10 entries, 0 to 9\n",
      "Data columns (total 5 columns):\n",
      " #   Column     Non-Null Count  Dtype  \n",
      "---  ------     --------------  -----  \n",
      " 0   name       10 non-null     object \n",
      " 1   price      10 non-null     object \n",
      " 2   img_file   10 non-null     object \n",
      " 3   url        10 non-null     object \n",
      " 4   num_price  10 non-null     float64\n",
      "dtypes: float64(1), object(4)\n",
      "memory usage: 528.0+ bytes\n"
     ]
    }
   ],
   "source": [
    "df.info()"
   ]
  },
  {
   "cell_type": "code",
   "execution_count": 10,
   "metadata": {},
   "outputs": [
    {
     "data": {
      "text/html": [
       "<div>\n",
       "<style scoped>\n",
       "    .dataframe tbody tr th:only-of-type {\n",
       "        vertical-align: middle;\n",
       "    }\n",
       "\n",
       "    .dataframe tbody tr th {\n",
       "        vertical-align: top;\n",
       "    }\n",
       "\n",
       "    .dataframe thead th {\n",
       "        text-align: right;\n",
       "    }\n",
       "</style>\n",
       "<table border=\"1\" class=\"dataframe\">\n",
       "  <thead>\n",
       "    <tr style=\"text-align: right;\">\n",
       "      <th></th>\n",
       "      <th>name</th>\n",
       "      <th>price</th>\n",
       "      <th>img_file</th>\n",
       "      <th>url</th>\n",
       "      <th>num_price</th>\n",
       "    </tr>\n",
       "  </thead>\n",
       "  <tbody>\n",
       "    <tr>\n",
       "      <th>0</th>\n",
       "      <td>LACE LIGHTWEAR JACKET</td>\n",
       "      <td>HKD 903.00</td>\n",
       "      <td>image/LACE LIGHTWEAR JACKET.png</td>\n",
       "      <td>https://www.calvinklein.com/hk/en/lace-lightwe...</td>\n",
       "      <td>903.0</td>\n",
       "    </tr>\n",
       "    <tr>\n",
       "      <th>1</th>\n",
       "      <td>LOGO SHORT SLEEVE TEE</td>\n",
       "      <td>HKD 390.00</td>\n",
       "      <td>image/LOGO SHORT SLEEVE TEE.png</td>\n",
       "      <td>https://www.calvinklein.com/hk/en/logo-short-s...</td>\n",
       "      <td>390.0</td>\n",
       "    </tr>\n",
       "    <tr>\n",
       "      <th>2</th>\n",
       "      <td>LACE FITSENSE MESH HEM LEGGINGS</td>\n",
       "      <td>HKD 553.00</td>\n",
       "      <td>image/LACE FITSENSE MESH HEM LEGGINGS.png</td>\n",
       "      <td>https://www.calvinklein.com/hk/en/lace-fitsens...</td>\n",
       "      <td>553.0</td>\n",
       "    </tr>\n",
       "    <tr>\n",
       "      <th>3</th>\n",
       "      <td>BACK V LACE SHORT SLEEVE DRESS</td>\n",
       "      <td>HKD 623.00</td>\n",
       "      <td>image/BACK V LACE SHORT SLEEVE DRESS.png</td>\n",
       "      <td>https://www.calvinklein.com/hk/en/back-v-lace-...</td>\n",
       "      <td>623.0</td>\n",
       "    </tr>\n",
       "    <tr>\n",
       "      <th>4</th>\n",
       "      <td>CK ONE TANGA BIKINI</td>\n",
       "      <td>HKD 392.00</td>\n",
       "      <td>image/CK ONE TANGA BIKINI.png</td>\n",
       "      <td>https://www.calvinklein.com/hk/en/ck-one-tanga...</td>\n",
       "      <td>392.0</td>\n",
       "    </tr>\n",
       "    <tr>\n",
       "      <th>5</th>\n",
       "      <td>ACTIVE ICON FULL LENGTH ALL-OVER PRINT LEGGINGS</td>\n",
       "      <td>HKD 483.00</td>\n",
       "      <td>image/ACTIVE ICON FULL LENGTH ALL-OVER PRINT L...</td>\n",
       "      <td>https://www.calvinklein.com/hk/en/active-icon-...</td>\n",
       "      <td>483.0</td>\n",
       "    </tr>\n",
       "    <tr>\n",
       "      <th>6</th>\n",
       "      <td>ACTIVE ICON HOODED SWEAT JACKET</td>\n",
       "      <td>HKD 693.00</td>\n",
       "      <td>image/ACTIVE ICON HOODED SWEAT JACKET.png</td>\n",
       "      <td>https://www.calvinklein.com/hk/en/active-icon-...</td>\n",
       "      <td>693.0</td>\n",
       "    </tr>\n",
       "    <tr>\n",
       "      <th>7</th>\n",
       "      <td>CK ONE BRALETTE</td>\n",
       "      <td>HKD 392.00</td>\n",
       "      <td>image/CK ONE BRALETTE.png</td>\n",
       "      <td>https://www.calvinklein.com/hk/en/ck-one-brale...</td>\n",
       "      <td>392.0</td>\n",
       "    </tr>\n",
       "    <tr>\n",
       "      <th>8</th>\n",
       "      <td>LOGO SHORT SLEEVE TEE</td>\n",
       "      <td>HKD 390.00</td>\n",
       "      <td>image/LOGO SHORT SLEEVE TEE.png</td>\n",
       "      <td>https://www.calvinklein.com/hk/en/logo-short-s...</td>\n",
       "      <td>390.0</td>\n",
       "    </tr>\n",
       "    <tr>\n",
       "      <th>9</th>\n",
       "      <td>PRIDE RAINBOW TAPE HOODED JACKET</td>\n",
       "      <td>HKD 1,290.00</td>\n",
       "      <td>image/PRIDE RAINBOW TAPE HOODED JACKET.png</td>\n",
       "      <td>https://www.calvinklein.com/hk/en/pride-rainbo...</td>\n",
       "      <td>1290.0</td>\n",
       "    </tr>\n",
       "  </tbody>\n",
       "</table>\n",
       "</div>"
      ],
      "text/plain": [
       "                                              name         price  \\\n",
       "0                            LACE LIGHTWEAR JACKET    HKD 903.00   \n",
       "1                            LOGO SHORT SLEEVE TEE    HKD 390.00   \n",
       "2                  LACE FITSENSE MESH HEM LEGGINGS    HKD 553.00   \n",
       "3                   BACK V LACE SHORT SLEEVE DRESS    HKD 623.00   \n",
       "4                              CK ONE TANGA BIKINI    HKD 392.00   \n",
       "5  ACTIVE ICON FULL LENGTH ALL-OVER PRINT LEGGINGS    HKD 483.00   \n",
       "6                  ACTIVE ICON HOODED SWEAT JACKET    HKD 693.00   \n",
       "7                                  CK ONE BRALETTE    HKD 392.00   \n",
       "8                            LOGO SHORT SLEEVE TEE    HKD 390.00   \n",
       "9                 PRIDE RAINBOW TAPE HOODED JACKET  HKD 1,290.00   \n",
       "\n",
       "                                            img_file  \\\n",
       "0                    image/LACE LIGHTWEAR JACKET.png   \n",
       "1                    image/LOGO SHORT SLEEVE TEE.png   \n",
       "2          image/LACE FITSENSE MESH HEM LEGGINGS.png   \n",
       "3           image/BACK V LACE SHORT SLEEVE DRESS.png   \n",
       "4                      image/CK ONE TANGA BIKINI.png   \n",
       "5  image/ACTIVE ICON FULL LENGTH ALL-OVER PRINT L...   \n",
       "6          image/ACTIVE ICON HOODED SWEAT JACKET.png   \n",
       "7                          image/CK ONE BRALETTE.png   \n",
       "8                    image/LOGO SHORT SLEEVE TEE.png   \n",
       "9         image/PRIDE RAINBOW TAPE HOODED JACKET.png   \n",
       "\n",
       "                                                 url  num_price  \n",
       "0  https://www.calvinklein.com/hk/en/lace-lightwe...      903.0  \n",
       "1  https://www.calvinklein.com/hk/en/logo-short-s...      390.0  \n",
       "2  https://www.calvinklein.com/hk/en/lace-fitsens...      553.0  \n",
       "3  https://www.calvinklein.com/hk/en/back-v-lace-...      623.0  \n",
       "4  https://www.calvinklein.com/hk/en/ck-one-tanga...      392.0  \n",
       "5  https://www.calvinklein.com/hk/en/active-icon-...      483.0  \n",
       "6  https://www.calvinklein.com/hk/en/active-icon-...      693.0  \n",
       "7  https://www.calvinklein.com/hk/en/ck-one-brale...      392.0  \n",
       "8  https://www.calvinklein.com/hk/en/logo-short-s...      390.0  \n",
       "9  https://www.calvinklein.com/hk/en/pride-rainbo...     1290.0  "
      ]
     },
     "execution_count": 10,
     "metadata": {},
     "output_type": "execute_result"
    }
   ],
   "source": [
    "df"
   ]
  },
  {
   "cell_type": "code",
   "execution_count": 11,
   "metadata": {},
   "outputs": [],
   "source": [
    "# for every category, amend the csv file\n",
    "\n",
    "for category in categories:\n",
    "    \n",
    "    # load data\n",
    "    df = pd.read_csv(f'data/{category}.csv')\n",
    "    \n",
    "    # create new column 'num_price'\n",
    "    df['num_price'] = df.price.apply(lambda x: x[4:].replace(',','')).astype(float)\n",
    "    \n",
    "    # save file\n",
    "    df.to_csv(f'data/{category}.csv', index=False)"
   ]
  },
  {
   "cell_type": "code",
   "execution_count": null,
   "metadata": {},
   "outputs": [],
   "source": []
  },
  {
   "cell_type": "code",
   "execution_count": null,
   "metadata": {},
   "outputs": [],
   "source": []
  },
  {
   "cell_type": "code",
   "execution_count": 12,
   "metadata": {},
   "outputs": [],
   "source": [
    "# END"
   ]
  }
 ],
 "metadata": {
  "kernelspec": {
   "display_name": "Python 3",
   "language": "python",
   "name": "python3"
  },
  "language_info": {
   "codemirror_mode": {
    "name": "ipython",
    "version": 3
   },
   "file_extension": ".py",
   "mimetype": "text/x-python",
   "name": "python",
   "nbconvert_exporter": "python",
   "pygments_lexer": "ipython3",
   "version": "3.8.5"
  }
 },
 "nbformat": 4,
 "nbformat_minor": 4
}
