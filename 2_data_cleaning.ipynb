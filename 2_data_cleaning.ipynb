{
 "cells": [
  {
   "cell_type": "markdown",
   "metadata": {},
   "source": [
    "# 2.1 Imports"
   ]
  },
  {
   "cell_type": "code",
   "execution_count": 1,
   "metadata": {},
   "outputs": [],
   "source": [
    "# import libraries\n",
    "import numpy as np\n",
    "import pandas as pd"
   ]
  },
  {
   "cell_type": "code",
   "execution_count": 2,
   "metadata": {},
   "outputs": [],
   "source": [
    "# ignore warnings\n",
    "import warnings\n",
    "warnings.filterwarnings('ignore')"
   ]
  },
  {
   "cell_type": "code",
   "execution_count": 3,
   "metadata": {},
   "outputs": [],
   "source": [
    "# list of categories\n",
    "categories = [\n",
    "    'activewear',\n",
    "    'jackets',\n",
    "    'sweatshirts-hoodies'\n",
    "]"
   ]
  },
  {
   "cell_type": "markdown",
   "metadata": {},
   "source": [
    "# 2.2 'price' Cleaning"
   ]
  },
  {
   "cell_type": "code",
   "execution_count": 4,
   "metadata": {},
   "outputs": [],
   "source": [
    "# check one of the categories csv\n",
    "category = 'activewear'"
   ]
  },
  {
   "cell_type": "code",
   "execution_count": 5,
   "metadata": {},
   "outputs": [],
   "source": [
    "# load data\n",
    "df = pd.read_csv(f'data/{category}.csv')"
   ]
  },
  {
   "cell_type": "code",
   "execution_count": 6,
   "metadata": {},
   "outputs": [
    {
     "output_type": "execute_result",
     "data": {
      "text/plain": [
       "                                              name       price  \\\n",
       "0                              CK ONE TANGA BIKINI  HKD 392.00   \n",
       "1                                  CK ONE BRALETTE  HKD 392.00   \n",
       "2                         ACTIVE ICON WOVEN SHORTS  HKD 413.00   \n",
       "3  ACTIVE ICON FULL LENGTH ALL-OVER PRINT LEGGINGS  HKD 483.00   \n",
       "4                            LACE LIGHTWEAR JACKET  HKD 903.00   \n",
       "\n",
       "                                            img_file  \\\n",
       "0                      image/CK ONE TANGA BIKINI.png   \n",
       "1                          image/CK ONE BRALETTE.png   \n",
       "2                 image/ACTIVE ICON WOVEN SHORTS.png   \n",
       "3  image/ACTIVE ICON FULL LENGTH ALL-OVER PRINT L...   \n",
       "4                    image/LACE LIGHTWEAR JACKET.png   \n",
       "\n",
       "                                                 url  num_price  \\\n",
       "0  https://www.calvinklein.com/hk/en/ck-one-tanga...      392.0   \n",
       "1  https://www.calvinklein.com/hk/en/ck-one-brale...      392.0   \n",
       "2  https://www.calvinklein.com/hk/en/active-icon-...      413.0   \n",
       "3  https://www.calvinklein.com/hk/en/active-icon-...      483.0   \n",
       "4  https://www.calvinklein.com/hk/en/lace-lightwe...      903.0   \n",
       "\n",
       "                 color   apparel  \n",
       "0  BLACK CUT OUT PRINT    BIKINI  \n",
       "1  BLACK CUT OUT PRINT  BRALETTE  \n",
       "2      RASPBERRY BLUSH    SHORTS  \n",
       "3        CK BLK CK AOP  LEGGINGS  \n",
       "4         BRIGHT WHITE    JACKET  "
      ],
      "text/html": "<div>\n<style scoped>\n    .dataframe tbody tr th:only-of-type {\n        vertical-align: middle;\n    }\n\n    .dataframe tbody tr th {\n        vertical-align: top;\n    }\n\n    .dataframe thead th {\n        text-align: right;\n    }\n</style>\n<table border=\"1\" class=\"dataframe\">\n  <thead>\n    <tr style=\"text-align: right;\">\n      <th></th>\n      <th>name</th>\n      <th>price</th>\n      <th>img_file</th>\n      <th>url</th>\n      <th>num_price</th>\n      <th>color</th>\n      <th>apparel</th>\n    </tr>\n  </thead>\n  <tbody>\n    <tr>\n      <th>0</th>\n      <td>CK ONE TANGA BIKINI</td>\n      <td>HKD 392.00</td>\n      <td>image/CK ONE TANGA BIKINI.png</td>\n      <td>https://www.calvinklein.com/hk/en/ck-one-tanga...</td>\n      <td>392.0</td>\n      <td>BLACK CUT OUT PRINT</td>\n      <td>BIKINI</td>\n    </tr>\n    <tr>\n      <th>1</th>\n      <td>CK ONE BRALETTE</td>\n      <td>HKD 392.00</td>\n      <td>image/CK ONE BRALETTE.png</td>\n      <td>https://www.calvinklein.com/hk/en/ck-one-brale...</td>\n      <td>392.0</td>\n      <td>BLACK CUT OUT PRINT</td>\n      <td>BRALETTE</td>\n    </tr>\n    <tr>\n      <th>2</th>\n      <td>ACTIVE ICON WOVEN SHORTS</td>\n      <td>HKD 413.00</td>\n      <td>image/ACTIVE ICON WOVEN SHORTS.png</td>\n      <td>https://www.calvinklein.com/hk/en/active-icon-...</td>\n      <td>413.0</td>\n      <td>RASPBERRY BLUSH</td>\n      <td>SHORTS</td>\n    </tr>\n    <tr>\n      <th>3</th>\n      <td>ACTIVE ICON FULL LENGTH ALL-OVER PRINT LEGGINGS</td>\n      <td>HKD 483.00</td>\n      <td>image/ACTIVE ICON FULL LENGTH ALL-OVER PRINT L...</td>\n      <td>https://www.calvinklein.com/hk/en/active-icon-...</td>\n      <td>483.0</td>\n      <td>CK BLK CK AOP</td>\n      <td>LEGGINGS</td>\n    </tr>\n    <tr>\n      <th>4</th>\n      <td>LACE LIGHTWEAR JACKET</td>\n      <td>HKD 903.00</td>\n      <td>image/LACE LIGHTWEAR JACKET.png</td>\n      <td>https://www.calvinklein.com/hk/en/lace-lightwe...</td>\n      <td>903.0</td>\n      <td>BRIGHT WHITE</td>\n      <td>JACKET</td>\n    </tr>\n  </tbody>\n</table>\n</div>"
     },
     "metadata": {},
     "execution_count": 6
    }
   ],
   "source": [
    "df.head()"
   ]
  },
  {
   "cell_type": "code",
   "execution_count": 7,
   "metadata": {},
   "outputs": [
    {
     "output_type": "stream",
     "name": "stdout",
     "text": [
      "<class 'pandas.core.frame.DataFrame'>\nRangeIndex: 12 entries, 0 to 11\nData columns (total 7 columns):\n #   Column     Non-Null Count  Dtype  \n---  ------     --------------  -----  \n 0   name       12 non-null     object \n 1   price      12 non-null     object \n 2   img_file   12 non-null     object \n 3   url        12 non-null     object \n 4   num_price  12 non-null     float64\n 5   color      12 non-null     object \n 6   apparel    12 non-null     object \ndtypes: float64(1), object(6)\nmemory usage: 800.0+ bytes\n"
     ]
    }
   ],
   "source": [
    "# check data type\n",
    "df.info()"
   ]
  },
  {
   "cell_type": "code",
   "execution_count": 8,
   "metadata": {},
   "outputs": [],
   "source": [
    "df['num_price'] = df.price.apply(lambda x: x[4:].replace(',','')).astype(float)"
   ]
  },
  {
   "cell_type": "code",
   "execution_count": 9,
   "metadata": {},
   "outputs": [
    {
     "output_type": "stream",
     "name": "stdout",
     "text": [
      "<class 'pandas.core.frame.DataFrame'>\nRangeIndex: 12 entries, 0 to 11\nData columns (total 7 columns):\n #   Column     Non-Null Count  Dtype  \n---  ------     --------------  -----  \n 0   name       12 non-null     object \n 1   price      12 non-null     object \n 2   img_file   12 non-null     object \n 3   url        12 non-null     object \n 4   num_price  12 non-null     float64\n 5   color      12 non-null     object \n 6   apparel    12 non-null     object \ndtypes: float64(1), object(6)\nmemory usage: 800.0+ bytes\n"
     ]
    }
   ],
   "source": [
    "df.info()"
   ]
  },
  {
   "cell_type": "code",
   "execution_count": 10,
   "metadata": {},
   "outputs": [
    {
     "output_type": "execute_result",
     "data": {
      "text/plain": [
       "                                              name       price  \\\n",
       "0                              CK ONE TANGA BIKINI  HKD 392.00   \n",
       "1                                  CK ONE BRALETTE  HKD 392.00   \n",
       "2                         ACTIVE ICON WOVEN SHORTS  HKD 413.00   \n",
       "3  ACTIVE ICON FULL LENGTH ALL-OVER PRINT LEGGINGS  HKD 483.00   \n",
       "4                            LACE LIGHTWEAR JACKET  HKD 903.00   \n",
       "\n",
       "                                            img_file  \\\n",
       "0                      image/CK ONE TANGA BIKINI.png   \n",
       "1                          image/CK ONE BRALETTE.png   \n",
       "2                 image/ACTIVE ICON WOVEN SHORTS.png   \n",
       "3  image/ACTIVE ICON FULL LENGTH ALL-OVER PRINT L...   \n",
       "4                    image/LACE LIGHTWEAR JACKET.png   \n",
       "\n",
       "                                                 url  num_price  \\\n",
       "0  https://www.calvinklein.com/hk/en/ck-one-tanga...      392.0   \n",
       "1  https://www.calvinklein.com/hk/en/ck-one-brale...      392.0   \n",
       "2  https://www.calvinklein.com/hk/en/active-icon-...      413.0   \n",
       "3  https://www.calvinklein.com/hk/en/active-icon-...      483.0   \n",
       "4  https://www.calvinklein.com/hk/en/lace-lightwe...      903.0   \n",
       "\n",
       "                 color   apparel  \n",
       "0  BLACK CUT OUT PRINT    BIKINI  \n",
       "1  BLACK CUT OUT PRINT  BRALETTE  \n",
       "2      RASPBERRY BLUSH    SHORTS  \n",
       "3        CK BLK CK AOP  LEGGINGS  \n",
       "4         BRIGHT WHITE    JACKET  "
      ],
      "text/html": "<div>\n<style scoped>\n    .dataframe tbody tr th:only-of-type {\n        vertical-align: middle;\n    }\n\n    .dataframe tbody tr th {\n        vertical-align: top;\n    }\n\n    .dataframe thead th {\n        text-align: right;\n    }\n</style>\n<table border=\"1\" class=\"dataframe\">\n  <thead>\n    <tr style=\"text-align: right;\">\n      <th></th>\n      <th>name</th>\n      <th>price</th>\n      <th>img_file</th>\n      <th>url</th>\n      <th>num_price</th>\n      <th>color</th>\n      <th>apparel</th>\n    </tr>\n  </thead>\n  <tbody>\n    <tr>\n      <th>0</th>\n      <td>CK ONE TANGA BIKINI</td>\n      <td>HKD 392.00</td>\n      <td>image/CK ONE TANGA BIKINI.png</td>\n      <td>https://www.calvinklein.com/hk/en/ck-one-tanga...</td>\n      <td>392.0</td>\n      <td>BLACK CUT OUT PRINT</td>\n      <td>BIKINI</td>\n    </tr>\n    <tr>\n      <th>1</th>\n      <td>CK ONE BRALETTE</td>\n      <td>HKD 392.00</td>\n      <td>image/CK ONE BRALETTE.png</td>\n      <td>https://www.calvinklein.com/hk/en/ck-one-brale...</td>\n      <td>392.0</td>\n      <td>BLACK CUT OUT PRINT</td>\n      <td>BRALETTE</td>\n    </tr>\n    <tr>\n      <th>2</th>\n      <td>ACTIVE ICON WOVEN SHORTS</td>\n      <td>HKD 413.00</td>\n      <td>image/ACTIVE ICON WOVEN SHORTS.png</td>\n      <td>https://www.calvinklein.com/hk/en/active-icon-...</td>\n      <td>413.0</td>\n      <td>RASPBERRY BLUSH</td>\n      <td>SHORTS</td>\n    </tr>\n    <tr>\n      <th>3</th>\n      <td>ACTIVE ICON FULL LENGTH ALL-OVER PRINT LEGGINGS</td>\n      <td>HKD 483.00</td>\n      <td>image/ACTIVE ICON FULL LENGTH ALL-OVER PRINT L...</td>\n      <td>https://www.calvinklein.com/hk/en/active-icon-...</td>\n      <td>483.0</td>\n      <td>CK BLK CK AOP</td>\n      <td>LEGGINGS</td>\n    </tr>\n    <tr>\n      <th>4</th>\n      <td>LACE LIGHTWEAR JACKET</td>\n      <td>HKD 903.00</td>\n      <td>image/LACE LIGHTWEAR JACKET.png</td>\n      <td>https://www.calvinklein.com/hk/en/lace-lightwe...</td>\n      <td>903.0</td>\n      <td>BRIGHT WHITE</td>\n      <td>JACKET</td>\n    </tr>\n  </tbody>\n</table>\n</div>"
     },
     "metadata": {},
     "execution_count": 10
    }
   ],
   "source": [
    "df.head()"
   ]
  },
  {
   "source": [
    "# 2.3 Feature Engineering"
   ],
   "cell_type": "markdown",
   "metadata": {}
  },
  {
   "source": [
    "# 2.3.1 Creating 'Apparel' feature"
   ],
   "cell_type": "markdown",
   "metadata": {}
  },
  {
   "cell_type": "code",
   "execution_count": 11,
   "metadata": {},
   "outputs": [
    {
     "output_type": "execute_result",
     "data": {
      "text/plain": [
       "'CK ONE TANGA BIKINI'"
      ]
     },
     "metadata": {},
     "execution_count": 11
    }
   ],
   "source": [
    "# obesrve the first url\n",
    "df['name'].iloc[0]"
   ]
  },
  {
   "cell_type": "code",
   "execution_count": 12,
   "metadata": {},
   "outputs": [],
   "source": [
    "# extract the 'apparel' part\n",
    "df['apparel'] = df['name'].apply(lambda x: x.split(' ')[-1])"
   ]
  },
  {
   "cell_type": "code",
   "execution_count": 13,
   "metadata": {},
   "outputs": [
    {
     "output_type": "execute_result",
     "data": {
      "text/plain": [
       "                                              name       price  \\\n",
       "0                              CK ONE TANGA BIKINI  HKD 392.00   \n",
       "1                                  CK ONE BRALETTE  HKD 392.00   \n",
       "2                         ACTIVE ICON WOVEN SHORTS  HKD 413.00   \n",
       "3  ACTIVE ICON FULL LENGTH ALL-OVER PRINT LEGGINGS  HKD 483.00   \n",
       "4                            LACE LIGHTWEAR JACKET  HKD 903.00   \n",
       "\n",
       "                                            img_file  \\\n",
       "0                      image/CK ONE TANGA BIKINI.png   \n",
       "1                          image/CK ONE BRALETTE.png   \n",
       "2                 image/ACTIVE ICON WOVEN SHORTS.png   \n",
       "3  image/ACTIVE ICON FULL LENGTH ALL-OVER PRINT L...   \n",
       "4                    image/LACE LIGHTWEAR JACKET.png   \n",
       "\n",
       "                                                 url  num_price  \\\n",
       "0  https://www.calvinklein.com/hk/en/ck-one-tanga...      392.0   \n",
       "1  https://www.calvinklein.com/hk/en/ck-one-brale...      392.0   \n",
       "2  https://www.calvinklein.com/hk/en/active-icon-...      413.0   \n",
       "3  https://www.calvinklein.com/hk/en/active-icon-...      483.0   \n",
       "4  https://www.calvinklein.com/hk/en/lace-lightwe...      903.0   \n",
       "\n",
       "                 color   apparel  \n",
       "0  BLACK CUT OUT PRINT    BIKINI  \n",
       "1  BLACK CUT OUT PRINT  BRALETTE  \n",
       "2      RASPBERRY BLUSH    SHORTS  \n",
       "3        CK BLK CK AOP  LEGGINGS  \n",
       "4         BRIGHT WHITE    JACKET  "
      ],
      "text/html": "<div>\n<style scoped>\n    .dataframe tbody tr th:only-of-type {\n        vertical-align: middle;\n    }\n\n    .dataframe tbody tr th {\n        vertical-align: top;\n    }\n\n    .dataframe thead th {\n        text-align: right;\n    }\n</style>\n<table border=\"1\" class=\"dataframe\">\n  <thead>\n    <tr style=\"text-align: right;\">\n      <th></th>\n      <th>name</th>\n      <th>price</th>\n      <th>img_file</th>\n      <th>url</th>\n      <th>num_price</th>\n      <th>color</th>\n      <th>apparel</th>\n    </tr>\n  </thead>\n  <tbody>\n    <tr>\n      <th>0</th>\n      <td>CK ONE TANGA BIKINI</td>\n      <td>HKD 392.00</td>\n      <td>image/CK ONE TANGA BIKINI.png</td>\n      <td>https://www.calvinklein.com/hk/en/ck-one-tanga...</td>\n      <td>392.0</td>\n      <td>BLACK CUT OUT PRINT</td>\n      <td>BIKINI</td>\n    </tr>\n    <tr>\n      <th>1</th>\n      <td>CK ONE BRALETTE</td>\n      <td>HKD 392.00</td>\n      <td>image/CK ONE BRALETTE.png</td>\n      <td>https://www.calvinklein.com/hk/en/ck-one-brale...</td>\n      <td>392.0</td>\n      <td>BLACK CUT OUT PRINT</td>\n      <td>BRALETTE</td>\n    </tr>\n    <tr>\n      <th>2</th>\n      <td>ACTIVE ICON WOVEN SHORTS</td>\n      <td>HKD 413.00</td>\n      <td>image/ACTIVE ICON WOVEN SHORTS.png</td>\n      <td>https://www.calvinklein.com/hk/en/active-icon-...</td>\n      <td>413.0</td>\n      <td>RASPBERRY BLUSH</td>\n      <td>SHORTS</td>\n    </tr>\n    <tr>\n      <th>3</th>\n      <td>ACTIVE ICON FULL LENGTH ALL-OVER PRINT LEGGINGS</td>\n      <td>HKD 483.00</td>\n      <td>image/ACTIVE ICON FULL LENGTH ALL-OVER PRINT L...</td>\n      <td>https://www.calvinklein.com/hk/en/active-icon-...</td>\n      <td>483.0</td>\n      <td>CK BLK CK AOP</td>\n      <td>LEGGINGS</td>\n    </tr>\n    <tr>\n      <th>4</th>\n      <td>LACE LIGHTWEAR JACKET</td>\n      <td>HKD 903.00</td>\n      <td>image/LACE LIGHTWEAR JACKET.png</td>\n      <td>https://www.calvinklein.com/hk/en/lace-lightwe...</td>\n      <td>903.0</td>\n      <td>BRIGHT WHITE</td>\n      <td>JACKET</td>\n    </tr>\n  </tbody>\n</table>\n</div>"
     },
     "metadata": {},
     "execution_count": 13
    }
   ],
   "source": [
    "df.head()"
   ]
  },
  {
   "source": [
    "# 2.3.2 Creating 'Color' feature"
   ],
   "cell_type": "markdown",
   "metadata": {}
  },
  {
   "cell_type": "code",
   "execution_count": 14,
   "metadata": {},
   "outputs": [
    {
     "output_type": "execute_result",
     "data": {
      "text/plain": [
       "'https://www.calvinklein.com/hk/en/ck-one-tanga-bikini-KW01435.html?dwvar_KW01435_color=BLACK%20CUT%20OUT%20PRINT'"
      ]
     },
     "metadata": {},
     "execution_count": 14
    }
   ],
   "source": [
    "# obesrve the first url\n",
    "df['url'].iloc[0]"
   ]
  },
  {
   "cell_type": "code",
   "execution_count": 15,
   "metadata": {},
   "outputs": [],
   "source": [
    "# extract the 'color' part\n",
    "# split to get the 'color' text\n",
    "# replace the html code with space\n",
    "\n",
    "df['color'] = df['url'].apply(\n",
    "    lambda x: x.split('color=')[1].replace('%20',' ').replace('%2F',' ')\n",
    ")"
   ]
  },
  {
   "cell_type": "code",
   "execution_count": 16,
   "metadata": {},
   "outputs": [
    {
     "output_type": "execute_result",
     "data": {
      "text/plain": [
       "                                              name       price  \\\n",
       "0                              CK ONE TANGA BIKINI  HKD 392.00   \n",
       "1                                  CK ONE BRALETTE  HKD 392.00   \n",
       "2                         ACTIVE ICON WOVEN SHORTS  HKD 413.00   \n",
       "3  ACTIVE ICON FULL LENGTH ALL-OVER PRINT LEGGINGS  HKD 483.00   \n",
       "4                            LACE LIGHTWEAR JACKET  HKD 903.00   \n",
       "\n",
       "                                            img_file  \\\n",
       "0                      image/CK ONE TANGA BIKINI.png   \n",
       "1                          image/CK ONE BRALETTE.png   \n",
       "2                 image/ACTIVE ICON WOVEN SHORTS.png   \n",
       "3  image/ACTIVE ICON FULL LENGTH ALL-OVER PRINT L...   \n",
       "4                    image/LACE LIGHTWEAR JACKET.png   \n",
       "\n",
       "                                                 url  num_price  \\\n",
       "0  https://www.calvinklein.com/hk/en/ck-one-tanga...      392.0   \n",
       "1  https://www.calvinklein.com/hk/en/ck-one-brale...      392.0   \n",
       "2  https://www.calvinklein.com/hk/en/active-icon-...      413.0   \n",
       "3  https://www.calvinklein.com/hk/en/active-icon-...      483.0   \n",
       "4  https://www.calvinklein.com/hk/en/lace-lightwe...      903.0   \n",
       "\n",
       "                 color   apparel  \n",
       "0  BLACK CUT OUT PRINT    BIKINI  \n",
       "1  BLACK CUT OUT PRINT  BRALETTE  \n",
       "2      RASPBERRY BLUSH    SHORTS  \n",
       "3        CK BLK CK AOP  LEGGINGS  \n",
       "4         BRIGHT WHITE    JACKET  "
      ],
      "text/html": "<div>\n<style scoped>\n    .dataframe tbody tr th:only-of-type {\n        vertical-align: middle;\n    }\n\n    .dataframe tbody tr th {\n        vertical-align: top;\n    }\n\n    .dataframe thead th {\n        text-align: right;\n    }\n</style>\n<table border=\"1\" class=\"dataframe\">\n  <thead>\n    <tr style=\"text-align: right;\">\n      <th></th>\n      <th>name</th>\n      <th>price</th>\n      <th>img_file</th>\n      <th>url</th>\n      <th>num_price</th>\n      <th>color</th>\n      <th>apparel</th>\n    </tr>\n  </thead>\n  <tbody>\n    <tr>\n      <th>0</th>\n      <td>CK ONE TANGA BIKINI</td>\n      <td>HKD 392.00</td>\n      <td>image/CK ONE TANGA BIKINI.png</td>\n      <td>https://www.calvinklein.com/hk/en/ck-one-tanga...</td>\n      <td>392.0</td>\n      <td>BLACK CUT OUT PRINT</td>\n      <td>BIKINI</td>\n    </tr>\n    <tr>\n      <th>1</th>\n      <td>CK ONE BRALETTE</td>\n      <td>HKD 392.00</td>\n      <td>image/CK ONE BRALETTE.png</td>\n      <td>https://www.calvinklein.com/hk/en/ck-one-brale...</td>\n      <td>392.0</td>\n      <td>BLACK CUT OUT PRINT</td>\n      <td>BRALETTE</td>\n    </tr>\n    <tr>\n      <th>2</th>\n      <td>ACTIVE ICON WOVEN SHORTS</td>\n      <td>HKD 413.00</td>\n      <td>image/ACTIVE ICON WOVEN SHORTS.png</td>\n      <td>https://www.calvinklein.com/hk/en/active-icon-...</td>\n      <td>413.0</td>\n      <td>RASPBERRY BLUSH</td>\n      <td>SHORTS</td>\n    </tr>\n    <tr>\n      <th>3</th>\n      <td>ACTIVE ICON FULL LENGTH ALL-OVER PRINT LEGGINGS</td>\n      <td>HKD 483.00</td>\n      <td>image/ACTIVE ICON FULL LENGTH ALL-OVER PRINT L...</td>\n      <td>https://www.calvinklein.com/hk/en/active-icon-...</td>\n      <td>483.0</td>\n      <td>CK BLK CK AOP</td>\n      <td>LEGGINGS</td>\n    </tr>\n    <tr>\n      <th>4</th>\n      <td>LACE LIGHTWEAR JACKET</td>\n      <td>HKD 903.00</td>\n      <td>image/LACE LIGHTWEAR JACKET.png</td>\n      <td>https://www.calvinklein.com/hk/en/lace-lightwe...</td>\n      <td>903.0</td>\n      <td>BRIGHT WHITE</td>\n      <td>JACKET</td>\n    </tr>\n  </tbody>\n</table>\n</div>"
     },
     "metadata": {},
     "execution_count": 16
    }
   ],
   "source": [
    "df.head()"
   ]
  },
  {
   "cell_type": "code",
   "execution_count": 17,
   "metadata": {},
   "outputs": [],
   "source": [
    "# for every category, amend the csv file\n",
    "\n",
    "for category in categories:\n",
    "    \n",
    "    # load data\n",
    "    df = pd.read_csv(f'data/{category}.csv')\n",
    "    \n",
    "    # create new column 'num_price'\n",
    "    df['num_price'] = df.price.apply(lambda x: x[4:].replace(',','')).astype(float)\n",
    "\n",
    "    # extract the 'apparel' part\n",
    "    df['apparel'] = df['name'].apply(lambda x: x.split(' ')[-1])\n",
    "\n",
    "    # extract the 'color' part\n",
    "    # split to get the 'color' text\n",
    "    # replace the html code with space\n",
    "\n",
    "    df['color'] = df['url'].apply(\n",
    "        lambda x: x.split('color=')[1].replace('%20',' ').replace('%2F',' ')\n",
    "    )\n",
    "    \n",
    "    # save file\n",
    "    df.to_csv(f'data/{category}.csv', index=False)"
   ]
  },
  {
   "cell_type": "code",
   "execution_count": 18,
   "metadata": {},
   "outputs": [
    {
     "output_type": "execute_result",
     "data": {
      "text/plain": [
       "                                              name       price  \\\n",
       "0                              CK ONE TANGA BIKINI  HKD 392.00   \n",
       "1                                  CK ONE BRALETTE  HKD 392.00   \n",
       "2                         ACTIVE ICON WOVEN SHORTS  HKD 413.00   \n",
       "3  ACTIVE ICON FULL LENGTH ALL-OVER PRINT LEGGINGS  HKD 483.00   \n",
       "4                            LACE LIGHTWEAR JACKET  HKD 903.00   \n",
       "\n",
       "                                            img_file  \\\n",
       "0                      image/CK ONE TANGA BIKINI.png   \n",
       "1                          image/CK ONE BRALETTE.png   \n",
       "2                 image/ACTIVE ICON WOVEN SHORTS.png   \n",
       "3  image/ACTIVE ICON FULL LENGTH ALL-OVER PRINT L...   \n",
       "4                    image/LACE LIGHTWEAR JACKET.png   \n",
       "\n",
       "                                                 url  num_price  \\\n",
       "0  https://www.calvinklein.com/hk/en/ck-one-tanga...      392.0   \n",
       "1  https://www.calvinklein.com/hk/en/ck-one-brale...      392.0   \n",
       "2  https://www.calvinklein.com/hk/en/active-icon-...      413.0   \n",
       "3  https://www.calvinklein.com/hk/en/active-icon-...      483.0   \n",
       "4  https://www.calvinklein.com/hk/en/lace-lightwe...      903.0   \n",
       "\n",
       "                 color   apparel  \n",
       "0  BLACK CUT OUT PRINT    BIKINI  \n",
       "1  BLACK CUT OUT PRINT  BRALETTE  \n",
       "2      RASPBERRY BLUSH    SHORTS  \n",
       "3        CK BLK CK AOP  LEGGINGS  \n",
       "4         BRIGHT WHITE    JACKET  "
      ],
      "text/html": "<div>\n<style scoped>\n    .dataframe tbody tr th:only-of-type {\n        vertical-align: middle;\n    }\n\n    .dataframe tbody tr th {\n        vertical-align: top;\n    }\n\n    .dataframe thead th {\n        text-align: right;\n    }\n</style>\n<table border=\"1\" class=\"dataframe\">\n  <thead>\n    <tr style=\"text-align: right;\">\n      <th></th>\n      <th>name</th>\n      <th>price</th>\n      <th>img_file</th>\n      <th>url</th>\n      <th>num_price</th>\n      <th>color</th>\n      <th>apparel</th>\n    </tr>\n  </thead>\n  <tbody>\n    <tr>\n      <th>0</th>\n      <td>CK ONE TANGA BIKINI</td>\n      <td>HKD 392.00</td>\n      <td>image/CK ONE TANGA BIKINI.png</td>\n      <td>https://www.calvinklein.com/hk/en/ck-one-tanga...</td>\n      <td>392.0</td>\n      <td>BLACK CUT OUT PRINT</td>\n      <td>BIKINI</td>\n    </tr>\n    <tr>\n      <th>1</th>\n      <td>CK ONE BRALETTE</td>\n      <td>HKD 392.00</td>\n      <td>image/CK ONE BRALETTE.png</td>\n      <td>https://www.calvinklein.com/hk/en/ck-one-brale...</td>\n      <td>392.0</td>\n      <td>BLACK CUT OUT PRINT</td>\n      <td>BRALETTE</td>\n    </tr>\n    <tr>\n      <th>2</th>\n      <td>ACTIVE ICON WOVEN SHORTS</td>\n      <td>HKD 413.00</td>\n      <td>image/ACTIVE ICON WOVEN SHORTS.png</td>\n      <td>https://www.calvinklein.com/hk/en/active-icon-...</td>\n      <td>413.0</td>\n      <td>RASPBERRY BLUSH</td>\n      <td>SHORTS</td>\n    </tr>\n    <tr>\n      <th>3</th>\n      <td>ACTIVE ICON FULL LENGTH ALL-OVER PRINT LEGGINGS</td>\n      <td>HKD 483.00</td>\n      <td>image/ACTIVE ICON FULL LENGTH ALL-OVER PRINT L...</td>\n      <td>https://www.calvinklein.com/hk/en/active-icon-...</td>\n      <td>483.0</td>\n      <td>CK BLK CK AOP</td>\n      <td>LEGGINGS</td>\n    </tr>\n    <tr>\n      <th>4</th>\n      <td>LACE LIGHTWEAR JACKET</td>\n      <td>HKD 903.00</td>\n      <td>image/LACE LIGHTWEAR JACKET.png</td>\n      <td>https://www.calvinklein.com/hk/en/lace-lightwe...</td>\n      <td>903.0</td>\n      <td>BRIGHT WHITE</td>\n      <td>JACKET</td>\n    </tr>\n  </tbody>\n</table>\n</div>"
     },
     "metadata": {},
     "execution_count": 18
    }
   ],
   "source": [
    "# dataframe of 'activewear'\n",
    "\n",
    "df = pd.read_csv(f'data/{categories[0]}.csv')\n",
    "df.head()"
   ]
  },
  {
   "cell_type": "code",
   "execution_count": 19,
   "metadata": {},
   "outputs": [
    {
     "output_type": "execute_result",
     "data": {
      "text/plain": [
       "                                                name         price  \\\n",
       "0                  REFLECTION PACKABLE ZIP UP HOODIE  HKD 1,393.00   \n",
       "1         CHINESE NEW YEAR CAPSULE REVERSIBLE JACKET  HKD 1,603.00   \n",
       "2                           SHORT HOODED WINDBREAKER  HKD 1,253.00   \n",
       "3  CHINESE NEW YEAR CAPSULE RELAXED DENIM TRUCKER...  HKD 1,533.00   \n",
       "4                                HYBRID DENIM JACKET  HKD 2,093.00   \n",
       "\n",
       "                                            img_file  \\\n",
       "0        image/REFLECTION PACKABLE ZIP UP HOODIE.png   \n",
       "1  image/CHINESE NEW YEAR CAPSULE REVERSIBLE JACK...   \n",
       "2                 image/SHORT HOODED WINDBREAKER.png   \n",
       "3  image/CHINESE NEW YEAR CAPSULE RELAXED DENIM T...   \n",
       "4                      image/HYBRID DENIM JACKET.png   \n",
       "\n",
       "                                                 url  num_price  \\\n",
       "0  https://www.calvinklein.com/hk/en/reflection-p...     1393.0   \n",
       "1  https://www.calvinklein.com/hk/en/chinese-new-...     1603.0   \n",
       "2  https://www.calvinklein.com/hk/en/short-hooded...     1253.0   \n",
       "3  https://www.calvinklein.com/hk/en/chinese-new-...     1533.0   \n",
       "4  https://www.calvinklein.com/hk/en/hybrid-denim...     2093.0   \n",
       "\n",
       "             color      apparel  \n",
       "0   CRUSHED ORANGE       HOODIE  \n",
       "1       YELLOW AOP       JACKET  \n",
       "2  ILLUMINATED BLK  WINDBREAKER  \n",
       "3    CC407 LT BLUE       JACKET  \n",
       "4   ACD632 LT BLUE       JACKET  "
      ],
      "text/html": "<div>\n<style scoped>\n    .dataframe tbody tr th:only-of-type {\n        vertical-align: middle;\n    }\n\n    .dataframe tbody tr th {\n        vertical-align: top;\n    }\n\n    .dataframe thead th {\n        text-align: right;\n    }\n</style>\n<table border=\"1\" class=\"dataframe\">\n  <thead>\n    <tr style=\"text-align: right;\">\n      <th></th>\n      <th>name</th>\n      <th>price</th>\n      <th>img_file</th>\n      <th>url</th>\n      <th>num_price</th>\n      <th>color</th>\n      <th>apparel</th>\n    </tr>\n  </thead>\n  <tbody>\n    <tr>\n      <th>0</th>\n      <td>REFLECTION PACKABLE ZIP UP HOODIE</td>\n      <td>HKD 1,393.00</td>\n      <td>image/REFLECTION PACKABLE ZIP UP HOODIE.png</td>\n      <td>https://www.calvinklein.com/hk/en/reflection-p...</td>\n      <td>1393.0</td>\n      <td>CRUSHED ORANGE</td>\n      <td>HOODIE</td>\n    </tr>\n    <tr>\n      <th>1</th>\n      <td>CHINESE NEW YEAR CAPSULE REVERSIBLE JACKET</td>\n      <td>HKD 1,603.00</td>\n      <td>image/CHINESE NEW YEAR CAPSULE REVERSIBLE JACK...</td>\n      <td>https://www.calvinklein.com/hk/en/chinese-new-...</td>\n      <td>1603.0</td>\n      <td>YELLOW AOP</td>\n      <td>JACKET</td>\n    </tr>\n    <tr>\n      <th>2</th>\n      <td>SHORT HOODED WINDBREAKER</td>\n      <td>HKD 1,253.00</td>\n      <td>image/SHORT HOODED WINDBREAKER.png</td>\n      <td>https://www.calvinklein.com/hk/en/short-hooded...</td>\n      <td>1253.0</td>\n      <td>ILLUMINATED BLK</td>\n      <td>WINDBREAKER</td>\n    </tr>\n    <tr>\n      <th>3</th>\n      <td>CHINESE NEW YEAR CAPSULE RELAXED DENIM TRUCKER...</td>\n      <td>HKD 1,533.00</td>\n      <td>image/CHINESE NEW YEAR CAPSULE RELAXED DENIM T...</td>\n      <td>https://www.calvinklein.com/hk/en/chinese-new-...</td>\n      <td>1533.0</td>\n      <td>CC407 LT BLUE</td>\n      <td>JACKET</td>\n    </tr>\n    <tr>\n      <th>4</th>\n      <td>HYBRID DENIM JACKET</td>\n      <td>HKD 2,093.00</td>\n      <td>image/HYBRID DENIM JACKET.png</td>\n      <td>https://www.calvinklein.com/hk/en/hybrid-denim...</td>\n      <td>2093.0</td>\n      <td>ACD632 LT BLUE</td>\n      <td>JACKET</td>\n    </tr>\n  </tbody>\n</table>\n</div>"
     },
     "metadata": {},
     "execution_count": 19
    }
   ],
   "source": [
    "# dataframe of 'jackets'\n",
    "\n",
    "df = pd.read_csv(f'data/{categories[1]}.csv')\n",
    "df.head()"
   ]
  },
  {
   "cell_type": "code",
   "execution_count": 20,
   "metadata": {},
   "outputs": [
    {
     "output_type": "execute_result",
     "data": {
      "text/plain": [
       "                                     name         price  \\\n",
       "0    MODERN ESSENTIALS+ MICRO LOGO HOODIE    HKD 763.00   \n",
       "1                  REFLECTION HOODED CAPE    HKD 903.00   \n",
       "2  REFLECTION INSTITUTIONAL ZIP UP HOODIE    HKD 903.00   \n",
       "3                PREMIUM MIX MEDIA HOODIE  HKD 1,183.00   \n",
       "4         PREMIUM FLORAL PRINT SWEATSHIRT    HKD 903.00   \n",
       "\n",
       "                                           img_file  \\\n",
       "0    image/MODERN ESSENTIALS+ MICRO LOGO HOODIE.png   \n",
       "1                  image/REFLECTION HOODED CAPE.png   \n",
       "2  image/REFLECTION INSTITUTIONAL ZIP UP HOODIE.png   \n",
       "3                image/PREMIUM MIX MEDIA HOODIE.png   \n",
       "4         image/PREMIUM FLORAL PRINT SWEATSHIRT.png   \n",
       "\n",
       "                                                 url  num_price         color  \\\n",
       "0  https://www.calvinklein.com/hk/en/modern-essen...      763.0   PALMA LILAC   \n",
       "1  https://www.calvinklein.com/hk/en/reflection-h...      903.0       PEACOAT   \n",
       "2  https://www.calvinklein.com/hk/en/reflection-i...      903.0  BRIGHT WHITE   \n",
       "3  https://www.calvinklein.com/hk/en/premium-mix-...     1183.0      CK BLACK   \n",
       "4  https://www.calvinklein.com/hk/en/premium-flor...      903.0  VIVID ORANGE   \n",
       "\n",
       "      apparel  \n",
       "0      HOODIE  \n",
       "1        CAPE  \n",
       "2      HOODIE  \n",
       "3      HOODIE  \n",
       "4  SWEATSHIRT  "
      ],
      "text/html": "<div>\n<style scoped>\n    .dataframe tbody tr th:only-of-type {\n        vertical-align: middle;\n    }\n\n    .dataframe tbody tr th {\n        vertical-align: top;\n    }\n\n    .dataframe thead th {\n        text-align: right;\n    }\n</style>\n<table border=\"1\" class=\"dataframe\">\n  <thead>\n    <tr style=\"text-align: right;\">\n      <th></th>\n      <th>name</th>\n      <th>price</th>\n      <th>img_file</th>\n      <th>url</th>\n      <th>num_price</th>\n      <th>color</th>\n      <th>apparel</th>\n    </tr>\n  </thead>\n  <tbody>\n    <tr>\n      <th>0</th>\n      <td>MODERN ESSENTIALS+ MICRO LOGO HOODIE</td>\n      <td>HKD 763.00</td>\n      <td>image/MODERN ESSENTIALS+ MICRO LOGO HOODIE.png</td>\n      <td>https://www.calvinklein.com/hk/en/modern-essen...</td>\n      <td>763.0</td>\n      <td>PALMA LILAC</td>\n      <td>HOODIE</td>\n    </tr>\n    <tr>\n      <th>1</th>\n      <td>REFLECTION HOODED CAPE</td>\n      <td>HKD 903.00</td>\n      <td>image/REFLECTION HOODED CAPE.png</td>\n      <td>https://www.calvinklein.com/hk/en/reflection-h...</td>\n      <td>903.0</td>\n      <td>PEACOAT</td>\n      <td>CAPE</td>\n    </tr>\n    <tr>\n      <th>2</th>\n      <td>REFLECTION INSTITUTIONAL ZIP UP HOODIE</td>\n      <td>HKD 903.00</td>\n      <td>image/REFLECTION INSTITUTIONAL ZIP UP HOODIE.png</td>\n      <td>https://www.calvinklein.com/hk/en/reflection-i...</td>\n      <td>903.0</td>\n      <td>BRIGHT WHITE</td>\n      <td>HOODIE</td>\n    </tr>\n    <tr>\n      <th>3</th>\n      <td>PREMIUM MIX MEDIA HOODIE</td>\n      <td>HKD 1,183.00</td>\n      <td>image/PREMIUM MIX MEDIA HOODIE.png</td>\n      <td>https://www.calvinklein.com/hk/en/premium-mix-...</td>\n      <td>1183.0</td>\n      <td>CK BLACK</td>\n      <td>HOODIE</td>\n    </tr>\n    <tr>\n      <th>4</th>\n      <td>PREMIUM FLORAL PRINT SWEATSHIRT</td>\n      <td>HKD 903.00</td>\n      <td>image/PREMIUM FLORAL PRINT SWEATSHIRT.png</td>\n      <td>https://www.calvinklein.com/hk/en/premium-flor...</td>\n      <td>903.0</td>\n      <td>VIVID ORANGE</td>\n      <td>SWEATSHIRT</td>\n    </tr>\n  </tbody>\n</table>\n</div>"
     },
     "metadata": {},
     "execution_count": 20
    }
   ],
   "source": [
    "# dataframe of 'sweatshirts-hoodies'\n",
    "\n",
    "df = pd.read_csv(f'data/{categories[2]}.csv')\n",
    "df.head()"
   ]
  },
  {
   "cell_type": "code",
   "execution_count": null,
   "metadata": {},
   "outputs": [],
   "source": []
  },
  {
   "cell_type": "code",
   "execution_count": null,
   "metadata": {},
   "outputs": [],
   "source": []
  },
  {
   "cell_type": "code",
   "execution_count": 21,
   "metadata": {},
   "outputs": [],
   "source": [
    "# END"
   ]
  }
 ],
 "metadata": {
  "kernelspec": {
   "name": "python3",
   "display_name": "Python 3.9.5 64-bit ('env': venv)"
  },
  "language_info": {
   "codemirror_mode": {
    "name": "ipython",
    "version": 3
   },
   "file_extension": ".py",
   "mimetype": "text/x-python",
   "name": "python",
   "nbconvert_exporter": "python",
   "pygments_lexer": "ipython3",
   "version": "3.9.5"
  },
  "interpreter": {
   "hash": "fa3fba418643e7663ba7576308ac3a337e9dc56c31f42a0bad2dca4c82d258a0"
  }
 },
 "nbformat": 4,
 "nbformat_minor": 4
}