{
 "cells": [
  {
   "cell_type": "markdown",
   "metadata": {},
   "source": [
    "# 1.1 Imports"
   ]
  },
  {
   "cell_type": "code",
   "execution_count": 1,
   "metadata": {},
   "outputs": [],
   "source": [
    "# import libraries\n",
    "import os\n",
    "import csv\n",
    "import numpy as np\n",
    "import pandas as pd\n",
    "\n",
    "import urllib\n",
    "from selenium import webdriver\n",
    "from selenium.webdriver.chrome.options import Options\n",
    "\n",
    "import time\n",
    "from PIL import Image"
   ]
  },
  {
   "cell_type": "code",
   "execution_count": 2,
   "metadata": {},
   "outputs": [],
   "source": [
    "# ignore warnings\n",
    "import warnings\n",
    "warnings.filterwarnings('ignore')"
   ]
  },
  {
   "cell_type": "code",
   "execution_count": 3,
   "metadata": {},
   "outputs": [],
   "source": [
    "# create function\n",
    "# open web browser\n",
    "\n",
    "def configure_driver():\n",
    "    # incognito window\n",
    "    chrome_options = Options()\n",
    "    chrome_options.add_argument(\"--incognito\")\n",
    "    \n",
    "    # set the browser Headless.\n",
    "    chrome_options.add_argument(\"--headless\")\n",
    "\n",
    "    # open web browser\n",
    "    driver = webdriver.Chrome('/Users/abrahamleung/Documents/chromedriver', options=chrome_options)\n",
    "    return driver"
   ]
  },
  {
   "cell_type": "code",
   "execution_count": 4,
   "metadata": {},
   "outputs": [],
   "source": [
    "# list of categories\n",
    "categories = [\n",
    "    'activewear',\n",
    "    'jackets',\n",
    "    'sweatshirts-hoodies'\n",
    "]"
   ]
  },
  {
   "cell_type": "markdown",
   "metadata": {},
   "source": [
    "# 1.2 Extracting Links"
   ]
  },
  {
   "cell_type": "code",
   "execution_count": 5,
   "metadata": {},
   "outputs": [],
   "source": [
    "# create function\n",
    "# get product links\n",
    "\n",
    "def product_links(driver, category):\n",
    "    # category link\n",
    "    URL = f'https://www.calvinklein.com/hk/en/women-apparel-{category}/'\n",
    "    \n",
    "    # navigate webpage\n",
    "    driver.get(URL)\n",
    "    \n",
    "    # may need time sleep\n",
    "    time.sleep(0.5)\n",
    "    \n",
    "    # open text file\n",
    "    if os.path.exists(f\"data/{category}_links.txt\"):\n",
    "        # open exist file\n",
    "        f = open(f\"data/{category}_links.txt\", \"w\")\n",
    "    else:\n",
    "        # create new file\n",
    "        f = open(f\"data/{category}_links.txt\", \"x\")\n",
    "        \n",
    "    # get all product elements\n",
    "    product_elements = driver.find_elements_by_xpath('//a[@class=\"name-link\"]')\n",
    "    \n",
    "    # get all product links\n",
    "    f = open(f\"data/{category}_links.txt\", \"a\")\n",
    "\n",
    "    for product_element in product_elements[:15]:\n",
    "        f.write(product_element.get_attribute('href'))\n",
    "        f.write('\\n')\n",
    "\n",
    "    f.close()"
   ]
  },
  {
   "cell_type": "code",
   "execution_count": 6,
   "metadata": {},
   "outputs": [],
   "source": [
    "# scrape all links\n",
    "\n",
    "# open web browser\n",
    "driver = configure_driver()\n",
    "\n",
    "for category in categories:\n",
    "    \n",
    "    # extract and save product links\n",
    "    product_links(driver, category)\n",
    "\n",
    "# close web browser\n",
    "driver.close()"
   ]
  },
  {
   "cell_type": "markdown",
   "metadata": {},
   "source": [
    "# 1.3 Extracting Product Details"
   ]
  },
  {
   "cell_type": "code",
   "execution_count": 7,
   "metadata": {},
   "outputs": [],
   "source": [
    "# create function\n",
    "# get product details\n",
    "\n",
    "def product_detail(driver, URL):\n",
    "    \n",
    "    # input website\n",
    "    driver.get(URL)\n",
    "    \n",
    "    # may need time sleep\n",
    "    time.sleep(0.5)\n",
    "    \n",
    "    # get product name\n",
    "    try:\n",
    "        name = driver.find_element_by_tag_name('h1')\n",
    "        name = name.text\n",
    "    except:\n",
    "        name = None\n",
    "    \n",
    "    # get product price\n",
    "    try:\n",
    "        price = driver.find_element_by_xpath('//span[@class=\"price-sales\"]')\n",
    "        price = price.text\n",
    "    except:\n",
    "        price = None\n",
    "    \n",
    "    # get product image\n",
    "    try:\n",
    "        # size\n",
    "        img_width,img_height = 300,300\n",
    "\n",
    "        # get all images\n",
    "        images = driver.find_elements_by_xpath('//img[@class=\"primary-image cloudzoom\"]')\n",
    "\n",
    "        # product image at index 0\n",
    "        img = images[0]\n",
    "\n",
    "        # 'src' = get image source\n",
    "        src = img.get_attribute('src')\n",
    "\n",
    "        # download image\n",
    "        urllib.request.urlretrieve(src, f'image/{name}.png')\n",
    "\n",
    "        # resize image (smaller size)\n",
    "        ori_img = Image.open(f'image/{name}.png')\n",
    "        resize_img = ori_img.resize((img_width,img_height))\n",
    "        resize_img.save(f'image/{name}.png')\n",
    "\n",
    "        img_file = f'image/{name}.png'\n",
    "    except:\n",
    "        img_file = None\n",
    "    \n",
    "    return name, price, img_file"
   ]
  },
  {
   "cell_type": "code",
   "execution_count": 30,
   "metadata": {},
   "outputs": [
    {
     "output_type": "stream",
     "name": "stdout",
     "text": [
      "jackets:\n- no of items: 15 \n- total time taken: 36.59s\n- average time for each item: 2.44s\n\n\n"
     ]
    }
   ],
   "source": [
    "# open web browser\n",
    "driver = configure_driver()\n",
    "\n",
    "# may need time sleep\n",
    "time.sleep(1)\n",
    "\n",
    "# for every category, scrape every link\n",
    "\n",
    "for category in categories:\n",
    "    \n",
    "    start_time = time.time()\n",
    "\n",
    "    names = []\n",
    "    prices = []\n",
    "    img_files = []\n",
    "    urls = []\n",
    "    \n",
    "    # load all links\n",
    "\n",
    "    links = []\n",
    "    f = open(f'data/{category}_links.txt','r')\n",
    "    for link in f.read().split():\n",
    "        links.append(link)\n",
    "    \n",
    "    # scrape every link\n",
    "    \n",
    "    for link in links:\n",
    "        url = link\n",
    "        name, price, img_file = product_detail(driver, link)\n",
    "\n",
    "        # append data into lists\n",
    "        names.append(name)\n",
    "        prices.append(price)\n",
    "        img_files.append(img_file)\n",
    "        urls.append(url)\n",
    "    \n",
    "    # convert to dataframe\n",
    "\n",
    "    df = pd.DataFrame({\n",
    "        'name': names,\n",
    "        'price': prices,\n",
    "        'img_file': img_files,\n",
    "        'url': urls\n",
    "    })\n",
    "    \n",
    "    # remove rows with missing values\n",
    "    df.dropna(inplace=True)\n",
    "    \n",
    "    # reset index\n",
    "    df.reset_index(drop=True, inplace=True)\n",
    "    \n",
    "    # save file\n",
    "    df.to_csv(f'data/{category}.csv', index=False)\n",
    "\n",
    "    end_time = time.time()\n",
    "\n",
    "    # time of scraping, creating dataframe and saving as csv file\n",
    "    time_taken = end_time - start_time\n",
    "\n",
    "    print(f'{category}:')\n",
    "    print(f\"- no of items: {len(links)} \")\n",
    "    print(f\"- total time taken: {round(time_taken,2)}s\")\n",
    "\n",
    "    # average time taken for each item\n",
    "    average_time = time_taken / len(links)\n",
    "\n",
    "    print(f\"- average time for each item: {round(average_time,2)}s\")\n",
    "    print('\\n')\n",
    "\n",
    "# close web browser\n",
    "driver.close()"
   ]
  },
  {
   "cell_type": "code",
   "execution_count": 25,
   "metadata": {},
   "outputs": [
    {
     "output_type": "execute_result",
     "data": {
      "text/plain": [
       "                                              name       price  \\\n",
       "0                              CK ONE TANGA BIKINI  HKD 392.00   \n",
       "1                                  CK ONE BRALETTE  HKD 392.00   \n",
       "2                         ACTIVE ICON WOVEN SHORTS  HKD 413.00   \n",
       "3  ACTIVE ICON FULL LENGTH ALL-OVER PRINT LEGGINGS  HKD 483.00   \n",
       "4                            LACE LIGHTWEAR JACKET  HKD 903.00   \n",
       "\n",
       "                                            img_file  \\\n",
       "0                      image/CK ONE TANGA BIKINI.png   \n",
       "1                          image/CK ONE BRALETTE.png   \n",
       "2                 image/ACTIVE ICON WOVEN SHORTS.png   \n",
       "3  image/ACTIVE ICON FULL LENGTH ALL-OVER PRINT L...   \n",
       "4                    image/LACE LIGHTWEAR JACKET.png   \n",
       "\n",
       "                                                 url  \n",
       "0  https://www.calvinklein.com/hk/en/ck-one-tanga...  \n",
       "1  https://www.calvinklein.com/hk/en/ck-one-brale...  \n",
       "2  https://www.calvinklein.com/hk/en/active-icon-...  \n",
       "3  https://www.calvinklein.com/hk/en/active-icon-...  \n",
       "4  https://www.calvinklein.com/hk/en/lace-lightwe...  "
      ],
      "text/html": "<div>\n<style scoped>\n    .dataframe tbody tr th:only-of-type {\n        vertical-align: middle;\n    }\n\n    .dataframe tbody tr th {\n        vertical-align: top;\n    }\n\n    .dataframe thead th {\n        text-align: right;\n    }\n</style>\n<table border=\"1\" class=\"dataframe\">\n  <thead>\n    <tr style=\"text-align: right;\">\n      <th></th>\n      <th>name</th>\n      <th>price</th>\n      <th>img_file</th>\n      <th>url</th>\n    </tr>\n  </thead>\n  <tbody>\n    <tr>\n      <th>0</th>\n      <td>CK ONE TANGA BIKINI</td>\n      <td>HKD 392.00</td>\n      <td>image/CK ONE TANGA BIKINI.png</td>\n      <td>https://www.calvinklein.com/hk/en/ck-one-tanga...</td>\n    </tr>\n    <tr>\n      <th>1</th>\n      <td>CK ONE BRALETTE</td>\n      <td>HKD 392.00</td>\n      <td>image/CK ONE BRALETTE.png</td>\n      <td>https://www.calvinklein.com/hk/en/ck-one-brale...</td>\n    </tr>\n    <tr>\n      <th>2</th>\n      <td>ACTIVE ICON WOVEN SHORTS</td>\n      <td>HKD 413.00</td>\n      <td>image/ACTIVE ICON WOVEN SHORTS.png</td>\n      <td>https://www.calvinklein.com/hk/en/active-icon-...</td>\n    </tr>\n    <tr>\n      <th>3</th>\n      <td>ACTIVE ICON FULL LENGTH ALL-OVER PRINT LEGGINGS</td>\n      <td>HKD 483.00</td>\n      <td>image/ACTIVE ICON FULL LENGTH ALL-OVER PRINT L...</td>\n      <td>https://www.calvinklein.com/hk/en/active-icon-...</td>\n    </tr>\n    <tr>\n      <th>4</th>\n      <td>LACE LIGHTWEAR JACKET</td>\n      <td>HKD 903.00</td>\n      <td>image/LACE LIGHTWEAR JACKET.png</td>\n      <td>https://www.calvinklein.com/hk/en/lace-lightwe...</td>\n    </tr>\n  </tbody>\n</table>\n</div>"
     },
     "metadata": {},
     "execution_count": 25
    }
   ],
   "source": [
    "# dataframe of 'activewear'\n",
    "\n",
    "df = pd.read_csv(f'data/{categories[0]}.csv')\n",
    "df.head()"
   ]
  },
  {
   "cell_type": "code",
   "execution_count": 26,
   "metadata": {
    "scrolled": true
   },
   "outputs": [
    {
     "output_type": "execute_result",
     "data": {
      "text/plain": [
       "12"
      ]
     },
     "metadata": {},
     "execution_count": 26
    }
   ],
   "source": [
    "# no of sucessful scraped items\n",
    "\n",
    "len(df)"
   ]
  },
  {
   "cell_type": "code",
   "execution_count": 32,
   "metadata": {
    "scrolled": true
   },
   "outputs": [
    {
     "output_type": "execute_result",
     "data": {
      "text/plain": [
       "                                                name         price  \\\n",
       "0                  REFLECTION PACKABLE ZIP UP HOODIE  HKD 1,393.00   \n",
       "1         CHINESE NEW YEAR CAPSULE REVERSIBLE JACKET  HKD 1,603.00   \n",
       "2                           SHORT HOODED WINDBREAKER  HKD 1,253.00   \n",
       "3  CHINESE NEW YEAR CAPSULE RELAXED DENIM TRUCKER...  HKD 1,533.00   \n",
       "4                                HYBRID DENIM JACKET  HKD 2,093.00   \n",
       "\n",
       "                                            img_file  \\\n",
       "0        image/REFLECTION PACKABLE ZIP UP HOODIE.png   \n",
       "1  image/CHINESE NEW YEAR CAPSULE REVERSIBLE JACK...   \n",
       "2                 image/SHORT HOODED WINDBREAKER.png   \n",
       "3  image/CHINESE NEW YEAR CAPSULE RELAXED DENIM T...   \n",
       "4                      image/HYBRID DENIM JACKET.png   \n",
       "\n",
       "                                                 url  \n",
       "0  https://www.calvinklein.com/hk/en/reflection-p...  \n",
       "1  https://www.calvinklein.com/hk/en/chinese-new-...  \n",
       "2  https://www.calvinklein.com/hk/en/short-hooded...  \n",
       "3  https://www.calvinklein.com/hk/en/chinese-new-...  \n",
       "4  https://www.calvinklein.com/hk/en/hybrid-denim...  "
      ],
      "text/html": "<div>\n<style scoped>\n    .dataframe tbody tr th:only-of-type {\n        vertical-align: middle;\n    }\n\n    .dataframe tbody tr th {\n        vertical-align: top;\n    }\n\n    .dataframe thead th {\n        text-align: right;\n    }\n</style>\n<table border=\"1\" class=\"dataframe\">\n  <thead>\n    <tr style=\"text-align: right;\">\n      <th></th>\n      <th>name</th>\n      <th>price</th>\n      <th>img_file</th>\n      <th>url</th>\n    </tr>\n  </thead>\n  <tbody>\n    <tr>\n      <th>0</th>\n      <td>REFLECTION PACKABLE ZIP UP HOODIE</td>\n      <td>HKD 1,393.00</td>\n      <td>image/REFLECTION PACKABLE ZIP UP HOODIE.png</td>\n      <td>https://www.calvinklein.com/hk/en/reflection-p...</td>\n    </tr>\n    <tr>\n      <th>1</th>\n      <td>CHINESE NEW YEAR CAPSULE REVERSIBLE JACKET</td>\n      <td>HKD 1,603.00</td>\n      <td>image/CHINESE NEW YEAR CAPSULE REVERSIBLE JACK...</td>\n      <td>https://www.calvinklein.com/hk/en/chinese-new-...</td>\n    </tr>\n    <tr>\n      <th>2</th>\n      <td>SHORT HOODED WINDBREAKER</td>\n      <td>HKD 1,253.00</td>\n      <td>image/SHORT HOODED WINDBREAKER.png</td>\n      <td>https://www.calvinklein.com/hk/en/short-hooded...</td>\n    </tr>\n    <tr>\n      <th>3</th>\n      <td>CHINESE NEW YEAR CAPSULE RELAXED DENIM TRUCKER...</td>\n      <td>HKD 1,533.00</td>\n      <td>image/CHINESE NEW YEAR CAPSULE RELAXED DENIM T...</td>\n      <td>https://www.calvinklein.com/hk/en/chinese-new-...</td>\n    </tr>\n    <tr>\n      <th>4</th>\n      <td>HYBRID DENIM JACKET</td>\n      <td>HKD 2,093.00</td>\n      <td>image/HYBRID DENIM JACKET.png</td>\n      <td>https://www.calvinklein.com/hk/en/hybrid-denim...</td>\n    </tr>\n  </tbody>\n</table>\n</div>"
     },
     "metadata": {},
     "execution_count": 32
    }
   ],
   "source": [
    "# dataframe of 'jackets'\n",
    "\n",
    "df = pd.read_csv(f'data/{categories[1]}.csv')\n",
    "df.head()"
   ]
  },
  {
   "cell_type": "code",
   "execution_count": 33,
   "metadata": {},
   "outputs": [
    {
     "output_type": "execute_result",
     "data": {
      "text/plain": [
       "11"
      ]
     },
     "metadata": {},
     "execution_count": 33
    }
   ],
   "source": [
    "# no of sucessful scraped items\n",
    "\n",
    "len(df)"
   ]
  },
  {
   "cell_type": "code",
   "execution_count": 21,
   "metadata": {},
   "outputs": [
    {
     "output_type": "execute_result",
     "data": {
      "text/plain": [
       "                                     name         price  \\\n",
       "0    MODERN ESSENTIALS+ MICRO LOGO HOODIE    HKD 763.00   \n",
       "1                  REFLECTION HOODED CAPE    HKD 903.00   \n",
       "2  REFLECTION INSTITUTIONAL ZIP UP HOODIE    HKD 903.00   \n",
       "3                PREMIUM MIX MEDIA HOODIE  HKD 1,183.00   \n",
       "4         PREMIUM FLORAL PRINT SWEATSHIRT    HKD 903.00   \n",
       "\n",
       "                                           img_file  \\\n",
       "0    image/MODERN ESSENTIALS+ MICRO LOGO HOODIE.png   \n",
       "1                  image/REFLECTION HOODED CAPE.png   \n",
       "2  image/REFLECTION INSTITUTIONAL ZIP UP HOODIE.png   \n",
       "3                image/PREMIUM MIX MEDIA HOODIE.png   \n",
       "4         image/PREMIUM FLORAL PRINT SWEATSHIRT.png   \n",
       "\n",
       "                                                 url  \n",
       "0  https://www.calvinklein.com/hk/en/modern-essen...  \n",
       "1  https://www.calvinklein.com/hk/en/reflection-h...  \n",
       "2  https://www.calvinklein.com/hk/en/reflection-i...  \n",
       "3  https://www.calvinklein.com/hk/en/premium-mix-...  \n",
       "4  https://www.calvinklein.com/hk/en/premium-flor...  "
      ],
      "text/html": "<div>\n<style scoped>\n    .dataframe tbody tr th:only-of-type {\n        vertical-align: middle;\n    }\n\n    .dataframe tbody tr th {\n        vertical-align: top;\n    }\n\n    .dataframe thead th {\n        text-align: right;\n    }\n</style>\n<table border=\"1\" class=\"dataframe\">\n  <thead>\n    <tr style=\"text-align: right;\">\n      <th></th>\n      <th>name</th>\n      <th>price</th>\n      <th>img_file</th>\n      <th>url</th>\n    </tr>\n  </thead>\n  <tbody>\n    <tr>\n      <th>0</th>\n      <td>MODERN ESSENTIALS+ MICRO LOGO HOODIE</td>\n      <td>HKD 763.00</td>\n      <td>image/MODERN ESSENTIALS+ MICRO LOGO HOODIE.png</td>\n      <td>https://www.calvinklein.com/hk/en/modern-essen...</td>\n    </tr>\n    <tr>\n      <th>1</th>\n      <td>REFLECTION HOODED CAPE</td>\n      <td>HKD 903.00</td>\n      <td>image/REFLECTION HOODED CAPE.png</td>\n      <td>https://www.calvinklein.com/hk/en/reflection-h...</td>\n    </tr>\n    <tr>\n      <th>2</th>\n      <td>REFLECTION INSTITUTIONAL ZIP UP HOODIE</td>\n      <td>HKD 903.00</td>\n      <td>image/REFLECTION INSTITUTIONAL ZIP UP HOODIE.png</td>\n      <td>https://www.calvinklein.com/hk/en/reflection-i...</td>\n    </tr>\n    <tr>\n      <th>3</th>\n      <td>PREMIUM MIX MEDIA HOODIE</td>\n      <td>HKD 1,183.00</td>\n      <td>image/PREMIUM MIX MEDIA HOODIE.png</td>\n      <td>https://www.calvinklein.com/hk/en/premium-mix-...</td>\n    </tr>\n    <tr>\n      <th>4</th>\n      <td>PREMIUM FLORAL PRINT SWEATSHIRT</td>\n      <td>HKD 903.00</td>\n      <td>image/PREMIUM FLORAL PRINT SWEATSHIRT.png</td>\n      <td>https://www.calvinklein.com/hk/en/premium-flor...</td>\n    </tr>\n  </tbody>\n</table>\n</div>"
     },
     "metadata": {},
     "execution_count": 21
    }
   ],
   "source": [
    "# dataframe of 'sweatshirts-hoodies'\n",
    "\n",
    "df = pd.read_csv(f'data/{categories[2]}.csv')\n",
    "df.head()"
   ]
  },
  {
   "cell_type": "code",
   "execution_count": 22,
   "metadata": {},
   "outputs": [
    {
     "output_type": "execute_result",
     "data": {
      "text/plain": [
       "12"
      ]
     },
     "metadata": {},
     "execution_count": 22
    }
   ],
   "source": [
    "# no of sucessful scraped items\n",
    "\n",
    "len(df)"
   ]
  },
  {
   "cell_type": "code",
   "execution_count": null,
   "metadata": {},
   "outputs": [],
   "source": []
  },
  {
   "cell_type": "code",
   "execution_count": null,
   "metadata": {},
   "outputs": [],
   "source": []
  },
  {
   "cell_type": "code",
   "execution_count": 12,
   "metadata": {},
   "outputs": [],
   "source": [
    "# END"
   ]
  }
 ],
 "metadata": {
  "kernelspec": {
   "name": "python3",
   "display_name": "Python 3.9.5 64-bit ('env': venv)"
  },
  "language_info": {
   "codemirror_mode": {
    "name": "ipython",
    "version": 3
   },
   "file_extension": ".py",
   "mimetype": "text/x-python",
   "name": "python",
   "nbconvert_exporter": "python",
   "pygments_lexer": "ipython3",
   "version": "3.9.5"
  },
  "interpreter": {
   "hash": "fa3fba418643e7663ba7576308ac3a337e9dc56c31f42a0bad2dca4c82d258a0"
  }
 },
 "nbformat": 4,
 "nbformat_minor": 4
}